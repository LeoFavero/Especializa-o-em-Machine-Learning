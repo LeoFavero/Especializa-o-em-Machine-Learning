{
 "cells": [
  {
   "cell_type": "code",
   "execution_count": 86,
   "metadata": {
    "collapsed": false
   },
   "outputs": [
    {
     "name": "stdout",
     "output_type": "stream",
     "text": [
      "5.714285714285714\n",
      "19.6\n",
      "Desvio padrão populacional: 0.0708801805867\n",
      "Desvio padrão amostral:  0.0747142705393\n",
      "75.0\n",
      "203.28571428571428\n"
     ]
    },
    {
     "data": {
      "text/plain": [
       "70.5"
      ]
     },
     "execution_count": 86,
     "metadata": {},
     "output_type": "execute_result"
    }
   ],
   "source": [
    "L=list(range(17,24))\n",
    "f = [1,11,8,7,10,2,1]\n",
    "print(sum(f)/len(f))\n",
    "\n",
    "import numpy as np\n",
    "weighted_avg = np.average(L, weights=f)\n",
    "print(weighted_avg)\n",
    "\n",
    "L = [1.72,1.60,1.74,1.88,1.82,1.75,1.82,1.75,1.75,1.73]\n",
    "print(\"Desvio padrão populacional:\", np.std(L))\n",
    "print(\"Desvio padrão amostral: \", np.std(L,ddof=1))\n",
    "\n",
    "\n",
    "L = [52,60,71,75,75,90,1000]\n",
    "import pandas as pd\n",
    "Lpd = pd.Series(L)\n",
    "print(Lpd.median())\n",
    "\n",
    "print(Lpd.mean())\n",
    "pd.Series([52,60,71,75,75,90]).mean()"
   ]
  },
  {
   "cell_type": "code",
   "execution_count": null,
   "metadata": {
    "collapsed": true
   },
   "outputs": [],
   "source": []
  },
  {
   "cell_type": "code",
   "execution_count": 105,
   "metadata": {
    "collapsed": false
   },
   "outputs": [
    {
     "name": "stdout",
     "output_type": "stream",
     "text": [
      "0.398942280401\n",
      "0.5\n",
      "0.874928064363\n",
      "0.0327866430085\n",
      "0.433816167389\n",
      "0.5\n"
     ]
    },
    {
     "data": {
      "text/plain": [
       "0.68268949213708585"
      ]
     },
     "execution_count": 105,
     "metadata": {},
     "output_type": "execute_result"
    }
   ],
   "source": [
    "import numpy as np\n",
    "import scipy\n",
    "import matplotlib.pyplot as plt\n",
    "import seaborn as sns\n",
    "\n",
    "np.random.seed(123)\n",
    "x = np.random.randn(10000) # generate samples from normal distribution (discrete data)\n",
    "norm_cdf = scipy.stats.norm.cdf(x) # calculate the cdf - also discrete\n",
    "\n",
    "# plot the cdf\n",
    "#sns.lineplot(x=x, y=norm_cdf)\n",
    "#plt.show()\n",
    "\n",
    "#Encontrar a probabilidade\n",
    "scipy.stats.norm.cdf(2.56,0,1)\n",
    "#Encontrar valor de Z - Percent Point Function (inversa da cdf)\n",
    "scipy.stats.norm.ppf(0.95,0,1)\n",
    "\n",
    "\n",
    "import scipy.stats\n",
    "print(scipy.stats.norm(0, 1).pdf(0))\n",
    "print(scipy.stats.norm(0, 1).cdf(0))\n",
    "print(scipy.stats.norm(0, 1).cdf(1.15))\n",
    "print(scipy.stats.norm(100, 12).pdf(98))\n",
    "print(scipy.stats.norm(100, 12).cdf(98))\n",
    "print(scipy.stats.norm(100, 12).cdf(100))\n",
    "\n",
    "scipy.stats.norm.cdf(1.15,0,1)\n",
    "\n",
    "scipy.stats.norm(100, 12).cdf(112) - scipy.stats.norm(100, 12).cdf(88)\n",
    "scipy.stats.norm(0, 1).cdf(1) - scipy.stats.norm(0, 1).cdf(-1)"
   ]
  },
  {
   "cell_type": "code",
   "execution_count": 78,
   "metadata": {
    "collapsed": false
   },
   "outputs": [
    {
     "name": "stdout",
     "output_type": "stream",
     "text": [
      "9892.9212539\n",
      "998.473617011\n",
      "989.740548697\n"
     ]
    },
    {
     "data": {
      "text/plain": [
       "Ttest_1sampResult(statistic=70.689068547402044, pvalue=5.551055102945442e-51)"
      ]
     },
     "execution_count": 78,
     "metadata": {},
     "output_type": "execute_result"
    }
   ],
   "source": [
    "from scipy.stats import norm\n",
    "from scipy import stats\n",
    "\n",
    "x1 = norm.rvs(loc=10000, scale=1000, size=50)\n",
    "x2 = norm.rvs(loc=1000, scale=100, size=50)\n",
    "x3 = norm.rvs(loc=1000, scale=100, size=50)\n",
    "\n",
    "print(x1.mean())\n",
    "print(x2.mean())\n",
    "print(x3.mean())\n",
    "\n",
    "stats.ttest_1samp(x1,0)\n",
    "\n",
    "#stats.ttest_ind(x1,x2)\n",
    "\n",
    "#stats.ttest_ind(x2,x3)"
   ]
  },
  {
   "cell_type": "code",
   "execution_count": 129,
   "metadata": {
    "collapsed": false
   },
   "outputs": [
    {
     "data": {
      "text/plain": [
       "(0.5452062487602234, 1.2377598977764137e-05)"
      ]
     },
     "execution_count": 129,
     "metadata": {},
     "output_type": "execute_result"
    }
   ],
   "source": [
    "from scipy.stats import shapiro\n",
    "#np.random.seed(123)\n",
    "x = np.random.randn(10) #\n",
    "shapiro(x)"
   ]
  }
 ],
 "metadata": {
  "kernelspec": {
   "display_name": "Python 3",
   "language": "python",
   "name": "python3"
  },
  "language_info": {
   "codemirror_mode": {
    "name": "ipython",
    "version": 3
   },
   "file_extension": ".py",
   "mimetype": "text/x-python",
   "name": "python",
   "nbconvert_exporter": "python",
   "pygments_lexer": "ipython3",
   "version": "3.6.0"
  }
 },
 "nbformat": 4,
 "nbformat_minor": 2
}
