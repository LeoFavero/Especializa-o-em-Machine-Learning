{
 "cells": [
  {
   "cell_type": "code",
   "execution_count": 169,
   "metadata": {},
   "outputs": [],
   "source": [
    "import numpy as np\n",
    "import pandas as pd\n",
    "import seaborn as sns \n",
    "import os\n",
    "\n",
    "from scipy.stats import shapiro\n",
    "from scipy.stats import norm\n",
    "from scipy import stats\n",
    "\n",
    "from matplotlib import pyplot as plt\n",
    "\n",
    "from sklearn.linear_model import LinearRegression\n",
    "from sklearn.model_selection import train_test_split\n",
    "from sklearn import metrics"
   ]
  },
  {
   "cell_type": "markdown",
   "metadata": {},
   "source": [
    "### Load Dataset into Pandas DataFrame"
   ]
  },
  {
   "cell_type": "code",
   "execution_count": 178,
   "metadata": {},
   "outputs": [
    {
     "data": {
      "text/html": [
       "<div>\n",
       "<style scoped>\n",
       "    .dataframe tbody tr th:only-of-type {\n",
       "        vertical-align: middle;\n",
       "    }\n",
       "\n",
       "    .dataframe tbody tr th {\n",
       "        vertical-align: top;\n",
       "    }\n",
       "\n",
       "    .dataframe thead th {\n",
       "        text-align: right;\n",
       "    }\n",
       "</style>\n",
       "<table border=\"1\" class=\"dataframe\">\n",
       "  <thead>\n",
       "    <tr style=\"text-align: right;\">\n",
       "      <th></th>\n",
       "      <th>Região - Sigla</th>\n",
       "      <th>Estado - Sigla</th>\n",
       "      <th>Município</th>\n",
       "      <th>Revenda</th>\n",
       "      <th>CNPJ da Revenda</th>\n",
       "      <th>Produto</th>\n",
       "      <th>Data da Coleta</th>\n",
       "      <th>Valor de Venda</th>\n",
       "      <th>Valor de Compra</th>\n",
       "      <th>Unidade de Medida</th>\n",
       "      <th>Bandeira</th>\n",
       "    </tr>\n",
       "  </thead>\n",
       "  <tbody>\n",
       "    <tr>\n",
       "      <td>0</td>\n",
       "      <td>CO</td>\n",
       "      <td>DF</td>\n",
       "      <td>BRASILIA</td>\n",
       "      <td>A E M COMÉRCIO DE GÁS LTDA - ME</td>\n",
       "      <td>10951825000145</td>\n",
       "      <td>GLP</td>\n",
       "      <td>01/04/2019</td>\n",
       "      <td>70</td>\n",
       "      <td>NaN</td>\n",
       "      <td>R$ / 13 kg</td>\n",
       "      <td>BRANCA</td>\n",
       "    </tr>\n",
       "    <tr>\n",
       "      <td>1</td>\n",
       "      <td>CO</td>\n",
       "      <td>DF</td>\n",
       "      <td>BRASILIA</td>\n",
       "      <td>A E M COMÉRCIO DE GÁS LTDA - ME</td>\n",
       "      <td>10951825000145</td>\n",
       "      <td>GLP</td>\n",
       "      <td>02/01/2019</td>\n",
       "      <td>70</td>\n",
       "      <td>NaN</td>\n",
       "      <td>R$ / 13 kg</td>\n",
       "      <td>BRANCA</td>\n",
       "    </tr>\n",
       "    <tr>\n",
       "      <td>2</td>\n",
       "      <td>CO</td>\n",
       "      <td>DF</td>\n",
       "      <td>BRASILIA</td>\n",
       "      <td>A E M COMÉRCIO DE GÁS LTDA - ME</td>\n",
       "      <td>10951825000145</td>\n",
       "      <td>GLP</td>\n",
       "      <td>04/02/2019</td>\n",
       "      <td>70</td>\n",
       "      <td>NaN</td>\n",
       "      <td>R$ / 13 kg</td>\n",
       "      <td>BRANCA</td>\n",
       "    </tr>\n",
       "    <tr>\n",
       "      <td>3</td>\n",
       "      <td>CO</td>\n",
       "      <td>DF</td>\n",
       "      <td>BRASILIA</td>\n",
       "      <td>A E M COMÉRCIO DE GÁS LTDA - ME</td>\n",
       "      <td>10951825000145</td>\n",
       "      <td>GLP</td>\n",
       "      <td>04/03/2019</td>\n",
       "      <td>70</td>\n",
       "      <td>NaN</td>\n",
       "      <td>R$ / 13 kg</td>\n",
       "      <td>BRANCA</td>\n",
       "    </tr>\n",
       "    <tr>\n",
       "      <td>4</td>\n",
       "      <td>CO</td>\n",
       "      <td>DF</td>\n",
       "      <td>BRASILIA</td>\n",
       "      <td>A E M COMÉRCIO DE GÁS LTDA - ME</td>\n",
       "      <td>10951825000145</td>\n",
       "      <td>GLP</td>\n",
       "      <td>06/06/2019</td>\n",
       "      <td>70</td>\n",
       "      <td>NaN</td>\n",
       "      <td>R$ / 13 kg</td>\n",
       "      <td>BRANCA</td>\n",
       "    </tr>\n",
       "    <tr>\n",
       "      <td>5</td>\n",
       "      <td>CO</td>\n",
       "      <td>DF</td>\n",
       "      <td>BRASILIA</td>\n",
       "      <td>A E M COMÉRCIO DE GÁS LTDA - ME</td>\n",
       "      <td>10951825000145</td>\n",
       "      <td>GLP</td>\n",
       "      <td>07/01/2019</td>\n",
       "      <td>70</td>\n",
       "      <td>NaN</td>\n",
       "      <td>R$ / 13 kg</td>\n",
       "      <td>BRANCA</td>\n",
       "    </tr>\n",
       "    <tr>\n",
       "      <td>6</td>\n",
       "      <td>CO</td>\n",
       "      <td>DF</td>\n",
       "      <td>BRASILIA</td>\n",
       "      <td>A E M COMÉRCIO DE GÁS LTDA - ME</td>\n",
       "      <td>10951825000145</td>\n",
       "      <td>GLP</td>\n",
       "      <td>08/04/2019</td>\n",
       "      <td>70</td>\n",
       "      <td>NaN</td>\n",
       "      <td>R$ / 13 kg</td>\n",
       "      <td>BRANCA</td>\n",
       "    </tr>\n",
       "    <tr>\n",
       "      <td>7</td>\n",
       "      <td>CO</td>\n",
       "      <td>DF</td>\n",
       "      <td>BRASILIA</td>\n",
       "      <td>A E M COMÉRCIO DE GÁS LTDA - ME</td>\n",
       "      <td>10951825000145</td>\n",
       "      <td>GLP</td>\n",
       "      <td>08/05/2019</td>\n",
       "      <td>70</td>\n",
       "      <td>NaN</td>\n",
       "      <td>R$ / 13 kg</td>\n",
       "      <td>BRANCA</td>\n",
       "    </tr>\n",
       "    <tr>\n",
       "      <td>8</td>\n",
       "      <td>CO</td>\n",
       "      <td>DF</td>\n",
       "      <td>BRASILIA</td>\n",
       "      <td>A E M COMÉRCIO DE GÁS LTDA - ME</td>\n",
       "      <td>10951825000145</td>\n",
       "      <td>GLP</td>\n",
       "      <td>11/02/2019</td>\n",
       "      <td>70</td>\n",
       "      <td>NaN</td>\n",
       "      <td>R$ / 13 kg</td>\n",
       "      <td>BRANCA</td>\n",
       "    </tr>\n",
       "    <tr>\n",
       "      <td>9</td>\n",
       "      <td>CO</td>\n",
       "      <td>DF</td>\n",
       "      <td>BRASILIA</td>\n",
       "      <td>A E M COMÉRCIO DE GÁS LTDA - ME</td>\n",
       "      <td>10951825000145</td>\n",
       "      <td>GLP</td>\n",
       "      <td>11/03/2019</td>\n",
       "      <td>70</td>\n",
       "      <td>NaN</td>\n",
       "      <td>R$ / 13 kg</td>\n",
       "      <td>BRANCA</td>\n",
       "    </tr>\n",
       "  </tbody>\n",
       "</table>\n",
       "</div>"
      ],
      "text/plain": [
       "  Região - Sigla Estado - Sigla Município                          Revenda  \\\n",
       "0             CO             DF  BRASILIA  A E M COMÉRCIO DE GÁS LTDA - ME   \n",
       "1             CO             DF  BRASILIA  A E M COMÉRCIO DE GÁS LTDA - ME   \n",
       "2             CO             DF  BRASILIA  A E M COMÉRCIO DE GÁS LTDA - ME   \n",
       "3             CO             DF  BRASILIA  A E M COMÉRCIO DE GÁS LTDA - ME   \n",
       "4             CO             DF  BRASILIA  A E M COMÉRCIO DE GÁS LTDA - ME   \n",
       "5             CO             DF  BRASILIA  A E M COMÉRCIO DE GÁS LTDA - ME   \n",
       "6             CO             DF  BRASILIA  A E M COMÉRCIO DE GÁS LTDA - ME   \n",
       "7             CO             DF  BRASILIA  A E M COMÉRCIO DE GÁS LTDA - ME   \n",
       "8             CO             DF  BRASILIA  A E M COMÉRCIO DE GÁS LTDA - ME   \n",
       "9             CO             DF  BRASILIA  A E M COMÉRCIO DE GÁS LTDA - ME   \n",
       "\n",
       "   CNPJ da Revenda Produto Data da Coleta Valor de Venda Valor de Compra  \\\n",
       "0   10951825000145     GLP     01/04/2019             70             NaN   \n",
       "1   10951825000145     GLP     02/01/2019             70             NaN   \n",
       "2   10951825000145     GLP     04/02/2019             70             NaN   \n",
       "3   10951825000145     GLP     04/03/2019             70             NaN   \n",
       "4   10951825000145     GLP     06/06/2019             70             NaN   \n",
       "5   10951825000145     GLP     07/01/2019             70             NaN   \n",
       "6   10951825000145     GLP     08/04/2019             70             NaN   \n",
       "7   10951825000145     GLP     08/05/2019             70             NaN   \n",
       "8   10951825000145     GLP     11/02/2019             70             NaN   \n",
       "9   10951825000145     GLP     11/03/2019             70             NaN   \n",
       "\n",
       "  Unidade de Medida Bandeira  \n",
       "0        R$ / 13 kg   BRANCA  \n",
       "1        R$ / 13 kg   BRANCA  \n",
       "2        R$ / 13 kg   BRANCA  \n",
       "3        R$ / 13 kg   BRANCA  \n",
       "4        R$ / 13 kg   BRANCA  \n",
       "5        R$ / 13 kg   BRANCA  \n",
       "6        R$ / 13 kg   BRANCA  \n",
       "7        R$ / 13 kg   BRANCA  \n",
       "8        R$ / 13 kg   BRANCA  \n",
       "9        R$ / 13 kg   BRANCA  "
      ]
     },
     "execution_count": 178,
     "metadata": {},
     "output_type": "execute_result"
    }
   ],
   "source": [
    "os.chdir('/Users/leonardofaverobocardi/Documents/GitHub/Python_Bootcamp/Módulo 02/db')\n",
    "data = pd.read_csv('2019-1_GLP.csv', encoding = 'UTF-8', delimiter='\\t', error_bad_lines=False)\n",
    "data.head(10)"
   ]
  },
  {
   "cell_type": "markdown",
   "metadata": {},
   "source": [
    "### Dataset Exploration"
   ]
  },
  {
   "cell_type": "code",
   "execution_count": 83,
   "metadata": {},
   "outputs": [
    {
     "data": {
      "text/plain": [
       "(113707, 11)"
      ]
     },
     "execution_count": 83,
     "metadata": {},
     "output_type": "execute_result"
    }
   ],
   "source": [
    "data.shape"
   ]
  },
  {
   "cell_type": "code",
   "execution_count": 84,
   "metadata": {},
   "outputs": [
    {
     "data": {
      "text/plain": [
       "Região - Sigla       object\n",
       "Estado - Sigla       object\n",
       "Município            object\n",
       "Revenda              object\n",
       "CNPJ da Revenda       int64\n",
       "Produto              object\n",
       "Data da Coleta       object\n",
       "Valor de Venda       object\n",
       "Valor de Compra      object\n",
       "Unidade de Medida    object\n",
       "Bandeira             object\n",
       "dtype: object"
      ]
     },
     "execution_count": 84,
     "metadata": {},
     "output_type": "execute_result"
    }
   ],
   "source": [
    "data.dtypes"
   ]
  },
  {
   "cell_type": "code",
   "execution_count": 179,
   "metadata": {},
   "outputs": [
    {
     "data": {
      "text/plain": [
       "Região - Sigla        object\n",
       "Estado - Sigla        object\n",
       "Município             object\n",
       "Revenda               object\n",
       "CNPJ da Revenda        int64\n",
       "Produto               object\n",
       "Data da Coleta        object\n",
       "Valor de Venda       float64\n",
       "Valor de Compra      float64\n",
       "Unidade de Medida     object\n",
       "Bandeira              object\n",
       "dtype: object"
      ]
     },
     "execution_count": 179,
     "metadata": {},
     "output_type": "execute_result"
    }
   ],
   "source": [
    "data['Valor de Venda'] = pd.to_numeric(data['Valor de Venda'], errors='coerce')\n",
    "data['Valor de Compra'] = pd.to_numeric(data['Valor de Compra'], errors='coerce')\n",
    "data.dtypes"
   ]
  },
  {
   "cell_type": "code",
   "execution_count": 180,
   "metadata": {},
   "outputs": [
    {
     "data": {
      "text/html": [
       "<div>\n",
       "<style scoped>\n",
       "    .dataframe tbody tr th:only-of-type {\n",
       "        vertical-align: middle;\n",
       "    }\n",
       "\n",
       "    .dataframe tbody tr th {\n",
       "        vertical-align: top;\n",
       "    }\n",
       "\n",
       "    .dataframe thead th {\n",
       "        text-align: right;\n",
       "    }\n",
       "</style>\n",
       "<table border=\"1\" class=\"dataframe\">\n",
       "  <thead>\n",
       "    <tr style=\"text-align: right;\">\n",
       "      <th></th>\n",
       "      <th>Região - Sigla</th>\n",
       "      <th>Estado - Sigla</th>\n",
       "      <th>Município</th>\n",
       "      <th>Revenda</th>\n",
       "      <th>CNPJ da Revenda</th>\n",
       "      <th>Produto</th>\n",
       "      <th>Data da Coleta</th>\n",
       "      <th>Valor de Venda</th>\n",
       "      <th>Valor de Compra</th>\n",
       "      <th>Unidade de Medida</th>\n",
       "      <th>Bandeira</th>\n",
       "    </tr>\n",
       "  </thead>\n",
       "  <tbody>\n",
       "    <tr>\n",
       "      <td>441</td>\n",
       "      <td>CO</td>\n",
       "      <td>DF</td>\n",
       "      <td>BRASILIA</td>\n",
       "      <td>CLAUDIA MARQUES CARNEIRO FRAGA</td>\n",
       "      <td>2106991000117</td>\n",
       "      <td>GLP</td>\n",
       "      <td>01/04/2019</td>\n",
       "      <td>75.0</td>\n",
       "      <td>44.0</td>\n",
       "      <td>R$ / 13 kg</td>\n",
       "      <td>BRANCA</td>\n",
       "    </tr>\n",
       "    <tr>\n",
       "      <td>442</td>\n",
       "      <td>CO</td>\n",
       "      <td>DF</td>\n",
       "      <td>BRASILIA</td>\n",
       "      <td>CLAUDIA MARQUES CARNEIRO FRAGA</td>\n",
       "      <td>2106991000117</td>\n",
       "      <td>GLP</td>\n",
       "      <td>02/01/2019</td>\n",
       "      <td>75.0</td>\n",
       "      <td>55.0</td>\n",
       "      <td>R$ / 13 kg</td>\n",
       "      <td>BRANCA</td>\n",
       "    </tr>\n",
       "    <tr>\n",
       "      <td>443</td>\n",
       "      <td>CO</td>\n",
       "      <td>DF</td>\n",
       "      <td>BRASILIA</td>\n",
       "      <td>CLAUDIA MARQUES CARNEIRO FRAGA</td>\n",
       "      <td>2106991000117</td>\n",
       "      <td>GLP</td>\n",
       "      <td>04/02/2019</td>\n",
       "      <td>75.0</td>\n",
       "      <td>55.0</td>\n",
       "      <td>R$ / 13 kg</td>\n",
       "      <td>BRANCA</td>\n",
       "    </tr>\n",
       "    <tr>\n",
       "      <td>444</td>\n",
       "      <td>CO</td>\n",
       "      <td>DF</td>\n",
       "      <td>BRASILIA</td>\n",
       "      <td>CLAUDIA MARQUES CARNEIRO FRAGA</td>\n",
       "      <td>2106991000117</td>\n",
       "      <td>GLP</td>\n",
       "      <td>04/03/2019</td>\n",
       "      <td>75.0</td>\n",
       "      <td>55.0</td>\n",
       "      <td>R$ / 13 kg</td>\n",
       "      <td>BRANCA</td>\n",
       "    </tr>\n",
       "    <tr>\n",
       "      <td>445</td>\n",
       "      <td>CO</td>\n",
       "      <td>DF</td>\n",
       "      <td>BRASILIA</td>\n",
       "      <td>CLAUDIA MARQUES CARNEIRO FRAGA</td>\n",
       "      <td>2106991000117</td>\n",
       "      <td>GLP</td>\n",
       "      <td>06/06/2019</td>\n",
       "      <td>75.0</td>\n",
       "      <td>44.0</td>\n",
       "      <td>R$ / 13 kg</td>\n",
       "      <td>BRANCA</td>\n",
       "    </tr>\n",
       "    <tr>\n",
       "      <td>...</td>\n",
       "      <td>...</td>\n",
       "      <td>...</td>\n",
       "      <td>...</td>\n",
       "      <td>...</td>\n",
       "      <td>...</td>\n",
       "      <td>...</td>\n",
       "      <td>...</td>\n",
       "      <td>...</td>\n",
       "      <td>...</td>\n",
       "      <td>...</td>\n",
       "      <td>...</td>\n",
       "    </tr>\n",
       "    <tr>\n",
       "      <td>113576</td>\n",
       "      <td>SE</td>\n",
       "      <td>SP</td>\n",
       "      <td>VOTORANTIM</td>\n",
       "      <td>OSVALDAIR SOARES DE LIMA ME.</td>\n",
       "      <td>8676349000150</td>\n",
       "      <td>GLP</td>\n",
       "      <td>31/01/2019</td>\n",
       "      <td>60.0</td>\n",
       "      <td>50.0</td>\n",
       "      <td>R$ / 13 kg</td>\n",
       "      <td>BRANCA</td>\n",
       "    </tr>\n",
       "    <tr>\n",
       "      <td>113647</td>\n",
       "      <td>SE</td>\n",
       "      <td>SP</td>\n",
       "      <td>VOTUPORANGA</td>\n",
       "      <td>GISELLE ALINE DE SEIXAS ESCAVASSA - ME</td>\n",
       "      <td>5528947000193</td>\n",
       "      <td>GLP</td>\n",
       "      <td>02/05/2019</td>\n",
       "      <td>65.0</td>\n",
       "      <td>44.0</td>\n",
       "      <td>R$ / 13 kg</td>\n",
       "      <td>BRANCA</td>\n",
       "    </tr>\n",
       "    <tr>\n",
       "      <td>113649</td>\n",
       "      <td>SE</td>\n",
       "      <td>SP</td>\n",
       "      <td>VOTUPORANGA</td>\n",
       "      <td>GISELLE ALINE DE SEIXAS ESCAVASSA - ME</td>\n",
       "      <td>5528947000193</td>\n",
       "      <td>GLP</td>\n",
       "      <td>04/04/2019</td>\n",
       "      <td>65.0</td>\n",
       "      <td>44.0</td>\n",
       "      <td>R$ / 13 kg</td>\n",
       "      <td>BRANCA</td>\n",
       "    </tr>\n",
       "    <tr>\n",
       "      <td>113667</td>\n",
       "      <td>SE</td>\n",
       "      <td>SP</td>\n",
       "      <td>VOTUPORANGA</td>\n",
       "      <td>GISELLE ALINE DE SEIXAS ESCAVASSA - ME</td>\n",
       "      <td>5528947000193</td>\n",
       "      <td>GLP</td>\n",
       "      <td>25/04/2019</td>\n",
       "      <td>65.0</td>\n",
       "      <td>44.0</td>\n",
       "      <td>R$ / 13 kg</td>\n",
       "      <td>BRANCA</td>\n",
       "    </tr>\n",
       "    <tr>\n",
       "      <td>113670</td>\n",
       "      <td>SE</td>\n",
       "      <td>SP</td>\n",
       "      <td>VOTUPORANGA</td>\n",
       "      <td>GISELLE ALINE DE SEIXAS ESCAVASSA - ME</td>\n",
       "      <td>5528947000193</td>\n",
       "      <td>GLP</td>\n",
       "      <td>28/03/2019</td>\n",
       "      <td>65.0</td>\n",
       "      <td>44.0</td>\n",
       "      <td>R$ / 13 kg</td>\n",
       "      <td>BRANCA</td>\n",
       "    </tr>\n",
       "  </tbody>\n",
       "</table>\n",
       "<p>10512 rows × 11 columns</p>\n",
       "</div>"
      ],
      "text/plain": [
       "       Região - Sigla Estado - Sigla    Município  \\\n",
       "441                CO             DF     BRASILIA   \n",
       "442                CO             DF     BRASILIA   \n",
       "443                CO             DF     BRASILIA   \n",
       "444                CO             DF     BRASILIA   \n",
       "445                CO             DF     BRASILIA   \n",
       "...               ...            ...          ...   \n",
       "113576             SE             SP   VOTORANTIM   \n",
       "113647             SE             SP  VOTUPORANGA   \n",
       "113649             SE             SP  VOTUPORANGA   \n",
       "113667             SE             SP  VOTUPORANGA   \n",
       "113670             SE             SP  VOTUPORANGA   \n",
       "\n",
       "                                       Revenda  CNPJ da Revenda Produto  \\\n",
       "441             CLAUDIA MARQUES CARNEIRO FRAGA    2106991000117     GLP   \n",
       "442             CLAUDIA MARQUES CARNEIRO FRAGA    2106991000117     GLP   \n",
       "443             CLAUDIA MARQUES CARNEIRO FRAGA    2106991000117     GLP   \n",
       "444             CLAUDIA MARQUES CARNEIRO FRAGA    2106991000117     GLP   \n",
       "445             CLAUDIA MARQUES CARNEIRO FRAGA    2106991000117     GLP   \n",
       "...                                        ...              ...     ...   \n",
       "113576            OSVALDAIR SOARES DE LIMA ME.    8676349000150     GLP   \n",
       "113647  GISELLE ALINE DE SEIXAS ESCAVASSA - ME    5528947000193     GLP   \n",
       "113649  GISELLE ALINE DE SEIXAS ESCAVASSA - ME    5528947000193     GLP   \n",
       "113667  GISELLE ALINE DE SEIXAS ESCAVASSA - ME    5528947000193     GLP   \n",
       "113670  GISELLE ALINE DE SEIXAS ESCAVASSA - ME    5528947000193     GLP   \n",
       "\n",
       "       Data da Coleta  Valor de Venda  Valor de Compra Unidade de Medida  \\\n",
       "441        01/04/2019            75.0             44.0        R$ / 13 kg   \n",
       "442        02/01/2019            75.0             55.0        R$ / 13 kg   \n",
       "443        04/02/2019            75.0             55.0        R$ / 13 kg   \n",
       "444        04/03/2019            75.0             55.0        R$ / 13 kg   \n",
       "445        06/06/2019            75.0             44.0        R$ / 13 kg   \n",
       "...               ...             ...              ...               ...   \n",
       "113576     31/01/2019            60.0             50.0        R$ / 13 kg   \n",
       "113647     02/05/2019            65.0             44.0        R$ / 13 kg   \n",
       "113649     04/04/2019            65.0             44.0        R$ / 13 kg   \n",
       "113667     25/04/2019            65.0             44.0        R$ / 13 kg   \n",
       "113670     28/03/2019            65.0             44.0        R$ / 13 kg   \n",
       "\n",
       "       Bandeira  \n",
       "441      BRANCA  \n",
       "442      BRANCA  \n",
       "443      BRANCA  \n",
       "444      BRANCA  \n",
       "445      BRANCA  \n",
       "...         ...  \n",
       "113576   BRANCA  \n",
       "113647   BRANCA  \n",
       "113649   BRANCA  \n",
       "113667   BRANCA  \n",
       "113670   BRANCA  \n",
       "\n",
       "[10512 rows x 11 columns]"
      ]
     },
     "execution_count": 180,
     "metadata": {},
     "output_type": "execute_result"
    }
   ],
   "source": [
    "data.dropna(inplace=True)\n",
    "data"
   ]
  },
  {
   "cell_type": "code",
   "execution_count": 87,
   "metadata": {},
   "outputs": [
    {
     "data": {
      "text/html": [
       "<div>\n",
       "<style scoped>\n",
       "    .dataframe tbody tr th:only-of-type {\n",
       "        vertical-align: middle;\n",
       "    }\n",
       "\n",
       "    .dataframe tbody tr th {\n",
       "        vertical-align: top;\n",
       "    }\n",
       "\n",
       "    .dataframe thead th {\n",
       "        text-align: right;\n",
       "    }\n",
       "</style>\n",
       "<table border=\"1\" class=\"dataframe\">\n",
       "  <thead>\n",
       "    <tr style=\"text-align: right;\">\n",
       "      <th></th>\n",
       "      <th>Valor de Venda</th>\n",
       "      <th>Valor de Compra</th>\n",
       "    </tr>\n",
       "  </thead>\n",
       "  <tbody>\n",
       "    <tr>\n",
       "      <td>count</td>\n",
       "      <td>10512.000000</td>\n",
       "      <td>10512.000000</td>\n",
       "    </tr>\n",
       "    <tr>\n",
       "      <td>mean</td>\n",
       "      <td>69.962043</td>\n",
       "      <td>53.558505</td>\n",
       "    </tr>\n",
       "    <tr>\n",
       "      <td>std</td>\n",
       "      <td>8.153927</td>\n",
       "      <td>6.564087</td>\n",
       "    </tr>\n",
       "    <tr>\n",
       "      <td>min</td>\n",
       "      <td>50.000000</td>\n",
       "      <td>32.000000</td>\n",
       "    </tr>\n",
       "    <tr>\n",
       "      <td>25%</td>\n",
       "      <td>65.000000</td>\n",
       "      <td>50.000000</td>\n",
       "    </tr>\n",
       "    <tr>\n",
       "      <td>50%</td>\n",
       "      <td>70.000000</td>\n",
       "      <td>52.000000</td>\n",
       "    </tr>\n",
       "    <tr>\n",
       "      <td>75%</td>\n",
       "      <td>75.000000</td>\n",
       "      <td>55.000000</td>\n",
       "    </tr>\n",
       "    <tr>\n",
       "      <td>max</td>\n",
       "      <td>115.000000</td>\n",
       "      <td>90.000000</td>\n",
       "    </tr>\n",
       "  </tbody>\n",
       "</table>\n",
       "</div>"
      ],
      "text/plain": [
       "       Valor de Venda  Valor de Compra\n",
       "count    10512.000000     10512.000000\n",
       "mean        69.962043        53.558505\n",
       "std          8.153927         6.564087\n",
       "min         50.000000        32.000000\n",
       "25%         65.000000        50.000000\n",
       "50%         70.000000        52.000000\n",
       "75%         75.000000        55.000000\n",
       "max        115.000000        90.000000"
      ]
     },
     "execution_count": 87,
     "metadata": {},
     "output_type": "execute_result"
    }
   ],
   "source": [
    "data.describe().iloc[:,1:]"
   ]
  },
  {
   "cell_type": "code",
   "execution_count": 88,
   "metadata": {},
   "outputs": [
    {
     "data": {
      "text/html": [
       "<div>\n",
       "<style scoped>\n",
       "    .dataframe tbody tr th:only-of-type {\n",
       "        vertical-align: middle;\n",
       "    }\n",
       "\n",
       "    .dataframe tbody tr th {\n",
       "        vertical-align: top;\n",
       "    }\n",
       "\n",
       "    .dataframe thead th {\n",
       "        text-align: right;\n",
       "    }\n",
       "</style>\n",
       "<table border=\"1\" class=\"dataframe\">\n",
       "  <thead>\n",
       "    <tr style=\"text-align: right;\">\n",
       "      <th></th>\n",
       "      <th>Valor de Venda</th>\n",
       "      <th>Valor de Compra</th>\n",
       "    </tr>\n",
       "  </thead>\n",
       "  <tbody>\n",
       "    <tr>\n",
       "      <td>Valor de Venda</td>\n",
       "      <td>1.000000</td>\n",
       "      <td>0.701854</td>\n",
       "    </tr>\n",
       "    <tr>\n",
       "      <td>Valor de Compra</td>\n",
       "      <td>0.701854</td>\n",
       "      <td>1.000000</td>\n",
       "    </tr>\n",
       "  </tbody>\n",
       "</table>\n",
       "</div>"
      ],
      "text/plain": [
       "                 Valor de Venda  Valor de Compra\n",
       "Valor de Venda         1.000000         0.701854\n",
       "Valor de Compra        0.701854         1.000000"
      ]
     },
     "execution_count": 88,
     "metadata": {},
     "output_type": "execute_result"
    }
   ],
   "source": [
    "data.corr().iloc[1:,1:]"
   ]
  },
  {
   "cell_type": "code",
   "execution_count": 89,
   "metadata": {},
   "outputs": [
    {
     "data": {
      "text/plain": [
       "Text(0, 0.5, 'Valor de Venda')"
      ]
     },
     "execution_count": 89,
     "metadata": {},
     "output_type": "execute_result"
    },
    {
     "data": {
      "image/png": "[encoded data removed]",
      "text/plain": [
       "<Figure size 1152x720 with 1 Axes>"
      ]
     },
     "metadata": {
      "needs_background": "light"
     },
     "output_type": "display_data"
    }
   ],
   "source": [
    "figure = plt.figure(figsize=(16,10))\n",
    "plt.scatter(data['Valor de Compra'], data['Valor de Venda'])\n",
    "plt.xlabel('Valor de Compra')\n",
    "plt.ylabel('Valor de Venda')"
   ]
  },
  {
   "cell_type": "markdown",
   "metadata": {},
   "source": [
    "### Teste de Normalidade (SHAPIRO) na variável independente"
   ]
  },
  {
   "cell_type": "code",
   "execution_count": 91,
   "metadata": {},
   "outputs": [
    {
     "data": {
      "text/plain": [
       "<matplotlib.axes._subplots.AxesSubplot at 0x1c1a0bc410>"
      ]
     },
     "execution_count": 91,
     "metadata": {},
     "output_type": "execute_result"
    },
    {
     "data": {
      "image/png": "[encoded data removed]",
      "text/plain": [
       "<Figure size 432x288 with 1 Axes>"
      ]
     },
     "metadata": {
      "needs_background": "light"
     },
     "output_type": "display_data"
    }
   ],
   "source": [
    "sns.distplot(data['Valor de Compra'])"
   ]
  },
  {
   "cell_type": "markdown",
   "metadata": {},
   "source": [
    "### Teste de SHAPIRO"
   ]
  },
  {
   "cell_type": "code",
   "execution_count": 93,
   "metadata": {},
   "outputs": [
    {
     "name": "stdout",
     "output_type": "stream",
     "text": [
      "0.8872639536857605\n",
      "0.0\n"
     ]
    }
   ],
   "source": [
    "stats, p = shapiro(data['Valor de Compra'])\n",
    "print(stats)\n",
    "print(p) # se o p-valor for menor que a significancia alpha, a hipotese nula é rejeitada"
   ]
  },
  {
   "cell_type": "markdown",
   "metadata": {},
   "source": [
    "### Search for outliers on the Independent Variable"
   ]
  },
  {
   "cell_type": "code",
   "execution_count": 95,
   "metadata": {},
   "outputs": [
    {
     "data": {
      "text/plain": [
       "<matplotlib.axes._subplots.AxesSubplot at 0x1c1a61ba50>"
      ]
     },
     "execution_count": 95,
     "metadata": {},
     "output_type": "execute_result"
    },
    {
     "data": {
      "image/png": "[encoded data removed]",
      "text/plain": [
       "<Figure size 432x288 with 1 Axes>"
      ]
     },
     "metadata": {
      "needs_background": "light"
     },
     "output_type": "display_data"
    }
   ],
   "source": [
    "data.boxplot(column='Valor de Compra', grid=False)"
   ]
  },
  {
   "cell_type": "code",
   "execution_count": 143,
   "metadata": {},
   "outputs": [],
   "source": [
    "#transforma outliers em NaN\n",
    "data['Valor de Compra'] = data['Valor de Compra'][~((data['Valor de Compra']-data['Valor de Compra'].mean()).abs() > 3*data['Valor de Compra'].std())]"
   ]
  },
  {
   "cell_type": "code",
   "execution_count": 144,
   "metadata": {},
   "outputs": [],
   "source": [
    "data.dropna(inplace=True)"
   ]
  },
  {
   "cell_type": "code",
   "execution_count": 145,
   "metadata": {},
   "outputs": [
    {
     "data": {
      "text/plain": [
       "(10002, 11)"
      ]
     },
     "execution_count": 145,
     "metadata": {},
     "output_type": "execute_result"
    }
   ],
   "source": [
    "data.shape"
   ]
  },
  {
   "cell_type": "code",
   "execution_count": 146,
   "metadata": {},
   "outputs": [
    {
     "data": {
      "text/plain": [
       "<matplotlib.axes._subplots.AxesSubplot at 0x1c1cc7b910>"
      ]
     },
     "execution_count": 146,
     "metadata": {},
     "output_type": "execute_result"
    },
    {
     "data": {
      "image/png": "[encoded data removed]",
      "text/plain": [
       "<Figure size 432x288 with 1 Axes>"
      ]
     },
     "metadata": {
      "needs_background": "light"
     },
     "output_type": "display_data"
    }
   ],
   "source": [
    "data.boxplot(column='Valor de Compra', grid=False)"
   ]
  },
  {
   "cell_type": "markdown",
   "metadata": {},
   "source": [
    "### Refaz o teste de normalidade"
   ]
  },
  {
   "cell_type": "code",
   "execution_count": 150,
   "metadata": {},
   "outputs": [
    {
     "data": {
      "text/plain": [
       "<matplotlib.axes._subplots.AxesSubplot at 0x1c1d8d9850>"
      ]
     },
     "execution_count": 150,
     "metadata": {},
     "output_type": "execute_result"
    },
    {
     "data": {
      "image/png": "[encoded data removed]",
      "text/plain": [
       "<Figure size 432x288 with 1 Axes>"
      ]
     },
     "metadata": {
      "needs_background": "light"
     },
     "output_type": "display_data"
    }
   ],
   "source": [
    "sns.distplot(data['Valor de Compra'])"
   ]
  },
  {
   "cell_type": "code",
   "execution_count": 149,
   "metadata": {},
   "outputs": [
    {
     "name": "stdout",
     "output_type": "stream",
     "text": [
      "0.9663222432136536\n",
      "4.259947331547444e-43\n"
     ]
    }
   ],
   "source": [
    "stats, p = shapiro(data['Valor de Compra'])\n",
    "print(stats)\n",
    "print(p) # se o p-valor for menor que a significancia alpha, a hipotese nula é rejeitada"
   ]
  },
  {
   "cell_type": "markdown",
   "metadata": {},
   "source": [
    "### ANOVA (distribuição é normal)"
   ]
  },
  {
   "cell_type": "code",
   "execution_count": 168,
   "metadata": {},
   "outputs": [
    {
     "name": "stdout",
     "output_type": "stream",
     "text": [
      "One-Way ANOVA\n",
      "=============\n",
      "F value: 38327.80833966028\n",
      "p value: 0.0 \n",
      "\n"
     ]
    }
   ],
   "source": [
    "f, p = stats.f_oneway(data['Valor de Venda'], data['Valor de Compra'])\n",
    "\n",
    "print('One-Way ANOVA')\n",
    "print('=============')\n",
    "print('F value:',f)\n",
    "print('p value:',p,'\\n')"
   ]
  },
  {
   "cell_type": "code",
   "execution_count": 173,
   "metadata": {},
   "outputs": [
    {
     "ename": "SyntaxError",
     "evalue": "invalid syntax (<unknown>, line 1)",
     "output_type": "error",
     "traceback": [
      "Traceback \u001b[0;36m(most recent call last)\u001b[0m:\n",
      "  File \u001b[1;32m\"/Users/leonardofaverobocardi/anaconda3/anaconda3/envs/python3/lib/python3.7/site-packages/IPython/core/interactiveshell.py\"\u001b[0m, line \u001b[1;32m3326\u001b[0m, in \u001b[1;35mrun_code\u001b[0m\n    exec(code_obj, self.user_global_ns, self.user_ns)\n",
      "  File \u001b[1;32m\"<ipython-input-173-32b65b8c6139>\"\u001b[0m, line \u001b[1;32m2\u001b[0m, in \u001b[1;35m<module>\u001b[0m\n    model = ols('Valor de Venda ~ Valor de Compra',data).fit()\n",
      "  File \u001b[1;32m\"/Users/leonardofaverobocardi/anaconda3/anaconda3/envs/python3/lib/python3.7/site-packages/statsmodels/base/model.py\"\u001b[0m, line \u001b[1;32m159\u001b[0m, in \u001b[1;35mfrom_formula\u001b[0m\n    missing=missing)\n",
      "  File \u001b[1;32m\"/Users/leonardofaverobocardi/anaconda3/anaconda3/envs/python3/lib/python3.7/site-packages/statsmodels/formula/formulatools.py\"\u001b[0m, line \u001b[1;32m65\u001b[0m, in \u001b[1;35mhandle_formula_data\u001b[0m\n    NA_action=na_action)\n",
      "  File \u001b[1;32m\"/Users/leonardofaverobocardi/anaconda3/anaconda3/envs/python3/lib/python3.7/site-packages/patsy/highlevel.py\"\u001b[0m, line \u001b[1;32m310\u001b[0m, in \u001b[1;35mdmatrices\u001b[0m\n    NA_action, return_type)\n",
      "  File \u001b[1;32m\"/Users/leonardofaverobocardi/anaconda3/anaconda3/envs/python3/lib/python3.7/site-packages/patsy/highlevel.py\"\u001b[0m, line \u001b[1;32m165\u001b[0m, in \u001b[1;35m_do_highlevel_design\u001b[0m\n    NA_action)\n",
      "  File \u001b[1;32m\"/Users/leonardofaverobocardi/anaconda3/anaconda3/envs/python3/lib/python3.7/site-packages/patsy/highlevel.py\"\u001b[0m, line \u001b[1;32m70\u001b[0m, in \u001b[1;35m_try_incr_builders\u001b[0m\n    NA_action)\n",
      "  File \u001b[1;32m\"/Users/leonardofaverobocardi/anaconda3/anaconda3/envs/python3/lib/python3.7/site-packages/patsy/build.py\"\u001b[0m, line \u001b[1;32m689\u001b[0m, in \u001b[1;35mdesign_matrix_builders\u001b[0m\n    factor_states = _factors_memorize(all_factors, data_iter_maker, eval_env)\n",
      "  File \u001b[1;32m\"/Users/leonardofaverobocardi/anaconda3/anaconda3/envs/python3/lib/python3.7/site-packages/patsy/build.py\"\u001b[0m, line \u001b[1;32m354\u001b[0m, in \u001b[1;35m_factors_memorize\u001b[0m\n    which_pass = factor.memorize_passes_needed(state, eval_env)\n",
      "  File \u001b[1;32m\"/Users/leonardofaverobocardi/anaconda3/anaconda3/envs/python3/lib/python3.7/site-packages/patsy/eval.py\"\u001b[0m, line \u001b[1;32m474\u001b[0m, in \u001b[1;35mmemorize_passes_needed\u001b[0m\n    subset_names = [name for name in ast_names(self.code)\n",
      "  File \u001b[1;32m\"/Users/leonardofaverobocardi/anaconda3/anaconda3/envs/python3/lib/python3.7/site-packages/patsy/eval.py\"\u001b[0m, line \u001b[1;32m474\u001b[0m, in \u001b[1;35m<listcomp>\u001b[0m\n    subset_names = [name for name in ast_names(self.code)\n",
      "  File \u001b[1;32m\"/Users/leonardofaverobocardi/anaconda3/anaconda3/envs/python3/lib/python3.7/site-packages/patsy/eval.py\"\u001b[0m, line \u001b[1;32m105\u001b[0m, in \u001b[1;35mast_names\u001b[0m\n    for node in ast.walk(ast.parse(code)):\n",
      "\u001b[0;36m  File \u001b[0;32m\"/Users/leonardofaverobocardi/anaconda3/anaconda3/envs/python3/lib/python3.7/ast.py\"\u001b[0;36m, line \u001b[0;32m35\u001b[0;36m, in \u001b[0;35mparse\u001b[0;36m\u001b[0m\n\u001b[0;31m    return compile(source, filename, mode, PyCF_ONLY_AST)\u001b[0m\n",
      "\u001b[0;36m  File \u001b[0;32m\"<unknown>\"\u001b[0;36m, line \u001b[0;32m1\u001b[0m\n\u001b[0;31m    Valor de Venda\u001b[0m\n\u001b[0m           ^\u001b[0m\n\u001b[0;31mSyntaxError\u001b[0m\u001b[0;31m:\u001b[0m invalid syntax\n"
     ]
    }
   ],
   "source": [
    "from statsmodels.formula.api import ols\n",
    "model = ols('Valor de Venda ~ Valor de Compra',data).fit()\n",
    "res = sm.stats.anova_lm(model,typ=2)\n",
    "res"
   ]
  },
  {
   "cell_type": "markdown",
   "metadata": {},
   "source": [
    "### Teste de Tukey (caso a H0 seja rejeitada)"
   ]
  },
  {
   "cell_type": "code",
   "execution_count": 172,
   "metadata": {},
   "outputs": [
    {
     "name": "stdout",
     "output_type": "stream",
     "text": [
      " Multiple Comparison of Means - Tukey HSD, FWER=0.05 \n",
      "=====================================================\n",
      "group1 group2 meandiff p-adj   lower    upper  reject\n",
      "-----------------------------------------------------\n",
      "  39.0   40.0   1.7094    0.9  -7.1874 10.6062  False\n",
      "  39.0   41.0  -2.4615    0.9  -10.509  5.5859  False\n",
      "  39.0   42.0  -2.0348    0.9  -8.3849  4.3152  False\n",
      "  39.0   43.0  -2.1923    0.9  -8.5544  4.1698  False\n",
      "  39.0   44.0   2.6872    0.9  -3.3452  8.7196  False\n",
      "  39.0   45.0  -1.2754    0.9  -7.1322  4.5815  False\n",
      "  39.0   46.0  -0.5549    0.9  -6.3638   5.254  False\n",
      "  39.0   47.0   1.9206    0.9  -3.8609   7.702  False\n",
      "  39.0   48.0    1.982    0.9   -3.768  7.7321  False\n",
      "  39.0   49.0   1.4141    0.9  -4.3393  7.1675  False\n",
      "  39.0   50.0   2.5389    0.9  -3.1772   8.255  False\n",
      "  39.0   51.0   2.6282    0.9  -3.1295  8.3859  False\n",
      "  39.0   52.0   3.9047 0.6947  -1.8179  9.6274  False\n",
      "  39.0   53.0   4.9573  0.223  -0.7784 10.6929  False\n",
      "  39.0   54.0  11.4999  0.001   5.7553 17.2446   True\n",
      "  39.0   55.0   6.2368 0.0151   0.5056  11.968   True\n",
      "  39.0   56.0     6.99 0.0025   1.1772 12.8028   True\n",
      "  39.0   57.0   8.2399  0.001   2.4408  14.039   True\n",
      "  39.0   58.0  10.0454  0.001   4.2084 15.8825   True\n",
      "  39.0   59.0  11.5191  0.001   5.6114 17.4268   True\n",
      "  39.0   60.0  10.6678  0.001   4.8845  16.451   True\n",
      "  39.0   61.0  10.1382  0.001   3.8966 16.3799   True\n",
      "  39.0   62.0  10.5513  0.001   4.4049 16.6976   True\n",
      "  39.0   63.0  11.7657  0.001   5.8369 17.6944   True\n",
      "  39.0   64.0  15.1084  0.001   8.8827  21.334   True\n",
      "  39.0   65.0  13.5891  0.001   7.7102  19.468   True\n",
      "  39.0   66.0  16.5983  0.001   9.6722 23.5244   True\n",
      "  39.0   67.0  19.5805  0.001  13.4166 25.7444   True\n",
      "  40.0   41.0  -4.1709    0.9 -13.0677  4.7258  False\n",
      "  40.0   42.0  -3.7442    0.9 -11.1412  3.6527  False\n",
      "  40.0   43.0  -3.9017    0.9 -11.3089  3.5055  False\n",
      "  40.0   44.0   0.9778    0.9  -6.1483  8.1039  False\n",
      "  40.0   45.0  -2.9848    0.9  -9.9629  3.9933  False\n",
      "  40.0   46.0  -2.2643    0.9  -9.2022  4.6736  False\n",
      "  40.0   47.0   0.2112    0.9  -6.7038  7.1261  False\n",
      "  40.0   48.0   0.2726    0.9  -6.6161  7.1614  False\n",
      "  40.0   49.0  -0.2953    0.9  -7.1868  6.5962  False\n",
      "  40.0   50.0   0.8295    0.9  -6.0309  7.6899  False\n",
      "  40.0   51.0   0.9188    0.9  -5.9763  7.8139  False\n",
      "  40.0   52.0   2.1953    0.9  -4.6705  9.0612  False\n",
      "  40.0   53.0   3.2479    0.9  -3.6288 10.1246  False\n",
      "  40.0   54.0   9.7905  0.001   2.9064 16.6747   True\n",
      "  40.0   55.0   4.5274 0.7542  -2.3456 11.4004  False\n",
      "  40.0   56.0   5.2806 0.4967  -1.6606 12.2217  False\n",
      "  40.0   57.0   6.5305 0.0997  -0.3992 13.4602  False\n",
      "  40.0   58.0    8.336 0.0028   1.3745 15.2975   True\n",
      "  40.0   59.0   9.8097  0.001   2.7888 16.8306   True\n",
      "  40.0   60.0   8.9584  0.001   2.0419 15.8748   True\n",
      "  40.0   61.0   8.4288 0.0056   1.1248 15.7329   True\n",
      "  40.0   62.0   8.8419 0.0018   1.6191 16.0647   True\n",
      "  40.0   63.0  10.0563  0.001   3.0177 17.0949   True\n",
      "  40.0   64.0   13.399  0.001   6.1086 20.6894   True\n",
      "  40.0   65.0  11.8797  0.001    4.883 18.8763   True\n",
      "  40.0   66.0  14.8889  0.001   6.9919 22.7859   True\n",
      "  40.0   67.0  17.8711  0.001  10.6334 25.1088   True\n",
      "  41.0   42.0   0.4267    0.9  -5.9233  6.7767  False\n",
      "  41.0   43.0   0.2692    0.9  -6.0928  6.6313  False\n",
      "  41.0   44.0   5.1487 0.2455  -0.8837 11.1811  False\n",
      "  41.0   45.0   1.1862    0.9  -4.6707   7.043  False\n",
      "  41.0   46.0   1.9066    0.9  -3.9022  7.7155  False\n",
      "  41.0   47.0   4.3821 0.5037  -1.3993 10.1636  False\n",
      "  41.0   48.0   4.4436 0.4645  -1.3064 10.1936  False\n",
      "  41.0   49.0   3.8757 0.7166  -1.8777   9.629  False\n",
      "  41.0   50.0   5.0005 0.2017  -0.7156 10.7166  False\n",
      "  41.0   51.0   5.0897 0.1843   -0.668 10.8475  False\n",
      "  41.0   52.0   6.3663 0.0105   0.6436 12.0889   True\n",
      "  41.0   53.0   7.4188  0.001   1.6832 13.1545   True\n",
      "  41.0   54.0  13.9615  0.001   8.2169 19.7061   True\n",
      "  41.0   55.0   8.6983  0.001   2.9672 14.4295   True\n",
      "  41.0   56.0   9.4515  0.001   3.6387 15.2643   True\n",
      "  41.0   57.0  10.7014  0.001   4.9023 16.5006   True\n",
      "  41.0   58.0   12.507  0.001   6.6699  18.344   True\n",
      "  41.0   59.0  13.9807  0.001   8.0729 19.8884   True\n",
      "  41.0   60.0  13.1293  0.001    7.346 18.9126   True\n",
      "  41.0   61.0  12.5998  0.001   6.3581 18.8414   True\n",
      "  41.0   62.0  13.0128  0.001   6.8665 19.1592   True\n",
      "  41.0   63.0  14.2272  0.001   8.2985  20.156   True\n",
      "  41.0   64.0  17.5699  0.001  11.3443 23.7956   True\n",
      "  41.0   65.0  16.0506  0.001  10.1717 21.9295   True\n",
      "  41.0   66.0  19.0598  0.001  12.1337  25.986   True\n",
      "  41.0   67.0  22.0421  0.001  15.8782 28.2059   True\n",
      "  42.0   43.0  -0.1575    0.9  -4.1622  3.8472  False\n",
      "  42.0   44.0    4.722  0.001   1.2649  8.1791   True\n",
      "  42.0   45.0   0.7595    0.9  -2.3813  3.9002  False\n",
      "  42.0   46.0   1.4799    0.9  -1.5704  4.5303  False\n",
      "  42.0   47.0   3.9554  0.001   0.9576  6.9533   True\n",
      "  42.0   48.0   4.0169  0.001   1.0801  6.9537   True\n",
      "  42.0   49.0    3.449 0.0042   0.5056  6.3923   True\n",
      "  42.0   50.0   4.5738  0.001    1.704  7.4435   True\n",
      "  42.0   51.0    4.663  0.001   1.7112  7.6149   True\n",
      "  42.0   52.0   5.9396  0.001   3.0568  8.8223   True\n",
      "  42.0   53.0   6.9921  0.001   4.0836  9.9007   True\n",
      "  42.0   54.0  13.5348  0.001  10.6086 16.4609   True\n",
      "  42.0   55.0   8.2716  0.001    5.372 11.1713   True\n",
      "  42.0   56.0   9.0248  0.001    5.967 12.0826   True\n",
      "  42.0   57.0  10.2747  0.001    7.243 13.3065   True\n",
      "  42.0   58.0  12.0802  0.001   8.9765 15.1839   True\n",
      "  42.0   59.0  13.5539  0.001  10.3193 16.7886   True\n",
      "  42.0   60.0  12.7026  0.001   9.7013  15.704   True\n",
      "  42.0   61.0  12.1731  0.001   8.3626 15.9835   True\n",
      "  42.0   62.0  12.5861  0.001   8.9338 16.2384   True\n",
      "  42.0   63.0  13.8005  0.001  10.5276 17.0734   True\n",
      "  42.0   64.0  17.1432  0.001   13.359 20.9275   True\n",
      "  42.0   65.0  15.6239  0.001  12.4422 18.8057   True\n",
      "  42.0   66.0  18.6331  0.001   13.782 23.4842   True\n",
      "  42.0   67.0  21.6153  0.001  17.9336 25.2971   True\n",
      "  43.0   44.0   4.8795  0.001   1.4004  8.3586   True\n",
      "  43.0   45.0   0.9169    0.9  -2.2481  4.0819  False\n",
      "  43.0   46.0   1.6374    0.9  -1.4379  4.7127  False\n",
      "  43.0   47.0   4.1129  0.001   1.0897  7.1361   True\n",
      "  43.0   48.0   4.1744  0.001   1.2117   7.137   True\n",
      "  43.0   49.0   3.6064 0.0021   0.6373  6.5756   True\n",
      "  43.0   50.0   4.7313  0.001    1.835  7.6275   True\n",
      "  43.0   51.0   4.8205  0.001   1.8429  7.7981   True\n",
      "  43.0   52.0    6.097  0.001   3.1879  9.0062   True\n",
      "  43.0   53.0   7.1496  0.001   4.2149 10.0843   True\n",
      "  43.0   54.0  13.6923  0.001  10.7401 16.6444   True\n",
      "  43.0   55.0   8.4291  0.001   5.5032  11.355   True\n",
      "  43.0   56.0   9.1823  0.001   6.0996  12.265   True\n",
      "  43.0   57.0  10.4322  0.001   7.3754  13.489   True\n",
      "  43.0   58.0  12.2377  0.001   9.1095 15.3659   True\n",
      "  43.0   59.0  13.7114  0.001  10.4532 16.9696   True\n",
      "  43.0   60.0  12.8601  0.001   9.8334 15.8868   True\n",
      "  43.0   61.0  12.3305  0.001   8.5001  16.161   True\n",
      "  43.0   62.0  12.7436  0.001   9.0705 16.4167   True\n",
      "  43.0   63.0   13.958  0.001  10.6619 17.2541   True\n",
      "  43.0   64.0  17.3007  0.001  13.4963 21.1051   True\n",
      "  43.0   65.0  15.7814  0.001  12.5757  18.987   True\n",
      "  43.0   66.0  18.7906  0.001  13.9238 23.6574   True\n",
      "  43.0   67.0  21.7728  0.001  18.0704 25.4752   True\n",
      "  44.0   45.0  -3.9626  0.001   -6.398 -1.5272   True\n",
      "  44.0   46.0  -3.2421  0.001  -5.5597 -0.9245   True\n",
      "  44.0   47.0  -0.7666    0.9  -3.0146  1.4814  False\n",
      "  44.0   48.0  -0.7051    0.9  -2.8711  1.4608  False\n",
      "  44.0   49.0  -1.2731    0.9  -3.4479  0.9018  False\n",
      "  44.0   50.0  -0.1482    0.9  -2.2224  1.9259  False\n",
      "  44.0   51.0   -0.059    0.9  -2.2453  2.1273  False\n",
      "  44.0   52.0   1.2175    0.9  -0.8746  3.3097  False\n",
      "  44.0   53.0   2.2701 0.0204   0.1426  4.3976   True\n",
      "  44.0   54.0   8.8128  0.001   6.6613 10.9643   True\n",
      "  44.0   55.0   3.5496  0.001   1.4343   5.665   True\n",
      "  44.0   56.0   4.3028  0.001   1.9754  6.6302   True\n",
      "  44.0   57.0   5.5527  0.001   3.2597  7.8458   True\n",
      "  44.0   58.0   7.3582  0.001   4.9709  9.7456   True\n",
      "  44.0   59.0   8.8319  0.001   6.2766 11.3873   True\n",
      "  44.0   60.0   7.9806  0.001   5.7279 10.2333   True\n",
      "  44.0   61.0    7.451  0.001   4.1974 10.7047   True\n",
      "  44.0   62.0   7.8641  0.001   4.7972  10.931   True\n",
      "  44.0   63.0   9.0785  0.001    6.475  11.682   True\n",
      "  44.0   64.0  12.4212  0.001   9.1983 15.6441   True\n",
      "  44.0   65.0  10.9019  0.001   8.4139 13.3899   True\n",
      "  44.0   66.0  13.9111  0.001    9.484 18.3383   True\n",
      "  44.0   67.0  16.8933  0.001  13.7915 19.9952   True\n",
      "  45.0   46.0   0.7205    0.9  -1.0918  2.5328  False\n",
      "  45.0   47.0    3.196  0.001   1.4736  4.9184   True\n",
      "  45.0   48.0   3.2574  0.001   1.6436  4.8712   True\n",
      "  45.0   49.0   2.6895  0.001   1.0638  4.3152   True\n",
      "  45.0   50.0   3.8143  0.001   2.3259  5.3027   True\n",
      "  45.0   51.0   3.9036  0.001   2.2625  5.5447   True\n",
      "  45.0   52.0   5.1801  0.001   3.6668  6.6934   True\n",
      "  45.0   53.0   6.2327  0.001   4.6708  7.7945   True\n",
      "  45.0   54.0  12.7753  0.001  11.1809 14.3697   True\n",
      "  45.0   55.0   7.5122  0.001   5.9669  9.0574   True\n",
      "  45.0   56.0   8.2653  0.001   6.4405 10.0902   True\n",
      "  45.0   57.0   9.5153  0.001   7.7345 11.2961   True\n",
      "  45.0   58.0  11.3208  0.001   9.4201 13.2215   True\n",
      "  45.0   59.0  12.7945  0.001  10.6867 14.9023   True\n",
      "  45.0   60.0  11.9431  0.001  10.2146 13.6717   True\n",
      "  45.0   61.0  11.4136  0.001   8.4982  14.329   True\n",
      "  45.0   62.0  11.8267  0.001   9.1213  14.532   True\n",
      "  45.0   63.0  13.0411  0.001  10.8751 15.2071   True\n",
      "  45.0   64.0  16.3838  0.001  13.5028 19.2648   True\n",
      "  45.0   65.0  14.8645  0.001  12.8388 16.8901   True\n",
      "  45.0   66.0  17.8737  0.001  13.6888 22.0585   True\n",
      "  45.0   67.0  20.8559  0.001  18.1109 23.6008   True\n",
      "  46.0   47.0   2.4755  0.001   0.9241  4.0269   True\n",
      "  46.0   48.0   2.5369  0.001   1.1071  3.9668   True\n",
      "  46.0   49.0    1.969  0.001   0.5257  3.4123   True\n",
      "  46.0   50.0   3.0938  0.001   1.8072  4.3805   True\n",
      "  46.0   51.0   3.1831  0.001   1.7225  4.6437   True\n",
      "  46.0   52.0   4.4596  0.001   3.1442   5.775   True\n",
      "  46.0   53.0   5.5122  0.001   4.1413  6.8831   True\n",
      "  46.0   54.0  12.0548  0.001  10.6469 13.4628   True\n",
      "  46.0   55.0   6.7917  0.001   5.4397  8.1437   True\n",
      "  46.0   56.0   7.5449  0.001   5.8805  9.2092   True\n",
      "  46.0   57.0   8.7948  0.001   7.1788 10.4108   True\n",
      "  46.0   58.0  10.6003  0.001   8.8531 12.3475   True\n",
      "  46.0   59.0   12.074  0.001  10.1035 14.0445   True\n",
      "  46.0   60.0  11.2227  0.001   9.6645 12.7809   True\n",
      "  46.0   61.0  10.6931  0.001   7.8754 13.5108   True\n",
      "  46.0   62.0  11.1062  0.001   8.5064  13.706   True\n",
      "  46.0   63.0  12.3206  0.001  10.2879 14.3532   True\n",
      "  46.0   64.0  15.6633  0.001  12.8811 18.4454   True\n",
      "  46.0   65.0   14.144  0.001  12.2616 16.0264   True\n",
      "  46.0   66.0  17.1532  0.001  13.0358 21.2706   True\n",
      "  46.0   67.0  20.1354  0.001  17.4944 22.7764   True\n",
      "  47.0   48.0   0.0615    0.9  -1.2526  1.3755  False\n",
      "  47.0   49.0  -0.5065    0.9  -1.8351  0.8222  False\n",
      "  47.0   50.0   0.6183    0.9  -0.5382  1.7749  False\n",
      "  47.0   51.0   0.7076    0.9  -0.6398   2.055  False\n",
      "  47.0   52.0   1.9841  0.001   0.7956  3.1726   True\n",
      "  47.0   53.0   3.0367  0.001    1.787  4.2864   True\n",
      "  47.0   54.0   9.5793  0.001   8.2892 10.8695   True\n",
      "  47.0   55.0   4.3162  0.001   3.0873  5.5451   True\n",
      "  47.0   56.0   5.0694  0.001   3.5034  6.6354   True\n",
      "  47.0   57.0   6.3193  0.001   4.8048  7.8338   True\n",
      "  47.0   58.0   8.1248  0.001    6.471  9.7786   True\n",
      "  47.0   59.0   9.5985  0.001   7.7104 11.4867   True\n",
      "  47.0   60.0   8.7472  0.001   7.2945 10.1998   True\n",
      "  47.0   61.0   8.2176  0.001   5.4569 10.9784   True\n",
      "  47.0   62.0   8.6307  0.001   6.0927 11.1687   True\n",
      "  47.0   63.0   9.8451  0.001   7.8922  11.798   True\n",
      "  47.0   64.0  13.1878  0.001  10.4634 15.9122   True\n",
      "  47.0   65.0  11.6685  0.001   9.8725 13.4645   True\n",
      "  47.0   66.0  14.6777  0.001  10.5991 18.7563   True\n",
      "  47.0   67.0  17.6599  0.001  15.0798 20.2401   True\n",
      "  48.0   49.0  -0.5679    0.9  -1.7524  0.6166  False\n",
      "  48.0   50.0   0.5569    0.9  -0.4307  1.5445  False\n",
      "  48.0   51.0   0.6462    0.9  -0.5593  1.8517  False\n",
      "  48.0   52.0   1.9227  0.001   0.8979  2.9475   True\n",
      "  48.0   53.0   2.9752  0.001   1.8801  4.0704   True\n",
      "  48.0   54.0   9.5179  0.001   8.3768  10.659   True\n",
      "  48.0   55.0   4.2548  0.001   3.1834  5.3262   True\n",
      "  48.0   56.0   5.0079  0.001   3.5622  6.4536   True\n",
      "  48.0   57.0   6.2579  0.001   4.8681  7.6476   True\n",
      "  48.0   58.0   8.0634  0.001    6.523  9.6038   True\n",
      "  48.0   59.0   9.5371  0.001   7.7474 11.3267   True\n",
      "  48.0   60.0   8.6857  0.001   7.3636 10.0078   True\n",
      "  48.0   61.0   8.1562  0.001   5.4618 10.8505   True\n",
      "  48.0   62.0   8.5692  0.001   6.1037 11.0348   True\n",
      "  48.0   63.0   9.7836  0.001   7.9258 11.6415   True\n",
      "  48.0   64.0  13.1263  0.001  10.4692 15.7835   True\n",
      "  48.0   65.0   11.607  0.001   9.9149 13.2992   True\n",
      "  48.0   66.0  14.6162  0.001  10.5823 18.6502   True\n",
      "  48.0   67.0  17.5985  0.001  15.0895 20.1074   True\n",
      "  49.0   50.0   1.1248 0.0098   0.1179  2.1318   True\n",
      "  49.0   51.0   1.2141  0.054  -0.0073  2.4355  False\n",
      "  49.0   52.0   2.4906  0.001   1.4472   3.534   True\n",
      "  49.0   53.0   3.5432  0.001   2.4305  4.6558   True\n",
      "  49.0   54.0  10.0858  0.001   8.9279 11.2437   True\n",
      "  49.0   55.0   4.8227  0.001   3.7334  5.9119   True\n",
      "  49.0   56.0   5.5758  0.001   4.1169  7.0348   True\n",
      "  49.0   57.0   6.8258  0.001   5.4222  8.2293   True\n",
      "  49.0   58.0   8.6313  0.001   7.0784 10.1841   True\n",
      "  49.0   59.0   10.105  0.001   8.3046 11.9054   True\n",
      "  49.0   60.0   9.2537  0.001   7.9171 10.5902   True\n",
      "  49.0   61.0   8.7241  0.001   6.0226 11.4256   True\n",
      "  49.0   62.0   9.1372  0.001   6.6638 11.6105   True\n",
      "  49.0   63.0  10.3516  0.001   8.4834 12.2198   True\n",
      "  49.0   64.0  13.6943  0.001  11.0299 16.3586   True\n",
      "  49.0   65.0   12.175  0.001  10.4715 13.8784   True\n",
      "  49.0   66.0  15.1842  0.001  11.1454 19.2229   True\n",
      "  49.0   67.0  18.1664  0.001  15.6498  20.683   True\n",
      "  50.0   51.0   0.0893    0.9  -0.9423  1.1208  False\n",
      "  50.0   52.0   1.3658  0.001   0.5527  2.1789   True\n",
      "  50.0   53.0   2.4183  0.001   1.5182  3.3185   True\n",
      "  50.0   54.0    8.961  0.001   8.0054  9.9166   True\n",
      "  50.0   55.0   3.6979  0.001   2.8268   4.569   True\n",
      "  50.0   56.0    4.451  0.001   3.1468  5.7552   True\n",
      "  50.0   57.0    5.701  0.001   4.4591  6.9428   True\n",
      "  50.0   58.0   7.5065  0.001    6.098  8.9149   True\n",
      "  50.0   59.0   8.9802  0.001   7.3027 10.6576   True\n",
      "  50.0   60.0   8.1288  0.001   6.9631  9.2945   True\n",
      "  50.0   61.0   7.5993  0.001   4.9781 10.2204   True\n",
      "  50.0   62.0   8.0123  0.001    5.627 10.3977   True\n",
      "  50.0   63.0   9.2267  0.001   7.4767 10.9768   True\n",
      "  50.0   64.0  12.5694  0.001   9.9866 15.1523   True\n",
      "  50.0   65.0  11.0501  0.001   9.4772 12.6231   True\n",
      "  50.0   66.0  14.0593  0.001  10.0739 18.0448   True\n",
      "  50.0   67.0  17.0416  0.001  14.6114 19.4718   True\n",
      "  51.0   52.0   1.2765 0.0028   0.2093  2.3437   True\n",
      "  51.0   53.0   2.3291  0.001   1.1941   3.464   True\n",
      "  51.0   54.0   8.8717  0.001   7.6924 10.0511   True\n",
      "  51.0   55.0   3.6086  0.001   2.4966  4.7206   True\n",
      "  51.0   56.0   4.3618  0.001   2.8857  5.8378   True\n",
      "  51.0   57.0   5.6117  0.001   4.1904   7.033   True\n",
      "  51.0   58.0   7.4172  0.001   5.8483  8.9861   True\n",
      "  51.0   59.0   8.8909  0.001   7.0766 10.7052   True\n",
      "  51.0   60.0   8.0396  0.001   6.6843  9.3948   True\n",
      "  51.0   61.0     7.51  0.001   4.7992 10.2208   True\n",
      "  51.0   62.0   7.9231  0.001   5.4396 10.4066   True\n",
      "  51.0   63.0   9.1375  0.001   7.2559 11.0191   True\n",
      "  51.0   64.0  12.4802  0.001   9.8064 15.1539   True\n",
      "  51.0   65.0  10.9609  0.001   9.2427  12.679   True\n",
      "  51.0   66.0  13.9701  0.001   9.9251  18.015   True\n",
      "  51.0   67.0  16.9523  0.001  14.4257 19.4789   True\n",
      "  52.0   53.0   1.0526 0.0096   0.1118  1.9934   True\n",
      "  52.0   54.0   7.5952  0.001   6.6013  8.5892   True\n",
      "  52.0   55.0   2.3321  0.001   1.4191  3.2451   True\n",
      "  52.0   56.0   3.0852  0.001   1.7526  4.4178   True\n",
      "  52.0   57.0   4.3352  0.001   3.0635  5.6068   True\n",
      "  52.0   58.0   6.1407  0.001   4.7059  7.5754   True\n",
      "  52.0   59.0   7.6144  0.001   5.9148   9.314   True\n",
      "  52.0   60.0    6.763  0.001   5.5657  7.9604   True\n",
      "  52.0   61.0   6.2335  0.001   3.5981  8.8689   True\n",
      "  52.0   62.0   6.6466  0.001   4.2456  9.0475   True\n",
      "  52.0   63.0    7.861  0.001   6.0897  9.6322   True\n",
      "  52.0   64.0  11.2037  0.001   8.6064  13.801   True\n",
      "  52.0   65.0   9.6844  0.001   8.0878 11.2809   True\n",
      "  52.0   66.0  12.6936  0.001   8.6987 16.6884   True\n",
      "  52.0   67.0  15.6758  0.001  13.2303 18.1213   True\n",
      "  53.0   54.0   6.5427  0.001   5.4763   7.609   True\n",
      "  53.0   55.0   1.2795  0.001   0.2882  2.2709   True\n",
      "  53.0   56.0   2.0327  0.001   0.6452  3.4201   True\n",
      "  53.0   57.0   3.2826  0.001   1.9536  4.6116   True\n",
      "  53.0   58.0   5.0881  0.001   3.6023   6.574   True\n",
      "  53.0   59.0   6.5618  0.001   4.8189  8.3048   True\n",
      "  53.0   60.0   5.7105  0.001   4.4524  6.9686   True\n",
      "  53.0   61.0   5.1809  0.001   2.5174  7.8445   True\n",
      "  53.0   62.0    5.594  0.001   3.1621  8.0258   True\n",
      "  53.0   63.0   6.8084  0.001   4.9955  8.6213   True\n",
      "  53.0   64.0  10.1511  0.001   7.5252  12.777   True\n",
      "  53.0   65.0   8.6318  0.001   6.9892 10.2744   True\n",
      "  53.0   66.0   11.641  0.001   7.6276 15.6545   True\n",
      "  53.0   67.0  14.6232  0.001  12.1474 17.0991   True\n",
      "  54.0   55.0  -5.2631  0.001  -6.3051 -4.2212   True\n",
      "  54.0   56.0    -4.51  0.001   -5.934  -3.086   True\n",
      "  54.0   57.0    -3.26  0.001  -4.6272 -1.8929   True\n",
      "  54.0   58.0  -1.4545 0.0852  -2.9746  0.0655  False\n",
      "  54.0   59.0   0.0192    0.9   -1.753  1.7913  False\n",
      "  54.0   60.0  -0.8322 0.7991  -2.1305  0.4662  False\n",
      "  54.0   61.0  -1.3617    0.9  -4.0445  1.3211  False\n",
      "  54.0   62.0  -0.9487    0.9  -3.4016  1.5042  False\n",
      "  54.0   63.0   0.2657    0.9  -1.5753  2.1068  False\n",
      "  54.0   64.0   3.6084  0.001   0.9631  6.2538   True\n",
      "  54.0   65.0   2.0891 0.0012   0.4155  3.7628   True\n",
      "  54.0   66.0   5.0983  0.001   1.0721  9.1246   True\n",
      "  54.0   67.0   8.0806  0.001   5.5841 10.5771   True\n",
      "  55.0   56.0   0.7532    0.9  -0.6156  2.1219  False\n",
      "  55.0   57.0   2.0031  0.001   0.6936  3.3126   True\n",
      "  55.0   58.0   3.8086  0.001   2.3402   5.277   True\n",
      "  55.0   59.0   5.2823  0.001   3.5542  7.0104   True\n",
      "  55.0   60.0    4.431  0.001   3.1935  5.6684   True\n",
      "  55.0   61.0   3.9014  0.001   1.2476  6.5553   True\n",
      "  55.0   62.0   4.3145  0.001   1.8932  6.7357   True\n",
      "  55.0   63.0   5.5289  0.001   3.7303  7.3275   True\n",
      "  55.0   64.0   8.8716  0.001   6.2555 11.4876   True\n",
      "  55.0   65.0   7.3523  0.001   5.7254  8.9791   True\n",
      "  55.0   66.0  10.3615  0.001   6.3544 14.3685   True\n",
      "  55.0   67.0  13.3437  0.001  10.8783 15.8091   True\n",
      "  56.0   57.0   1.2499 0.4808  -0.3801    2.88  False\n",
      "  56.0   58.0   3.0554  0.001   1.2952  4.8157   True\n",
      "  56.0   59.0   4.5291  0.001   2.5471  6.5112   True\n",
      "  56.0   60.0   3.6778  0.001   2.1051  5.2506   True\n",
      "  56.0   61.0   3.1483 0.0103   0.3225  5.9741   True\n",
      "  56.0   62.0   3.5613  0.001   0.9527  6.1699   True\n",
      "  56.0   63.0   4.7757  0.001   2.7319  6.8196   True\n",
      "  56.0   64.0   8.1184  0.001   5.3281 10.9087   True\n",
      "  56.0   65.0   6.5991  0.001   4.7047  8.4936   True\n",
      "  56.0   66.0   9.6083  0.001   5.4854 13.7313   True\n",
      "  56.0   67.0  12.5905  0.001   9.9409 15.2402   True\n",
      "  57.0   58.0   1.8055 0.0248    0.091  3.5201   True\n",
      "  57.0   59.0   3.2792  0.001   1.3376  5.2208   True\n",
      "  57.0   60.0   2.4279  0.001   0.9064  3.9493   True\n",
      "  57.0   61.0   1.8983 0.7042  -0.8993  4.6959  False\n",
      "  57.0   62.0   2.3114 0.1633  -0.2666  4.8893  False\n",
      "  57.0   63.0   3.5258  0.001   1.5212  5.5304   True\n",
      "  57.0   64.0   6.8685  0.001   4.1068  9.6302   True\n",
      "  57.0   65.0   5.3492  0.001   3.4971  7.2013   True\n",
      "  57.0   66.0   8.3584  0.001   4.2548  12.462   True\n",
      "  57.0   67.0  11.3406  0.001   8.7211 13.9601   True\n",
      "  58.0   59.0   1.4737 0.6043  -0.5784  3.5258  False\n",
      "  58.0   60.0   0.6224    0.9  -1.0378  2.2826  False\n",
      "  58.0   61.0   0.0928    0.9  -2.7826  2.9682  False\n",
      "  58.0   62.0   0.5059    0.9  -2.1563  3.1681  False\n",
      "  58.0   63.0   1.7203 0.3413  -0.3916  3.8321  False\n",
      "  58.0   64.0    5.063  0.001   2.2225  7.9035   True\n",
      "  58.0   65.0   3.5437  0.001    1.576  5.5113   True\n",
      "  58.0   66.0   6.5529  0.001   2.3958 10.7099   True\n",
      "  58.0   67.0   9.5351  0.001   6.8327 12.2375   True\n",
      "  59.0   60.0  -0.8513    0.9  -2.7451  1.0424  False\n",
      "  59.0   61.0  -1.3809    0.9  -4.3972  1.6354  False\n",
      "  59.0   62.0  -0.9678    0.9  -3.7816   1.846  False\n",
      "  59.0   63.0   0.2466    0.9  -2.0534  2.5466  False\n",
      "  59.0   64.0   3.5893 0.0025   0.6062  6.5723   True\n",
      "  59.0   65.0     2.07 0.0874  -0.0984  4.2383  False\n",
      "  59.0   66.0   5.0792 0.0029   0.8234  9.3349   True\n",
      "  59.0   67.0   8.0614  0.001   5.2095 10.9133   True\n",
      "  60.0   61.0  -0.5295    0.9  -3.2941   2.235  False\n",
      "  60.0   62.0  -0.1165    0.9  -2.6586  2.4256  False\n",
      "  60.0   63.0   1.0979    0.9  -0.8604  3.0563  False\n",
      "  60.0   64.0   4.4406  0.001   1.7123  7.1689   True\n",
      "  60.0   65.0   2.9213  0.001   1.1194  4.7232   True\n",
      "  60.0   66.0   5.9305  0.001   1.8493 10.0117   True\n",
      "  60.0   67.0   8.9127  0.001   6.3285  11.497   True\n",
      "  61.0   62.0   0.4131    0.9  -3.0473  3.8734  False\n",
      "  61.0   63.0   1.6275    0.9  -1.4298  4.6847  False\n",
      "  61.0   64.0   4.9702  0.001   1.3708  8.5695   True\n",
      "  61.0   65.0   3.4509 0.0046   0.4914  6.4103   True\n",
      "  61.0   66.0   6.4601  0.001   1.7518 11.1684   True\n",
      "  61.0   67.0   9.4423  0.001   5.9509 12.9337   True\n",
      "  62.0   63.0   1.2144    0.9  -1.6432  4.0721  False\n",
      "  62.0   64.0   4.5571  0.001   1.1257  7.9885   True\n",
      "  62.0   65.0   3.0378  0.012    0.285  5.7906   True\n",
      "  62.0   66.0    6.047  0.001   1.4658 10.6282   True\n",
      "  62.0   67.0   9.0292  0.001   5.7112 12.3473   True\n",
      "  63.0   64.0   3.3427 0.0118   0.3182  6.3672   True\n",
      "  63.0   65.0   1.8234 0.3274  -0.4016  4.0484  False\n",
      "  63.0   66.0   4.8326 0.0084   0.5477  9.1175   True\n",
      "  63.0   67.0   7.8148  0.001   4.9196   10.71   True\n",
      "  64.0   65.0  -1.5193    0.9  -4.4449  1.4063  False\n",
      "  64.0   66.0   1.4899    0.9  -3.1972   6.177  False\n",
      "  64.0   67.0   4.4721  0.001   1.0094  7.9349   True\n",
      "  65.0   66.0   3.0092 0.6152  -1.2064  7.2249  False\n",
      "  65.0   67.0   5.9914  0.001   3.1997  8.7832   True\n",
      "  66.0   67.0   2.9822 0.7822  -1.6225  7.5869  False\n",
      "-----------------------------------------------------\n",
      "[39. 40. 41. 42. 43. 44. 45. 46. 47. 48. 49. 50. 51. 52. 53. 54. 55. 56.\n",
      " 57. 58. 59. 60. 61. 62. 63. 64. 65. 66. 67.]\n"
     ]
    }
   ],
   "source": [
    "from statsmodels.stats.multicomp import pairwise_tukeyhsd\n",
    "from statsmodels.stats.multicomp import MultiComparison\n",
    "\n",
    "mc = MultiComparison(data['Valor de Venda'], data['Valor de Compra'])\n",
    "result = mc.tukeyhsd()\n",
    "\n",
    "print(result)\n",
    "print(mc.groupsunique)"
   ]
  },
  {
   "cell_type": "markdown",
   "metadata": {},
   "source": [
    "### KRUSKAL-WALLIS (distribuição não é normal)"
   ]
  },
  {
   "cell_type": "code",
   "execution_count": 174,
   "metadata": {},
   "outputs": [
    {
     "name": "stdout",
     "output_type": "stream",
     "text": [
      "Kruskal-Wallis\n",
      "==============\n",
      "KW value: 13791.884285948603\n",
      "p value: 0.0 \n",
      "\n"
     ]
    }
   ],
   "source": [
    "kw, p = stats.kruskal(data['Valor de Venda'], data['Valor de Compra'])\n",
    "\n",
    "print('Kruskal-Wallis')\n",
    "print('==============')\n",
    "print('KW value:',kw)\n",
    "print('p value:',p,'\\n')"
   ]
  },
  {
   "cell_type": "markdown",
   "metadata": {},
   "source": [
    "### Teste de Dunn (caso a H0 seja rejeitada)"
   ]
  },
  {
   "cell_type": "code",
   "execution_count": 175,
   "metadata": {
    "collapsed": true
   },
   "outputs": [
    {
     "name": "stdout",
     "output_type": "stream",
     "text": [
      "Requirement already satisfied: scikit-posthocs in /Users/leonardofaverobocardi/anaconda3/anaconda3/envs/python3/lib/python3.7/site-packages (0.6.1)\n",
      "Requirement already satisfied: pandas>=0.20.0 in /Users/leonardofaverobocardi/anaconda3/anaconda3/envs/python3/lib/python3.7/site-packages (from scikit-posthocs) (0.25.1)\n",
      "Requirement already satisfied: matplotlib in /Users/leonardofaverobocardi/anaconda3/anaconda3/envs/python3/lib/python3.7/site-packages (from scikit-posthocs) (3.1.1)\n",
      "Requirement already satisfied: seaborn in /Users/leonardofaverobocardi/anaconda3/anaconda3/envs/python3/lib/python3.7/site-packages (from scikit-posthocs) (0.9.0)\n",
      "Requirement already satisfied: scipy in /Users/leonardofaverobocardi/anaconda3/anaconda3/envs/python3/lib/python3.7/site-packages (from scikit-posthocs) (1.1.0)\n",
      "Requirement already satisfied: numpy in /Users/leonardofaverobocardi/anaconda3/anaconda3/envs/python3/lib/python3.7/site-packages (from scikit-posthocs) (1.15.0)\n",
      "Requirement already satisfied: statsmodels in /Users/leonardofaverobocardi/anaconda3/anaconda3/envs/python3/lib/python3.7/site-packages (from scikit-posthocs) (0.10.1)\n",
      "Requirement already satisfied: python-dateutil>=2.6.1 in /Users/leonardofaverobocardi/anaconda3/anaconda3/envs/python3/lib/python3.7/site-packages (from pandas>=0.20.0->scikit-posthocs) (2.8.0)\n",
      "Requirement already satisfied: pytz>=2017.2 in /Users/leonardofaverobocardi/anaconda3/anaconda3/envs/python3/lib/python3.7/site-packages (from pandas>=0.20.0->scikit-posthocs) (2019.3)\n",
      "Requirement already satisfied: cycler>=0.10 in /Users/leonardofaverobocardi/anaconda3/anaconda3/envs/python3/lib/python3.7/site-packages (from matplotlib->scikit-posthocs) (0.10.0)\n",
      "Requirement already satisfied: kiwisolver>=1.0.1 in /Users/leonardofaverobocardi/anaconda3/anaconda3/envs/python3/lib/python3.7/site-packages (from matplotlib->scikit-posthocs) (1.1.0)\n",
      "Requirement already satisfied: pyparsing!=2.0.4,!=2.1.2,!=2.1.6,>=2.0.1 in /Users/leonardofaverobocardi/anaconda3/anaconda3/envs/python3/lib/python3.7/site-packages (from matplotlib->scikit-posthocs) (2.4.2)\n",
      "Requirement already satisfied: patsy>=0.4.0 in /Users/leonardofaverobocardi/anaconda3/anaconda3/envs/python3/lib/python3.7/site-packages (from statsmodels->scikit-posthocs) (0.5.1)\n",
      "Requirement already satisfied: six>=1.5 in /Users/leonardofaverobocardi/anaconda3/anaconda3/envs/python3/lib/python3.7/site-packages (from python-dateutil>=2.6.1->pandas>=0.20.0->scikit-posthocs) (1.12.0)\n",
      "Requirement already satisfied: setuptools in /Users/leonardofaverobocardi/anaconda3/anaconda3/envs/python3/lib/python3.7/site-packages (from kiwisolver>=1.0.1->matplotlib->scikit-posthocs) (41.4.0)\n",
      "Note: you may need to restart the kernel to use updated packages.\n"
     ]
    }
   ],
   "source": [
    "pip install scikit-posthocs"
   ]
  },
  {
   "cell_type": "code",
   "execution_count": 177,
   "metadata": {},
   "outputs": [
    {
     "ename": "ZeroDivisionError",
     "evalue": "float division by zero",
     "output_type": "error",
     "traceback": [
      "\u001b[0;31m---------------------------------------------------------------------------\u001b[0m",
      "\u001b[0;31mZeroDivisionError\u001b[0m                         Traceback (most recent call last)",
      "\u001b[0;32m<ipython-input-177-64fa7a7cdead>\u001b[0m in \u001b[0;36m<module>\u001b[0;34m\u001b[0m\n\u001b[1;32m      5\u001b[0m data[data['Valor de Compra']==2]['Valor de Venda']]\n\u001b[1;32m      6\u001b[0m \u001b[0;34m\u001b[0m\u001b[0m\n\u001b[0;32m----> 7\u001b[0;31m \u001b[0msp\u001b[0m\u001b[0;34m.\u001b[0m\u001b[0mposthoc_dunn\u001b[0m\u001b[0;34m(\u001b[0m\u001b[0mlst\u001b[0m\u001b[0;34m,\u001b[0m\u001b[0mp_adjust\u001b[0m\u001b[0;34m=\u001b[0m\u001b[0;34m'holm'\u001b[0m\u001b[0;34m)\u001b[0m\u001b[0;34m\u001b[0m\u001b[0;34m\u001b[0m\u001b[0m\n\u001b[0m",
      "\u001b[0;32m~/anaconda3/anaconda3/envs/python3/lib/python3.7/site-packages/scikit_posthocs/_posthocs.py\u001b[0m in \u001b[0;36mposthoc_dunn\u001b[0;34m(a, val_col, group_col, p_adjust, sort)\u001b[0m\n\u001b[1;32m    366\u001b[0m \u001b[0;34m\u001b[0m\u001b[0m\n\u001b[1;32m    367\u001b[0m     \u001b[0;32mif\u001b[0m \u001b[0mp_adjust\u001b[0m\u001b[0;34m:\u001b[0m\u001b[0;34m\u001b[0m\u001b[0;34m\u001b[0m\u001b[0m\n\u001b[0;32m--> 368\u001b[0;31m         \u001b[0mvs\u001b[0m\u001b[0;34m[\u001b[0m\u001b[0mtri_upper\u001b[0m\u001b[0;34m]\u001b[0m \u001b[0;34m=\u001b[0m \u001b[0mmultipletests\u001b[0m\u001b[0;34m(\u001b[0m\u001b[0mvs\u001b[0m\u001b[0;34m[\u001b[0m\u001b[0mtri_upper\u001b[0m\u001b[0;34m]\u001b[0m\u001b[0;34m,\u001b[0m \u001b[0mmethod\u001b[0m \u001b[0;34m=\u001b[0m \u001b[0mp_adjust\u001b[0m\u001b[0;34m)\u001b[0m\u001b[0;34m[\u001b[0m\u001b[0;36m1\u001b[0m\u001b[0;34m]\u001b[0m\u001b[0;34m\u001b[0m\u001b[0;34m\u001b[0m\u001b[0m\n\u001b[0m\u001b[1;32m    369\u001b[0m \u001b[0;34m\u001b[0m\u001b[0m\n\u001b[1;32m    370\u001b[0m     \u001b[0mvs\u001b[0m\u001b[0;34m[\u001b[0m\u001b[0mtri_lower\u001b[0m\u001b[0;34m]\u001b[0m \u001b[0;34m=\u001b[0m \u001b[0mvs\u001b[0m\u001b[0;34m.\u001b[0m\u001b[0mT\u001b[0m\u001b[0;34m[\u001b[0m\u001b[0mtri_lower\u001b[0m\u001b[0;34m]\u001b[0m\u001b[0;34m\u001b[0m\u001b[0;34m\u001b[0m\u001b[0m\n",
      "\u001b[0;32m~/anaconda3/anaconda3/envs/python3/lib/python3.7/site-packages/statsmodels/stats/multitest.py\u001b[0m in \u001b[0;36mmultipletests\u001b[0;34m(pvals, alpha, method, is_sorted, returnsorted)\u001b[0m\n\u001b[1;32m    148\u001b[0m \u001b[0;34m\u001b[0m\u001b[0m\n\u001b[1;32m    149\u001b[0m     \u001b[0mntests\u001b[0m \u001b[0;34m=\u001b[0m \u001b[0mlen\u001b[0m\u001b[0;34m(\u001b[0m\u001b[0mpvals\u001b[0m\u001b[0;34m)\u001b[0m\u001b[0;34m\u001b[0m\u001b[0;34m\u001b[0m\u001b[0m\n\u001b[0;32m--> 150\u001b[0;31m     \u001b[0malphacSidak\u001b[0m \u001b[0;34m=\u001b[0m \u001b[0;36m1\u001b[0m \u001b[0;34m-\u001b[0m \u001b[0mnp\u001b[0m\u001b[0;34m.\u001b[0m\u001b[0mpower\u001b[0m\u001b[0;34m(\u001b[0m\u001b[0;34m(\u001b[0m\u001b[0;36m1.\u001b[0m \u001b[0;34m-\u001b[0m \u001b[0malphaf\u001b[0m\u001b[0;34m)\u001b[0m\u001b[0;34m,\u001b[0m \u001b[0;36m1.\u001b[0m\u001b[0;34m/\u001b[0m\u001b[0mntests\u001b[0m\u001b[0;34m)\u001b[0m\u001b[0;34m\u001b[0m\u001b[0;34m\u001b[0m\u001b[0m\n\u001b[0m\u001b[1;32m    151\u001b[0m     \u001b[0malphacBonf\u001b[0m \u001b[0;34m=\u001b[0m \u001b[0malphaf\u001b[0m \u001b[0;34m/\u001b[0m \u001b[0mfloat\u001b[0m\u001b[0;34m(\u001b[0m\u001b[0mntests\u001b[0m\u001b[0;34m)\u001b[0m\u001b[0;34m\u001b[0m\u001b[0;34m\u001b[0m\u001b[0m\n\u001b[1;32m    152\u001b[0m     \u001b[0;32mif\u001b[0m \u001b[0mmethod\u001b[0m\u001b[0;34m.\u001b[0m\u001b[0mlower\u001b[0m\u001b[0;34m(\u001b[0m\u001b[0;34m)\u001b[0m \u001b[0;32min\u001b[0m \u001b[0;34m[\u001b[0m\u001b[0;34m'b'\u001b[0m\u001b[0;34m,\u001b[0m \u001b[0;34m'bonf'\u001b[0m\u001b[0;34m,\u001b[0m \u001b[0;34m'bonferroni'\u001b[0m\u001b[0;34m]\u001b[0m\u001b[0;34m:\u001b[0m\u001b[0;34m\u001b[0m\u001b[0;34m\u001b[0m\u001b[0m\n",
      "\u001b[0;31mZeroDivisionError\u001b[0m: float division by zero"
     ]
    }
   ],
   "source": [
    "import scikit_posthocs as sp\n",
    "\n",
    "lst = [data[data['Valor de Compra']==0]['Valor de Venda'],\n",
    "data[data['Valor de Compra']==1]['Valor de Venda'],\n",
    "data[data['Valor de Compra']==2]['Valor de Venda']]\n",
    "\n",
    "sp.posthoc_dunn(lst,p_adjust='holm')"
   ]
  },
  {
   "cell_type": "markdown",
   "metadata": {},
   "source": [
    "### ANOVA two-way - 2 variáveis independentes"
   ]
  },
  {
   "cell_type": "code",
   "execution_count": null,
   "metadata": {},
   "outputs": [],
   "source": [
    "#ANOVA two-way\n",
    "# Calculating effect size\n",
    "\n",
    "hbat['x1'] = hbat['x1'].astype('category')\n",
    "hbat['x1_cat'] = hbat['x1'].cat.codes\n",
    "hbat['x3'] = hbat['x3'].astype('category')\n",
    "hbat[\"x3_cat\"] = hbat[\"x3\"].cat.codes\n",
    "hbat['x5'] = hbat['x5'].astype('category')\n",
    "hbat[\"x5_cat\"] = hbat[\"x5\"].cat.codes\n",
    "\n",
    "def anova_table(aov):\n",
    "    aov['mean_sq'] = aov[:]['sum_sq']/aov[:]['df']\n",
    "    \n",
    "    aov['eta_sq'] = aov[:-1]['sum_sq']/sum(aov['sum_sq'])\n",
    "    \n",
    "    aov['omega_sq'] = (aov[:-1]['sum_sq']-(aov[:-1]['df']*aov['mean_sq'][-1]))/(sum(aov['sum_sq'])+aov['mean_sq'][-1])\n",
    "    \n",
    "    cols = ['sum_sq', 'mean_sq', 'df', 'F', 'PR(>F)', 'eta_sq', 'omega_sq']\n",
    "    aov = aov[cols]\n",
    "    return aov\n",
    "\n",
    "from statsmodels.formula.api import ols\n",
    "model2 = ols('x19 ~ C(x1_cat) + C(x5_cat)', hbat).fit()\n",
    "\n",
    "res2 = sm.stats.anova_lm(model2, typ= 2)\n",
    "anova_table(res2)"
   ]
  },
  {
   "cell_type": "code",
   "execution_count": null,
   "metadata": {},
   "outputs": [],
   "source": [
    "#Post-hoc test (Tukey)\n",
    "mc = MultiComparison(hbat['x19'], hbat['x1_cat'])\n",
    "result = mc.tukeyhsd()\n",
    "print(result)"
   ]
  },
  {
   "cell_type": "code",
   "execution_count": null,
   "metadata": {},
   "outputs": [],
   "source": [
    "mc = MultiComparison(hbat['x19'], hbat['x3_cat'])\n",
    "result = mc.tukeyhsd()\n",
    "print(result)"
   ]
  },
  {
   "cell_type": "code",
   "execution_count": null,
   "metadata": {},
   "outputs": [],
   "source": [
    "sns.boxplot(y='x19', x='x1', \n",
    "                 data=hbat, \n",
    "                 palette=\"colorblind\",\n",
    "                 hue='x5')\n",
    "plt.show()"
   ]
  },
  {
   "cell_type": "markdown",
   "metadata": {},
   "source": [
    "### Run the Linear Regression "
   ]
  },
  {
   "cell_type": "code",
   "execution_count": 181,
   "metadata": {
    "scrolled": false
   },
   "outputs": [
    {
     "name": "stdout",
     "output_type": "stream",
     "text": [
      "===MAE===\n",
      "MAE médio:  4.5414\n",
      "MAE desvio padrão:  0.0499\n",
      "\n",
      "===MSE===\n",
      "MSE médio:  33.771\n",
      "MSE desvio padrão:  0.8076\n",
      "\n",
      "===RMSE===\n",
      "RMSE médio:  2.131\n",
      "RMSE desvio padrão:  0.0117\n",
      "\n",
      "Best Model based on RMSE: LinearRegression(copy_X=True, fit_intercept=True, n_jobs=1, normalize=False)\n",
      "Best Model SCORE: 0.4779\n",
      "Best Model Intercept: 23.2358\n",
      "Best Model Coef: 0.8734\n",
      "Best RMSE: 2.0951\n"
     ]
    }
   ],
   "source": [
    "from sklearn.linear_model import LinearRegression\n",
    "from sklearn.model_selection import train_test_split\n",
    "import statsmodels.api as sm\n",
    "\n",
    "mae = []\n",
    "mse = []\n",
    "rmse = []\n",
    "best_intercept = float('inf')\n",
    "best_coef = float('inf')\n",
    "best_rmse = float('inf')\n",
    "\n",
    "X = pd.DataFrame(data['Valor de Compra']) #independent\n",
    "y = data['Valor de Venda'] #dependent\n",
    "\n",
    "for num in range(0,1000):\n",
    "    X_train, X_test, y_train, y_test = train_test_split(X, y, test_size=0.33)\n",
    "\n",
    "    linearRegressor = LinearRegression()\n",
    "    model = linearRegressor.fit(X_train, y_train)\n",
    "    #print('\\nrepetition number {}'.format(num+1))\n",
    "    \n",
    "    intercept = linearRegressor.intercept_ #intercepto ou coef linear\n",
    "    coef = linearRegressor.coef_ #coef angular ou slope\n",
    "\n",
    "    #previsao\n",
    "    y_pred = linearRegressor.predict(X_test)\n",
    "    \n",
    "    #MAE\n",
    "    #print('Mean Absolute Error:',metrics.mean_absolute_error(y_test, y_pred))\n",
    "\n",
    "    #MSE\n",
    "    #print('Mean Squared Error:',metrics.mean_squared_error(y_test, y_pred))\n",
    "\n",
    "    #RMSE\n",
    "    #print('Root Mean Squared Error:',np.sqrt(metrics.mean_absolute_error(y_test, y_pred)))\n",
    "    \n",
    "    #salvando as medias em uma lista\n",
    "    mae.append(metrics.mean_absolute_error(y_test, y_pred))\n",
    "    mse.append(metrics.mean_squared_error(y_test, y_pred))\n",
    "    rmse.append(np.sqrt(metrics.mean_absolute_error(y_test, y_pred)))\n",
    "    \n",
    "    # Saving variables for the best prediction based on RMSE\n",
    "    if np.sqrt(metrics.mean_absolute_error(y_test, y_pred)) < best_rmse:\n",
    "        best_model = model\n",
    "        best_intercept = intercept\n",
    "        best_coef = coef\n",
    "        best_rmse = np.sqrt(metrics.mean_absolute_error(y_test, y_pred))\n",
    "        best_X_train, best_X_test, best_y_train, best_y_test = X_train, X_test, y_train, y_test\n",
    "                            \n",
    "#printar a media dos erros de 1000 repeticoes\n",
    "\n",
    "print(\"===MAE===\")\n",
    "print(\"MAE médio: \", round(np.mean(mae),4))\n",
    "print(\"MAE desvio padrão: \", round(np.std(mae),4))\n",
    "print(\"\\n===MSE===\")\n",
    "print(\"MSE médio: \", round(np.mean(mse),4))\n",
    "print(\"MSE desvio padrão: \", round(np.std(mse),4))\n",
    "print(\"\\n===RMSE===\")\n",
    "print(\"RMSE médio: \", round(np.mean(rmse),4))\n",
    "print(\"RMSE desvio padrão: \", round(np.std(rmse),4))\n",
    "print(\"\")\n",
    "print('Best Model based on RMSE:', best_model)\n",
    "print('Best Model SCORE:',round(best_model.score(best_X_train, best_y_train),4))\n",
    "print('Best Model Intercept:', round(best_intercept,4))\n",
    "print('Best Model Coef:', round(best_coef[0],4))\n",
    "print('Best RMSE:', round(best_rmse,4))"
   ]
  },
  {
   "cell_type": "markdown",
   "metadata": {},
   "source": [
    "### Using StatsModel to compare the table with the previous Linear Regression"
   ]
  },
  {
   "cell_type": "code",
   "execution_count": 187,
   "metadata": {},
   "outputs": [
    {
     "data": {
      "text/html": [
       "<table class=\"simpletable\">\n",
       "<caption>OLS Regression Results</caption>\n",
       "<tr>\n",
       "  <th>Dep. Variable:</th>     <td>Valor de Compra</td> <th>  R-squared:         </th> <td>   0.478</td> \n",
       "</tr>\n",
       "<tr>\n",
       "  <th>Model:</th>                   <td>OLS</td>       <th>  Adj. R-squared:    </th> <td>   0.478</td> \n",
       "</tr>\n",
       "<tr>\n",
       "  <th>Method:</th>             <td>Least Squares</td>  <th>  F-statistic:       </th> <td>   6444.</td> \n",
       "</tr>\n",
       "<tr>\n",
       "  <th>Date:</th>             <td>Fri, 13 Dec 2019</td> <th>  Prob (F-statistic):</th>  <td>  0.00</td>  \n",
       "</tr>\n",
       "<tr>\n",
       "  <th>Time:</th>                 <td>21:19:03</td>     <th>  Log-Likelihood:    </th> <td> -20852.</td> \n",
       "</tr>\n",
       "<tr>\n",
       "  <th>No. Observations:</th>      <td>  7043</td>      <th>  AIC:               </th> <td>4.171e+04</td>\n",
       "</tr>\n",
       "<tr>\n",
       "  <th>Df Residuals:</th>          <td>  7041</td>      <th>  BIC:               </th> <td>4.172e+04</td>\n",
       "</tr>\n",
       "<tr>\n",
       "  <th>Df Model:</th>              <td>     1</td>      <th>                     </th>     <td> </td>    \n",
       "</tr>\n",
       "<tr>\n",
       "  <th>Covariance Type:</th>      <td>nonrobust</td>    <th>                     </th>     <td> </td>    \n",
       "</tr>\n",
       "</table>\n",
       "<table class=\"simpletable\">\n",
       "<tr>\n",
       "         <td></td>           <th>coef</th>     <th>std err</th>      <th>t</th>      <th>P>|t|</th>  <th>[0.025</th>    <th>0.975]</th>  \n",
       "</tr>\n",
       "<tr>\n",
       "  <th>const</th>          <td>   15.2378</td> <td>    0.480</td> <td>   31.728</td> <td> 0.000</td> <td>   14.296</td> <td>   16.179</td>\n",
       "</tr>\n",
       "<tr>\n",
       "  <th>Valor de Venda</th> <td>    0.5471</td> <td>    0.007</td> <td>   80.274</td> <td> 0.000</td> <td>    0.534</td> <td>    0.560</td>\n",
       "</tr>\n",
       "</table>\n",
       "<table class=\"simpletable\">\n",
       "<tr>\n",
       "  <th>Omnibus:</th>       <td>89.035</td> <th>  Durbin-Watson:     </th> <td>   1.955</td>\n",
       "</tr>\n",
       "<tr>\n",
       "  <th>Prob(Omnibus):</th> <td> 0.000</td> <th>  Jarque-Bera (JB):  </th> <td> 111.548</td>\n",
       "</tr>\n",
       "<tr>\n",
       "  <th>Skew:</th>          <td> 0.196</td> <th>  Prob(JB):          </th> <td>5.99e-25</td>\n",
       "</tr>\n",
       "<tr>\n",
       "  <th>Kurtosis:</th>      <td> 3.476</td> <th>  Cond. No.          </th> <td>    608.</td>\n",
       "</tr>\n",
       "</table><br/><br/>Warnings:<br/>[1] Standard Errors assume that the covariance matrix of the errors is correctly specified."
      ],
      "text/plain": [
       "<class 'statsmodels.iolib.summary.Summary'>\n",
       "\"\"\"\n",
       "                            OLS Regression Results                            \n",
       "==============================================================================\n",
       "Dep. Variable:        Valor de Compra   R-squared:                       0.478\n",
       "Model:                            OLS   Adj. R-squared:                  0.478\n",
       "Method:                 Least Squares   F-statistic:                     6444.\n",
       "Date:                Fri, 13 Dec 2019   Prob (F-statistic):               0.00\n",
       "Time:                        21:19:03   Log-Likelihood:                -20852.\n",
       "No. Observations:                7043   AIC:                         4.171e+04\n",
       "Df Residuals:                    7041   BIC:                         4.172e+04\n",
       "Df Model:                           1                                         \n",
       "Covariance Type:            nonrobust                                         \n",
       "==================================================================================\n",
       "                     coef    std err          t      P>|t|      [0.025      0.975]\n",
       "----------------------------------------------------------------------------------\n",
       "const             15.2378      0.480     31.728      0.000      14.296      16.179\n",
       "Valor de Venda     0.5471      0.007     80.274      0.000       0.534       0.560\n",
       "==============================================================================\n",
       "Omnibus:                       89.035   Durbin-Watson:                   1.955\n",
       "Prob(Omnibus):                  0.000   Jarque-Bera (JB):              111.548\n",
       "Skew:                           0.196   Prob(JB):                     5.99e-25\n",
       "Kurtosis:                       3.476   Cond. No.                         608.\n",
       "==============================================================================\n",
       "\n",
       "Warnings:\n",
       "[1] Standard Errors assume that the covariance matrix of the errors is correctly specified.\n",
       "\"\"\""
      ]
     },
     "execution_count": 187,
     "metadata": {},
     "output_type": "execute_result"
    }
   ],
   "source": [
    "stats_model = sm.OLS(best_X_train, sm.add_constant(best_y_train)).fit()\n",
    "stats_model.summary()"
   ]
  },
  {
   "cell_type": "markdown",
   "metadata": {},
   "source": [
    "### Prediction Visualization"
   ]
  },
  {
   "cell_type": "code",
   "execution_count": 137,
   "metadata": {},
   "outputs": [
    {
     "data": {
      "text/html": [
       "<div>\n",
       "<style scoped>\n",
       "    .dataframe tbody tr th:only-of-type {\n",
       "        vertical-align: middle;\n",
       "    }\n",
       "\n",
       "    .dataframe tbody tr th {\n",
       "        vertical-align: top;\n",
       "    }\n",
       "\n",
       "    .dataframe thead th {\n",
       "        text-align: right;\n",
       "    }\n",
       "</style>\n",
       "<table border=\"1\" class=\"dataframe\">\n",
       "  <thead>\n",
       "    <tr style=\"text-align: right;\">\n",
       "      <th></th>\n",
       "      <th>Actual</th>\n",
       "      <th>Predicted</th>\n",
       "    </tr>\n",
       "  </thead>\n",
       "  <tbody>\n",
       "    <tr>\n",
       "      <td>66857</td>\n",
       "      <td>65.0</td>\n",
       "      <td>74.8</td>\n",
       "    </tr>\n",
       "    <tr>\n",
       "      <td>35710</td>\n",
       "      <td>70.0</td>\n",
       "      <td>74.8</td>\n",
       "    </tr>\n",
       "    <tr>\n",
       "      <td>109484</td>\n",
       "      <td>60.0</td>\n",
       "      <td>63.1</td>\n",
       "    </tr>\n",
       "    <tr>\n",
       "      <td>113562</td>\n",
       "      <td>60.0</td>\n",
       "      <td>67.0</td>\n",
       "    </tr>\n",
       "    <tr>\n",
       "      <td>45150</td>\n",
       "      <td>70.0</td>\n",
       "      <td>73.3</td>\n",
       "    </tr>\n",
       "    <tr>\n",
       "      <td>...</td>\n",
       "      <td>...</td>\n",
       "      <td>...</td>\n",
       "    </tr>\n",
       "    <tr>\n",
       "      <td>87385</td>\n",
       "      <td>70.0</td>\n",
       "      <td>63.9</td>\n",
       "    </tr>\n",
       "    <tr>\n",
       "      <td>7737</td>\n",
       "      <td>70.0</td>\n",
       "      <td>67.0</td>\n",
       "    </tr>\n",
       "    <tr>\n",
       "      <td>26120</td>\n",
       "      <td>62.0</td>\n",
       "      <td>63.9</td>\n",
       "    </tr>\n",
       "    <tr>\n",
       "      <td>50412</td>\n",
       "      <td>65.0</td>\n",
       "      <td>64.7</td>\n",
       "    </tr>\n",
       "    <tr>\n",
       "      <td>36272</td>\n",
       "      <td>65.0</td>\n",
       "      <td>69.3</td>\n",
       "    </tr>\n",
       "  </tbody>\n",
       "</table>\n",
       "<p>3301 rows × 2 columns</p>\n",
       "</div>"
      ],
      "text/plain": [
       "        Actual  Predicted\n",
       "66857     65.0       74.8\n",
       "35710     70.0       74.8\n",
       "109484    60.0       63.1\n",
       "113562    60.0       67.0\n",
       "45150     70.0       73.3\n",
       "...        ...        ...\n",
       "87385     70.0       63.9\n",
       "7737      70.0       67.0\n",
       "26120     62.0       63.9\n",
       "50412     65.0       64.7\n",
       "36272     65.0       69.3\n",
       "\n",
       "[3301 rows x 2 columns]"
      ]
     },
     "execution_count": 137,
     "metadata": {},
     "output_type": "execute_result"
    }
   ],
   "source": [
    "#previsao\n",
    "\n",
    "y_pred = linearRegressor.predict(best_X_test)\n",
    "df = pd.DataFrame({'Actual': best_y_test, 'Predicted': np.round(y_pred,1)})\n",
    "df"
   ]
  },
  {
   "cell_type": "code",
   "execution_count": 138,
   "metadata": {},
   "outputs": [
    {
     "data": {
      "image/png": "[encoded data removed]",
      "text/plain": [
       "<Figure size 1152x720 with 1 Axes>"
      ]
     },
     "metadata": {
      "needs_background": "light"
     },
     "output_type": "display_data"
    }
   ],
   "source": [
    "df = df.head(30)\n",
    "df.plot(kind='bar',figsize=(16,10))\n",
    "plt.grid(which='major', linestyle='-', linewidth='0.5', color='gray')\n",
    "plt.grid(which='minor', linestyle=':', linewidth='0.5', color='black')\n",
    "plt.show()"
   ]
  },
  {
   "cell_type": "code",
   "execution_count": 139,
   "metadata": {},
   "outputs": [
    {
     "data": {
      "image/png": "[encoded data removed]",
      "text/plain": [
       "<Figure size 1152x720 with 1 Axes>"
      ]
     },
     "metadata": {
      "needs_background": "light"
     },
     "output_type": "display_data"
    }
   ],
   "source": [
    "figure = plt.figure(figsize=(16,10))\n",
    "plt.scatter(best_X_test, best_y_test)\n",
    "plt.plot(best_X_test, y_pred, color='red', linewidth=2)\n",
    "plt.show()"
   ]
  },
  {
   "cell_type": "markdown",
   "metadata": {},
   "source": [
    "### Análise do Erro: Homocedasticidade e Normalidade do Erro – 𝑁(0, 𝜎2)"
   ]
  },
  {
   "cell_type": "code",
   "execution_count": 140,
   "metadata": {},
   "outputs": [
    {
     "data": {
      "image/png": "[encoded data removed]",
      "text/plain": [
       "<Figure size 432x288 with 1 Axes>"
      ]
     },
     "metadata": {
      "needs_background": "light"
     },
     "output_type": "display_data"
    }
   ],
   "source": [
    "plt.plot(stats_model.fittedvalues, stats_model.resid, 'o') \n",
    "plt.title('Residuals vs Fitted Values') \n",
    "plt.xlabel('Fitted Values') \n",
    "plt.ylabel('Residuals')\n",
    "plt.show()"
   ]
  },
  {
   "cell_type": "code",
   "execution_count": 141,
   "metadata": {},
   "outputs": [
    {
     "data": {
      "image/png": "[encoded data removed]",
      "text/plain": [
       "<Figure size 432x288 with 1 Axes>"
      ]
     },
     "metadata": {
      "needs_background": "light"
     },
     "output_type": "display_data"
    },
    {
     "name": "stdout",
     "output_type": "stream",
     "text": [
      "W: 0.9909 p-value: 0.0000\n"
     ]
    },
    {
     "name": "stderr",
     "output_type": "stream",
     "text": [
      "/Users/leonardofaverobocardi/anaconda3/anaconda3/envs/python3/lib/python3.7/site-packages/scipy/stats/morestats.py:1309: UserWarning: p-value may not be accurate for N > 5000.\n",
      "  warnings.warn(\"p-value may not be accurate for N > 5000.\")\n",
      "/Users/leonardofaverobocardi/anaconda3/anaconda3/envs/python3/lib/python3.7/site-packages/scipy/stats/stats.py:1713: FutureWarning: Using a non-tuple sequence for multidimensional indexing is deprecated; use `arr[tuple(seq)]` instead of `arr[seq]`. In the future this will be interpreted as an array index, `arr[np.array(seq)]`, which will result either in an error or a different result.\n",
      "  return np.add.reduce(sorted[indexer] * weights, axis=axis) / sumval\n"
     ]
    },
    {
     "data": {
      "text/plain": [
       "<matplotlib.axes._subplots.AxesSubplot at 0x1c1d3da7d0>"
      ]
     },
     "execution_count": 141,
     "metadata": {},
     "output_type": "execute_result"
    },
    {
     "data": {
      "image/png": "[encoded data removed]",
      "text/plain": [
       "<Figure size 432x288 with 1 Axes>"
      ]
     },
     "metadata": {
      "needs_background": "light"
     },
     "output_type": "display_data"
    }
   ],
   "source": [
    "from scipy.stats import shapiro\n",
    "from scipy import stats\n",
    "\n",
    "z = (stats_model.resid - stats_model.resid.mean()) / stats_model.resid.std() \n",
    "\n",
    "stats.probplot(z, dist=\"norm\", plot=plt) \n",
    "plt.title(\"Normal Q-Q plot\")\n",
    "plt.show()\n",
    "\n",
    "#Teste de Normalidade\n",
    "stats, p = stats.shapiro(stats_model.resid) \n",
    "print(\"W: %.4f p-value: %.4f\" % (stats,p))\n",
    "\n",
    "#Gráfico de Densidade \n",
    "sns.distplot(stats_model.resid)"
   ]
  },
  {
   "cell_type": "code",
   "execution_count": null,
   "metadata": {},
   "outputs": [],
   "source": []
  }
 ],
 "metadata": {
  "kernelspec": {
   "display_name": "Python 3",
   "language": "python",
   "name": "python3"
  },
  "language_info": {
   "codemirror_mode": {
    "name": "ipython",
    "version": 3
   },
   "file_extension": ".py",
   "mimetype": "text/x-python",
   "name": "python",
   "nbconvert_exporter": "python",
   "pygments_lexer": "ipython3",
   "version": "3.7.4"
  }
 },
 "nbformat": 4,
 "nbformat_minor": 2
}
