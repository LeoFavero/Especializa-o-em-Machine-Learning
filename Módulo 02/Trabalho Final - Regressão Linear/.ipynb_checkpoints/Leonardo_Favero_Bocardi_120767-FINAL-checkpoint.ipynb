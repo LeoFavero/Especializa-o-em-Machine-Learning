{
 "cells": [
  {
   "cell_type": "code",
   "execution_count": 1,
   "metadata": {},
   "outputs": [
    {
     "name": "stderr",
     "output_type": "stream",
     "text": [
      "/Users/leonardofaverobocardi/anaconda3/anaconda3/envs/python3/lib/python3.7/site-packages/sklearn/utils/__init__.py:4: DeprecationWarning: Using or importing the ABCs from 'collections' instead of from 'collections.abc' is deprecated, and in 3.8 it will stop working\n",
      "  from collections import Sequence\n",
      "/Users/leonardofaverobocardi/anaconda3/anaconda3/envs/python3/lib/python3.7/site-packages/sklearn/model_selection/_split.py:18: DeprecationWarning: Using or importing the ABCs from 'collections' instead of from 'collections.abc' is deprecated, and in 3.8 it will stop working\n",
      "  from collections import Iterable\n"
     ]
    }
   ],
   "source": [
    "import numpy as np\n",
    "import pandas as pd\n",
    "import seaborn as sns \n",
    "import os\n",
    "import statsmodels.api as sm\n",
    "\n",
    "from scipy.stats import shapiro\n",
    "from scipy.stats import norm\n",
    "\n",
    "from matplotlib import pyplot as plt\n",
    "\n",
    "from sklearn.linear_model import LinearRegression\n",
    "from sklearn.model_selection import train_test_split\n",
    "from sklearn import metrics"
   ]
  },
  {
   "cell_type": "markdown",
   "metadata": {},
   "source": [
    "### Load Dataset into Pandas DataFrame"
   ]
  },
  {
   "cell_type": "code",
   "execution_count": 2,
   "metadata": {
    "scrolled": true
   },
   "outputs": [
    {
     "data": {
      "text/html": [
       "<div>\n",
       "<style scoped>\n",
       "    .dataframe tbody tr th:only-of-type {\n",
       "        vertical-align: middle;\n",
       "    }\n",
       "\n",
       "    .dataframe tbody tr th {\n",
       "        vertical-align: top;\n",
       "    }\n",
       "\n",
       "    .dataframe thead th {\n",
       "        text-align: right;\n",
       "    }\n",
       "</style>\n",
       "<table border=\"1\" class=\"dataframe\">\n",
       "  <thead>\n",
       "    <tr style=\"text-align: right;\">\n",
       "      <th></th>\n",
       "      <th>Unnamed: 0</th>\n",
       "      <th>NU_IDADE</th>\n",
       "      <th>NOTA_MEDIA</th>\n",
       "      <th>sexo</th>\n",
       "      <th>raca</th>\n",
       "      <th>natureza</th>\n",
       "      <th>pai</th>\n",
       "      <th>mae</th>\n",
       "      <th>renda</th>\n",
       "    </tr>\n",
       "  </thead>\n",
       "  <tbody>\n",
       "    <tr>\n",
       "      <td>0</td>\n",
       "      <td>1</td>\n",
       "      <td>18</td>\n",
       "      <td>578.18</td>\n",
       "      <td>1</td>\n",
       "      <td>branca</td>\n",
       "      <td>publica</td>\n",
       "      <td>5</td>\n",
       "      <td>2</td>\n",
       "      <td>K</td>\n",
       "    </tr>\n",
       "    <tr>\n",
       "      <td>1</td>\n",
       "      <td>2</td>\n",
       "      <td>19</td>\n",
       "      <td>567.04</td>\n",
       "      <td>0</td>\n",
       "      <td>branca</td>\n",
       "      <td>publica</td>\n",
       "      <td>2</td>\n",
       "      <td>4</td>\n",
       "      <td>E</td>\n",
       "    </tr>\n",
       "    <tr>\n",
       "      <td>2</td>\n",
       "      <td>3</td>\n",
       "      <td>18</td>\n",
       "      <td>452.42</td>\n",
       "      <td>1</td>\n",
       "      <td>branca</td>\n",
       "      <td>publica</td>\n",
       "      <td>2</td>\n",
       "      <td>2</td>\n",
       "      <td>D</td>\n",
       "    </tr>\n",
       "    <tr>\n",
       "      <td>3</td>\n",
       "      <td>4</td>\n",
       "      <td>17</td>\n",
       "      <td>698.00</td>\n",
       "      <td>0</td>\n",
       "      <td>branca</td>\n",
       "      <td>publica</td>\n",
       "      <td>5</td>\n",
       "      <td>4</td>\n",
       "      <td>H</td>\n",
       "    </tr>\n",
       "    <tr>\n",
       "      <td>4</td>\n",
       "      <td>5</td>\n",
       "      <td>18</td>\n",
       "      <td>481.30</td>\n",
       "      <td>0</td>\n",
       "      <td>parda</td>\n",
       "      <td>publica</td>\n",
       "      <td>2</td>\n",
       "      <td>2</td>\n",
       "      <td>D</td>\n",
       "    </tr>\n",
       "    <tr>\n",
       "      <td>5</td>\n",
       "      <td>6</td>\n",
       "      <td>24</td>\n",
       "      <td>505.64</td>\n",
       "      <td>0</td>\n",
       "      <td>branca</td>\n",
       "      <td>publica</td>\n",
       "      <td>1</td>\n",
       "      <td>2</td>\n",
       "      <td>C</td>\n",
       "    </tr>\n",
       "    <tr>\n",
       "      <td>6</td>\n",
       "      <td>7</td>\n",
       "      <td>17</td>\n",
       "      <td>553.02</td>\n",
       "      <td>1</td>\n",
       "      <td>parda</td>\n",
       "      <td>publica</td>\n",
       "      <td>2</td>\n",
       "      <td>2</td>\n",
       "      <td>F</td>\n",
       "    </tr>\n",
       "    <tr>\n",
       "      <td>7</td>\n",
       "      <td>8</td>\n",
       "      <td>17</td>\n",
       "      <td>590.96</td>\n",
       "      <td>0</td>\n",
       "      <td>branca</td>\n",
       "      <td>publica</td>\n",
       "      <td>4</td>\n",
       "      <td>4</td>\n",
       "      <td>D</td>\n",
       "    </tr>\n",
       "    <tr>\n",
       "      <td>8</td>\n",
       "      <td>9</td>\n",
       "      <td>19</td>\n",
       "      <td>506.26</td>\n",
       "      <td>1</td>\n",
       "      <td>parda</td>\n",
       "      <td>publica</td>\n",
       "      <td>1</td>\n",
       "      <td>1</td>\n",
       "      <td>A</td>\n",
       "    </tr>\n",
       "    <tr>\n",
       "      <td>9</td>\n",
       "      <td>10</td>\n",
       "      <td>17</td>\n",
       "      <td>595.78</td>\n",
       "      <td>0</td>\n",
       "      <td>preta</td>\n",
       "      <td>publica</td>\n",
       "      <td>2</td>\n",
       "      <td>2</td>\n",
       "      <td>G</td>\n",
       "    </tr>\n",
       "  </tbody>\n",
       "</table>\n",
       "</div>"
      ],
      "text/plain": [
       "   Unnamed: 0  NU_IDADE  NOTA_MEDIA  sexo    raca natureza  pai  mae renda\n",
       "0           1        18      578.18     1  branca  publica    5    2     K\n",
       "1           2        19      567.04     0  branca  publica    2    4     E\n",
       "2           3        18      452.42     1  branca  publica    2    2     D\n",
       "3           4        17      698.00     0  branca  publica    5    4     H\n",
       "4           5        18      481.30     0   parda  publica    2    2     D\n",
       "5           6        24      505.64     0  branca  publica    1    2     C\n",
       "6           7        17      553.02     1   parda  publica    2    2     F\n",
       "7           8        17      590.96     0  branca  publica    4    4     D\n",
       "8           9        19      506.26     1   parda  publica    1    1     A\n",
       "9          10        17      595.78     0   preta  publica    2    2     G"
      ]
     },
     "execution_count": 2,
     "metadata": {},
     "output_type": "execute_result"
    }
   ],
   "source": [
    "data = pd.read_csv('ENEM2017.csv', encoding = 'UTF-8', error_bad_lines=False)\n",
    "data.head(10)"
   ]
  },
  {
   "cell_type": "code",
   "execution_count": 3,
   "metadata": {},
   "outputs": [
    {
     "data": {
      "text/plain": [
       "publica     2968\n",
       "privada      929\n",
       "exterior      26\n",
       "Name: natureza, dtype: int64"
      ]
     },
     "execution_count": 3,
     "metadata": {},
     "output_type": "execute_result"
    }
   ],
   "source": [
    "data['natureza'].value_counts()"
   ]
  },
  {
   "cell_type": "markdown",
   "metadata": {},
   "source": [
    "### Dataset Exploration"
   ]
  },
  {
   "cell_type": "code",
   "execution_count": 4,
   "metadata": {},
   "outputs": [
    {
     "data": {
      "text/plain": [
       "(3923, 9)"
      ]
     },
     "execution_count": 4,
     "metadata": {},
     "output_type": "execute_result"
    }
   ],
   "source": [
    "data.shape"
   ]
  },
  {
   "cell_type": "code",
   "execution_count": 5,
   "metadata": {},
   "outputs": [
    {
     "data": {
      "text/plain": [
       "Unnamed: 0      int64\n",
       "NU_IDADE        int64\n",
       "NOTA_MEDIA    float64\n",
       "sexo            int64\n",
       "raca           object\n",
       "natureza       object\n",
       "pai             int64\n",
       "mae             int64\n",
       "renda          object\n",
       "dtype: object"
      ]
     },
     "execution_count": 5,
     "metadata": {},
     "output_type": "execute_result"
    }
   ],
   "source": [
    "data.dtypes"
   ]
  },
  {
   "cell_type": "code",
   "execution_count": 6,
   "metadata": {},
   "outputs": [],
   "source": [
    "data['sexo'] = data['sexo'].astype('category')\n",
    "data['sexo_cat'] = data['sexo'].cat.codes\n",
    "data['pai'] = data['pai'].astype('category')\n",
    "data[\"pai_cat\"] = data[\"pai\"].cat.codes\n",
    "data['mae'] = data['mae'].astype('category')\n",
    "data[\"mae_cat\"] = data[\"mae\"].cat.codes\n",
    "data['renda'] = data['renda'].astype('category')\n",
    "data[\"renda_cat\"] = data[\"renda\"].cat.codes\n",
    "data['raca'] = data['raca'].astype('category')\n",
    "data['raca_cat'] = data['raca'].cat.codes\n",
    "data['natureza'] = data['natureza'].astype('category')\n",
    "data['natureza_cat'] = data['natureza'].cat.codes"
   ]
  },
  {
   "cell_type": "code",
   "execution_count": 7,
   "metadata": {},
   "outputs": [
    {
     "data": {
      "text/plain": [
       "Unnamed: 0         int64\n",
       "NU_IDADE           int64\n",
       "NOTA_MEDIA       float64\n",
       "sexo            category\n",
       "raca            category\n",
       "natureza        category\n",
       "pai             category\n",
       "mae             category\n",
       "renda           category\n",
       "sexo_cat            int8\n",
       "pai_cat             int8\n",
       "mae_cat             int8\n",
       "renda_cat           int8\n",
       "raca_cat            int8\n",
       "natureza_cat        int8\n",
       "dtype: object"
      ]
     },
     "execution_count": 7,
     "metadata": {},
     "output_type": "execute_result"
    }
   ],
   "source": [
    "data.dtypes"
   ]
  },
  {
   "cell_type": "code",
   "execution_count": 8,
   "metadata": {},
   "outputs": [
    {
     "data": {
      "text/html": [
       "<div>\n",
       "<style scoped>\n",
       "    .dataframe tbody tr th:only-of-type {\n",
       "        vertical-align: middle;\n",
       "    }\n",
       "\n",
       "    .dataframe tbody tr th {\n",
       "        vertical-align: top;\n",
       "    }\n",
       "\n",
       "    .dataframe thead th {\n",
       "        text-align: right;\n",
       "    }\n",
       "</style>\n",
       "<table border=\"1\" class=\"dataframe\">\n",
       "  <thead>\n",
       "    <tr style=\"text-align: right;\">\n",
       "      <th></th>\n",
       "      <th>Unnamed: 0</th>\n",
       "      <th>NU_IDADE</th>\n",
       "      <th>NOTA_MEDIA</th>\n",
       "      <th>sexo_cat</th>\n",
       "      <th>pai_cat</th>\n",
       "      <th>mae_cat</th>\n",
       "      <th>renda_cat</th>\n",
       "      <th>raca_cat</th>\n",
       "      <th>natureza_cat</th>\n",
       "    </tr>\n",
       "  </thead>\n",
       "  <tbody>\n",
       "    <tr>\n",
       "      <td>count</td>\n",
       "      <td>3923.000000</td>\n",
       "      <td>3923.000000</td>\n",
       "      <td>3923.000000</td>\n",
       "      <td>3923.000000</td>\n",
       "      <td>3923.000000</td>\n",
       "      <td>3923.000000</td>\n",
       "      <td>3923.000000</td>\n",
       "      <td>3923.000000</td>\n",
       "      <td>3923.000000</td>\n",
       "    </tr>\n",
       "    <tr>\n",
       "      <td>mean</td>\n",
       "      <td>1962.000000</td>\n",
       "      <td>17.538618</td>\n",
       "      <td>535.393005</td>\n",
       "      <td>0.565893</td>\n",
       "      <td>2.299771</td>\n",
       "      <td>1.974764</td>\n",
       "      <td>5.625032</td>\n",
       "      <td>1.616620</td>\n",
       "      <td>1.749936</td>\n",
       "    </tr>\n",
       "    <tr>\n",
       "      <td>std</td>\n",
       "      <td>1132.616881</td>\n",
       "      <td>1.867138</td>\n",
       "      <td>74.129816</td>\n",
       "      <td>0.495702</td>\n",
       "      <td>0.963043</td>\n",
       "      <td>1.060450</td>\n",
       "      <td>3.684021</td>\n",
       "      <td>1.050412</td>\n",
       "      <td>0.448150</td>\n",
       "    </tr>\n",
       "    <tr>\n",
       "      <td>min</td>\n",
       "      <td>1.000000</td>\n",
       "      <td>16.000000</td>\n",
       "      <td>243.740000</td>\n",
       "      <td>0.000000</td>\n",
       "      <td>0.000000</td>\n",
       "      <td>0.000000</td>\n",
       "      <td>0.000000</td>\n",
       "      <td>0.000000</td>\n",
       "      <td>0.000000</td>\n",
       "    </tr>\n",
       "    <tr>\n",
       "      <td>25%</td>\n",
       "      <td>981.500000</td>\n",
       "      <td>17.000000</td>\n",
       "      <td>485.650000</td>\n",
       "      <td>0.000000</td>\n",
       "      <td>2.000000</td>\n",
       "      <td>1.000000</td>\n",
       "      <td>3.000000</td>\n",
       "      <td>1.000000</td>\n",
       "      <td>2.000000</td>\n",
       "    </tr>\n",
       "    <tr>\n",
       "      <td>50%</td>\n",
       "      <td>1962.000000</td>\n",
       "      <td>17.000000</td>\n",
       "      <td>529.880000</td>\n",
       "      <td>1.000000</td>\n",
       "      <td>2.000000</td>\n",
       "      <td>2.000000</td>\n",
       "      <td>5.000000</td>\n",
       "      <td>1.000000</td>\n",
       "      <td>2.000000</td>\n",
       "    </tr>\n",
       "    <tr>\n",
       "      <td>75%</td>\n",
       "      <td>2942.500000</td>\n",
       "      <td>18.000000</td>\n",
       "      <td>582.590000</td>\n",
       "      <td>1.000000</td>\n",
       "      <td>3.000000</td>\n",
       "      <td>3.000000</td>\n",
       "      <td>7.000000</td>\n",
       "      <td>3.000000</td>\n",
       "      <td>2.000000</td>\n",
       "    </tr>\n",
       "    <tr>\n",
       "      <td>max</td>\n",
       "      <td>3923.000000</td>\n",
       "      <td>58.000000</td>\n",
       "      <td>773.000000</td>\n",
       "      <td>1.000000</td>\n",
       "      <td>4.000000</td>\n",
       "      <td>4.000000</td>\n",
       "      <td>16.000000</td>\n",
       "      <td>4.000000</td>\n",
       "      <td>2.000000</td>\n",
       "    </tr>\n",
       "  </tbody>\n",
       "</table>\n",
       "</div>"
      ],
      "text/plain": [
       "        Unnamed: 0     NU_IDADE   NOTA_MEDIA     sexo_cat      pai_cat  \\\n",
       "count  3923.000000  3923.000000  3923.000000  3923.000000  3923.000000   \n",
       "mean   1962.000000    17.538618   535.393005     0.565893     2.299771   \n",
       "std    1132.616881     1.867138    74.129816     0.495702     0.963043   \n",
       "min       1.000000    16.000000   243.740000     0.000000     0.000000   \n",
       "25%     981.500000    17.000000   485.650000     0.000000     2.000000   \n",
       "50%    1962.000000    17.000000   529.880000     1.000000     2.000000   \n",
       "75%    2942.500000    18.000000   582.590000     1.000000     3.000000   \n",
       "max    3923.000000    58.000000   773.000000     1.000000     4.000000   \n",
       "\n",
       "           mae_cat    renda_cat     raca_cat  natureza_cat  \n",
       "count  3923.000000  3923.000000  3923.000000   3923.000000  \n",
       "mean      1.974764     5.625032     1.616620      1.749936  \n",
       "std       1.060450     3.684021     1.050412      0.448150  \n",
       "min       0.000000     0.000000     0.000000      0.000000  \n",
       "25%       1.000000     3.000000     1.000000      2.000000  \n",
       "50%       2.000000     5.000000     1.000000      2.000000  \n",
       "75%       3.000000     7.000000     3.000000      2.000000  \n",
       "max       4.000000    16.000000     4.000000      2.000000  "
      ]
     },
     "execution_count": 8,
     "metadata": {},
     "output_type": "execute_result"
    }
   ],
   "source": [
    "data.describe()"
   ]
  },
  {
   "cell_type": "code",
   "execution_count": 9,
   "metadata": {},
   "outputs": [
    {
     "data": {
      "text/html": [
       "<div>\n",
       "<style scoped>\n",
       "    .dataframe tbody tr th:only-of-type {\n",
       "        vertical-align: middle;\n",
       "    }\n",
       "\n",
       "    .dataframe tbody tr th {\n",
       "        vertical-align: top;\n",
       "    }\n",
       "\n",
       "    .dataframe thead th {\n",
       "        text-align: right;\n",
       "    }\n",
       "</style>\n",
       "<table border=\"1\" class=\"dataframe\">\n",
       "  <thead>\n",
       "    <tr style=\"text-align: right;\">\n",
       "      <th></th>\n",
       "      <th>Unnamed: 0</th>\n",
       "      <th>NU_IDADE</th>\n",
       "      <th>NOTA_MEDIA</th>\n",
       "      <th>sexo_cat</th>\n",
       "      <th>pai_cat</th>\n",
       "      <th>mae_cat</th>\n",
       "      <th>renda_cat</th>\n",
       "      <th>raca_cat</th>\n",
       "      <th>natureza_cat</th>\n",
       "    </tr>\n",
       "  </thead>\n",
       "  <tbody>\n",
       "    <tr>\n",
       "      <td>Unnamed: 0</td>\n",
       "      <td>1.000000</td>\n",
       "      <td>0.049135</td>\n",
       "      <td>-0.200344</td>\n",
       "      <td>-0.117473</td>\n",
       "      <td>-0.072292</td>\n",
       "      <td>-0.081569</td>\n",
       "      <td>-0.048955</td>\n",
       "      <td>-0.005138</td>\n",
       "      <td>0.068053</td>\n",
       "    </tr>\n",
       "    <tr>\n",
       "      <td>NU_IDADE</td>\n",
       "      <td>0.049135</td>\n",
       "      <td>1.000000</td>\n",
       "      <td>-0.109761</td>\n",
       "      <td>-0.025546</td>\n",
       "      <td>-0.136752</td>\n",
       "      <td>-0.118687</td>\n",
       "      <td>-0.070602</td>\n",
       "      <td>0.013401</td>\n",
       "      <td>0.056185</td>\n",
       "    </tr>\n",
       "    <tr>\n",
       "      <td>NOTA_MEDIA</td>\n",
       "      <td>-0.200344</td>\n",
       "      <td>-0.109761</td>\n",
       "      <td>1.000000</td>\n",
       "      <td>-0.042951</td>\n",
       "      <td>0.363383</td>\n",
       "      <td>0.357119</td>\n",
       "      <td>0.445967</td>\n",
       "      <td>-0.168830</td>\n",
       "      <td>-0.517378</td>\n",
       "    </tr>\n",
       "    <tr>\n",
       "      <td>sexo_cat</td>\n",
       "      <td>-0.117473</td>\n",
       "      <td>-0.025546</td>\n",
       "      <td>-0.042951</td>\n",
       "      <td>1.000000</td>\n",
       "      <td>-0.042456</td>\n",
       "      <td>-0.057224</td>\n",
       "      <td>-0.089437</td>\n",
       "      <td>0.013272</td>\n",
       "      <td>0.024265</td>\n",
       "    </tr>\n",
       "    <tr>\n",
       "      <td>pai_cat</td>\n",
       "      <td>-0.072292</td>\n",
       "      <td>-0.136752</td>\n",
       "      <td>0.363383</td>\n",
       "      <td>-0.042456</td>\n",
       "      <td>1.000000</td>\n",
       "      <td>0.482520</td>\n",
       "      <td>0.540575</td>\n",
       "      <td>-0.170422</td>\n",
       "      <td>-0.463125</td>\n",
       "    </tr>\n",
       "    <tr>\n",
       "      <td>mae_cat</td>\n",
       "      <td>-0.081569</td>\n",
       "      <td>-0.118687</td>\n",
       "      <td>0.357119</td>\n",
       "      <td>-0.057224</td>\n",
       "      <td>0.482520</td>\n",
       "      <td>1.000000</td>\n",
       "      <td>0.495157</td>\n",
       "      <td>-0.161134</td>\n",
       "      <td>-0.440882</td>\n",
       "    </tr>\n",
       "    <tr>\n",
       "      <td>renda_cat</td>\n",
       "      <td>-0.048955</td>\n",
       "      <td>-0.070602</td>\n",
       "      <td>0.445967</td>\n",
       "      <td>-0.089437</td>\n",
       "      <td>0.540575</td>\n",
       "      <td>0.495157</td>\n",
       "      <td>1.000000</td>\n",
       "      <td>-0.202012</td>\n",
       "      <td>-0.570306</td>\n",
       "    </tr>\n",
       "    <tr>\n",
       "      <td>raca_cat</td>\n",
       "      <td>-0.005138</td>\n",
       "      <td>0.013401</td>\n",
       "      <td>-0.168830</td>\n",
       "      <td>0.013272</td>\n",
       "      <td>-0.170422</td>\n",
       "      <td>-0.161134</td>\n",
       "      <td>-0.202012</td>\n",
       "      <td>1.000000</td>\n",
       "      <td>0.200896</td>\n",
       "    </tr>\n",
       "    <tr>\n",
       "      <td>natureza_cat</td>\n",
       "      <td>0.068053</td>\n",
       "      <td>0.056185</td>\n",
       "      <td>-0.517378</td>\n",
       "      <td>0.024265</td>\n",
       "      <td>-0.463125</td>\n",
       "      <td>-0.440882</td>\n",
       "      <td>-0.570306</td>\n",
       "      <td>0.200896</td>\n",
       "      <td>1.000000</td>\n",
       "    </tr>\n",
       "  </tbody>\n",
       "</table>\n",
       "</div>"
      ],
      "text/plain": [
       "              Unnamed: 0  NU_IDADE  NOTA_MEDIA  sexo_cat   pai_cat   mae_cat  \\\n",
       "Unnamed: 0      1.000000  0.049135   -0.200344 -0.117473 -0.072292 -0.081569   \n",
       "NU_IDADE        0.049135  1.000000   -0.109761 -0.025546 -0.136752 -0.118687   \n",
       "NOTA_MEDIA     -0.200344 -0.109761    1.000000 -0.042951  0.363383  0.357119   \n",
       "sexo_cat       -0.117473 -0.025546   -0.042951  1.000000 -0.042456 -0.057224   \n",
       "pai_cat        -0.072292 -0.136752    0.363383 -0.042456  1.000000  0.482520   \n",
       "mae_cat        -0.081569 -0.118687    0.357119 -0.057224  0.482520  1.000000   \n",
       "renda_cat      -0.048955 -0.070602    0.445967 -0.089437  0.540575  0.495157   \n",
       "raca_cat       -0.005138  0.013401   -0.168830  0.013272 -0.170422 -0.161134   \n",
       "natureza_cat    0.068053  0.056185   -0.517378  0.024265 -0.463125 -0.440882   \n",
       "\n",
       "              renda_cat  raca_cat  natureza_cat  \n",
       "Unnamed: 0    -0.048955 -0.005138      0.068053  \n",
       "NU_IDADE      -0.070602  0.013401      0.056185  \n",
       "NOTA_MEDIA     0.445967 -0.168830     -0.517378  \n",
       "sexo_cat      -0.089437  0.013272      0.024265  \n",
       "pai_cat        0.540575 -0.170422     -0.463125  \n",
       "mae_cat        0.495157 -0.161134     -0.440882  \n",
       "renda_cat      1.000000 -0.202012     -0.570306  \n",
       "raca_cat      -0.202012  1.000000      0.200896  \n",
       "natureza_cat  -0.570306  0.200896      1.000000  "
      ]
     },
     "execution_count": 9,
     "metadata": {},
     "output_type": "execute_result"
    }
   ],
   "source": [
    "data.corr()"
   ]
  },
  {
   "cell_type": "code",
   "execution_count": 10,
   "metadata": {
    "scrolled": false
   },
   "outputs": [
    {
     "data": {
      "image/png": "[encoded data removed]",
      "text/plain": [
       "<Figure size 432x288 with 1 Axes>"
      ]
     },
     "metadata": {
      "needs_background": "light"
     },
     "output_type": "display_data"
    },
    {
     "data": {
      "image/png": "[encoded data removed]",
      "text/plain": [
       "<Figure size 432x288 with 1 Axes>"
      ]
     },
     "metadata": {
      "needs_background": "light"
     },
     "output_type": "display_data"
    },
    {
     "data": {
      "image/png": "[encoded data removed]",
      "text/plain": [
       "<Figure size 432x288 with 1 Axes>"
      ]
     },
     "metadata": {
      "needs_background": "light"
     },
     "output_type": "display_data"
    },
    {
     "data": {
      "image/png": "[encoded data removed]",
      "text/plain": [
       "<Figure size 432x288 with 1 Axes>"
      ]
     },
     "metadata": {
      "needs_background": "light"
     },
     "output_type": "display_data"
    },
    {
     "data": {
      "image/png": "[encoded data removed]",
      "text/plain": [
       "<Figure size 432x288 with 1 Axes>"
      ]
     },
     "metadata": {
      "needs_background": "light"
     },
     "output_type": "display_data"
    },
    {
     "data": {
      "image/png": "[encoded data removed]",
      "text/plain": [
       "<Figure size 432x288 with 1 Axes>"
      ]
     },
     "metadata": {
      "needs_background": "light"
     },
     "output_type": "display_data"
    },
    {
     "data": {
      "image/png": "[encoded data removed]",
      "text/plain": [
       "<Figure size 432x288 with 1 Axes>"
      ]
     },
     "metadata": {
      "needs_background": "light"
     },
     "output_type": "display_data"
    }
   ],
   "source": [
    "lst = ['NU_IDADE','sexo_cat','pai_cat','mae_cat','renda_cat','raca_cat','natureza_cat']\n",
    "for i in lst:\n",
    "    plt.scatter(data[i], data['NOTA_MEDIA'])\n",
    "    plt.xlabel(i)\n",
    "    plt.ylabel('Nota Media')\n",
    "    plt.show()"
   ]
  },
  {
   "cell_type": "markdown",
   "metadata": {},
   "source": [
    "### Teste de Normalidade (SHAPIRO) na variável independente"
   ]
  },
  {
   "cell_type": "code",
   "execution_count": 11,
   "metadata": {},
   "outputs": [
    {
     "name": "stderr",
     "output_type": "stream",
     "text": [
      "/Users/leonardofaverobocardi/anaconda3/anaconda3/envs/python3/lib/python3.7/site-packages/scipy/stats/stats.py:1713: FutureWarning: Using a non-tuple sequence for multidimensional indexing is deprecated; use `arr[tuple(seq)]` instead of `arr[seq]`. In the future this will be interpreted as an array index, `arr[np.array(seq)]`, which will result either in an error or a different result.\n",
      "  return np.add.reduce(sorted[indexer] * weights, axis=axis) / sumval\n"
     ]
    },
    {
     "data": {
      "text/plain": [
       "<matplotlib.axes._subplots.AxesSubplot at 0x1c1c97cd10>"
      ]
     },
     "execution_count": 11,
     "metadata": {},
     "output_type": "execute_result"
    },
    {
     "data": {
      "image/png": "[encoded data removed]",
      "text/plain": [
       "<Figure size 432x288 with 1 Axes>"
      ]
     },
     "metadata": {
      "needs_background": "light"
     },
     "output_type": "display_data"
    }
   ],
   "source": [
    "sns.distplot(data['NOTA_MEDIA'])"
   ]
  },
  {
   "cell_type": "markdown",
   "metadata": {},
   "source": [
    "### Teste de SHAPIRO"
   ]
  },
  {
   "cell_type": "code",
   "execution_count": 12,
   "metadata": {},
   "outputs": [
    {
     "name": "stdout",
     "output_type": "stream",
     "text": [
      "0.9972172975540161\n",
      "1.3315283240444842e-06\n"
     ]
    }
   ],
   "source": [
    "stats, p = shapiro(data['NOTA_MEDIA'])\n",
    "print(stats)\n",
    "print(p) # se o p-valor for menor que a significancia alpha, a hipotese nula é rejeitada"
   ]
  },
  {
   "cell_type": "code",
   "execution_count": 29,
   "metadata": {},
   "outputs": [
    {
     "name": "stdout",
     "output_type": "stream",
     "text": [
      "Kruskal-Wallis para sexo_cat\n",
      "==============\n",
      "KW value: 6083.773813799077\n",
      "p value: 0.0 \n",
      "\n",
      "Kruskal-Wallis para pai_cat\n",
      "==============\n",
      "KW value: 5952.684263232041\n",
      "p value: 0.0 \n",
      "\n",
      "Kruskal-Wallis para mae_cat\n",
      "==============\n",
      "KW value: 5982.244867160137\n",
      "p value: 0.0 \n",
      "\n",
      "Kruskal-Wallis para renda_cat\n",
      "==============\n",
      "KW value: 5892.0960571840005\n",
      "p value: 0.0 \n",
      "\n",
      "Kruskal-Wallis para raca_cat\n",
      "==============\n",
      "KW value: 6143.208149087871\n",
      "p value: 0.0 \n",
      "\n",
      "Kruskal-Wallis para natureza_cat\n",
      "==============\n",
      "KW value: 6231.407193209667\n",
      "p value: 0.0 \n",
      "\n"
     ]
    }
   ],
   "source": [
    "from scipy import stats\n",
    "\n",
    "lst = ['sexo_cat','pai_cat','mae_cat','renda_cat','raca_cat','natureza_cat']\n",
    "\n",
    "for i in lst:\n",
    "    kw, p = stats.kruskal(data['NOTA_MEDIA'], data[i])\n",
    "\n",
    "    print('Kruskal-Wallis para '+i)\n",
    "    print('==============')\n",
    "    print('KW value:',kw)\n",
    "    print('p value:',p,'\\n')"
   ]
  },
  {
   "cell_type": "markdown",
   "metadata": {},
   "source": [
    "### Teste de Dunn - Quando a H0 é aceita"
   ]
  },
  {
   "cell_type": "code",
   "execution_count": 14,
   "metadata": {
    "collapsed": true
   },
   "outputs": [
    {
     "name": "stdout",
     "output_type": "stream",
     "text": [
      "Requirement already satisfied: scikit-posthocs in /Users/leonardofaverobocardi/anaconda3/anaconda3/envs/python3/lib/python3.7/site-packages (0.6.1)\n",
      "Requirement already satisfied: pandas>=0.20.0 in /Users/leonardofaverobocardi/anaconda3/anaconda3/envs/python3/lib/python3.7/site-packages (from scikit-posthocs) (0.25.1)\n",
      "Requirement already satisfied: statsmodels in /Users/leonardofaverobocardi/anaconda3/anaconda3/envs/python3/lib/python3.7/site-packages (from scikit-posthocs) (0.10.1)\n",
      "Requirement already satisfied: matplotlib in /Users/leonardofaverobocardi/anaconda3/anaconda3/envs/python3/lib/python3.7/site-packages (from scikit-posthocs) (3.1.1)\n",
      "Requirement already satisfied: scipy in /Users/leonardofaverobocardi/anaconda3/anaconda3/envs/python3/lib/python3.7/site-packages (from scikit-posthocs) (1.1.0)\n",
      "Requirement already satisfied: numpy in /Users/leonardofaverobocardi/anaconda3/anaconda3/envs/python3/lib/python3.7/site-packages (from scikit-posthocs) (1.15.0)\n",
      "Requirement already satisfied: seaborn in /Users/leonardofaverobocardi/anaconda3/anaconda3/envs/python3/lib/python3.7/site-packages (from scikit-posthocs) (0.9.0)\n",
      "Requirement already satisfied: pytz>=2017.2 in /Users/leonardofaverobocardi/anaconda3/anaconda3/envs/python3/lib/python3.7/site-packages (from pandas>=0.20.0->scikit-posthocs) (2019.3)\n",
      "Requirement already satisfied: python-dateutil>=2.6.1 in /Users/leonardofaverobocardi/anaconda3/anaconda3/envs/python3/lib/python3.7/site-packages (from pandas>=0.20.0->scikit-posthocs) (2.8.0)\n",
      "Requirement already satisfied: patsy>=0.4.0 in /Users/leonardofaverobocardi/anaconda3/anaconda3/envs/python3/lib/python3.7/site-packages (from statsmodels->scikit-posthocs) (0.5.1)\n",
      "Requirement already satisfied: cycler>=0.10 in /Users/leonardofaverobocardi/anaconda3/anaconda3/envs/python3/lib/python3.7/site-packages (from matplotlib->scikit-posthocs) (0.10.0)\n",
      "Requirement already satisfied: kiwisolver>=1.0.1 in /Users/leonardofaverobocardi/anaconda3/anaconda3/envs/python3/lib/python3.7/site-packages (from matplotlib->scikit-posthocs) (1.1.0)\n",
      "Requirement already satisfied: pyparsing!=2.0.4,!=2.1.2,!=2.1.6,>=2.0.1 in /Users/leonardofaverobocardi/anaconda3/anaconda3/envs/python3/lib/python3.7/site-packages (from matplotlib->scikit-posthocs) (2.4.2)\n",
      "Requirement already satisfied: six>=1.5 in /Users/leonardofaverobocardi/anaconda3/anaconda3/envs/python3/lib/python3.7/site-packages (from python-dateutil>=2.6.1->pandas>=0.20.0->scikit-posthocs) (1.12.0)\n",
      "Requirement already satisfied: setuptools in /Users/leonardofaverobocardi/anaconda3/anaconda3/envs/python3/lib/python3.7/site-packages (from kiwisolver>=1.0.1->matplotlib->scikit-posthocs) (41.4.0)\n",
      "Note: you may need to restart the kernel to use updated packages.\n"
     ]
    }
   ],
   "source": [
    "pip install scikit-posthocs"
   ]
  },
  {
   "cell_type": "code",
   "execution_count": 15,
   "metadata": {},
   "outputs": [],
   "source": [
    "import scikit_posthocs as sp"
   ]
  },
  {
   "cell_type": "code",
   "execution_count": 53,
   "metadata": {},
   "outputs": [
    {
     "data": {
      "text/plain": [
       "1    2220\n",
       "0    1703\n",
       "Name: sexo_cat, dtype: int64"
      ]
     },
     "execution_count": 53,
     "metadata": {},
     "output_type": "execute_result"
    }
   ],
   "source": [
    "data['sexo_cat'].value_counts()"
   ]
  },
  {
   "cell_type": "code",
   "execution_count": 58,
   "metadata": {},
   "outputs": [
    {
     "data": {
      "text/html": [
       "<div>\n",
       "<style scoped>\n",
       "    .dataframe tbody tr th:only-of-type {\n",
       "        vertical-align: middle;\n",
       "    }\n",
       "\n",
       "    .dataframe tbody tr th {\n",
       "        vertical-align: top;\n",
       "    }\n",
       "\n",
       "    .dataframe thead th {\n",
       "        text-align: right;\n",
       "    }\n",
       "</style>\n",
       "<table border=\"1\" class=\"dataframe\">\n",
       "  <thead>\n",
       "    <tr style=\"text-align: right;\">\n",
       "      <th></th>\n",
       "      <th>0</th>\n",
       "      <th>1</th>\n",
       "    </tr>\n",
       "  </thead>\n",
       "  <tbody>\n",
       "    <tr>\n",
       "      <td>0</td>\n",
       "      <td>true</td>\n",
       "      <td>false</td>\n",
       "    </tr>\n",
       "    <tr>\n",
       "      <td>1</td>\n",
       "      <td>false</td>\n",
       "      <td>true</td>\n",
       "    </tr>\n",
       "  </tbody>\n",
       "</table>\n",
       "</div>"
      ],
      "text/plain": [
       "       0      1\n",
       "0   true  false\n",
       "1  false   true"
      ]
     },
     "execution_count": 58,
     "metadata": {},
     "output_type": "execute_result"
    }
   ],
   "source": [
    "# DUNN PARA SEXO\n",
    "lst = [data[data['sexo_cat']==0]['NOTA_MEDIA'],\n",
    "data[data['sexo_cat']==1]['NOTA_MEDIA']]\n",
    "\n",
    "df = sp.posthoc_dunn(lst,p_adjust='holm')\n",
    "\n",
    "df = pd.DataFrame(np.where(abs(df) >= 0.05, 'true', 'false'))\n",
    "df"
   ]
  },
  {
   "cell_type": "code",
   "execution_count": 52,
   "metadata": {},
   "outputs": [
    {
     "name": "stdout",
     "output_type": "stream",
     "text": [
      "Média Sexo 0: 539.0278\n",
      "Média Sexo 1: 532.6047\n",
      "Diferença entre as médias:  6.4231\n"
     ]
    }
   ],
   "source": [
    "fem = data[data['sexo'] == 0]['NOTA_MEDIA'].mean()\n",
    "mas = data[data['sexo'] == 1]['NOTA_MEDIA'].mean()\n",
    "\n",
    "print('Média Sexo 0:', round(fem,4))\n",
    "print('Média Sexo 1:', round(mas,4))\n",
    "print('Diferença entre as médias: ', round(abs(mas-fem),4))"
   ]
  },
  {
   "cell_type": "code",
   "execution_count": 69,
   "metadata": {},
   "outputs": [
    {
     "data": {
      "text/plain": [
       "2     603\n",
       "4     495\n",
       "6     495\n",
       "3     468\n",
       "5     380\n",
       "7     337\n",
       "8     217\n",
       "1     206\n",
       "9     164\n",
       "16     94\n",
       "13     92\n",
       "10     85\n",
       "14     73\n",
       "11     64\n",
       "15     62\n",
       "12     52\n",
       "0      36\n",
       "Name: renda_cat, dtype: int64"
      ]
     },
     "execution_count": 69,
     "metadata": {},
     "output_type": "execute_result"
    }
   ],
   "source": [
    "data['renda_cat'].value_counts()"
   ]
  },
  {
   "cell_type": "code",
   "execution_count": 59,
   "metadata": {},
   "outputs": [
    {
     "data": {
      "text/html": [
       "<div>\n",
       "<style scoped>\n",
       "    .dataframe tbody tr th:only-of-type {\n",
       "        vertical-align: middle;\n",
       "    }\n",
       "\n",
       "    .dataframe tbody tr th {\n",
       "        vertical-align: top;\n",
       "    }\n",
       "\n",
       "    .dataframe thead th {\n",
       "        text-align: right;\n",
       "    }\n",
       "</style>\n",
       "<table border=\"1\" class=\"dataframe\">\n",
       "  <thead>\n",
       "    <tr style=\"text-align: right;\">\n",
       "      <th></th>\n",
       "      <th>0</th>\n",
       "      <th>1</th>\n",
       "      <th>2</th>\n",
       "      <th>3</th>\n",
       "      <th>4</th>\n",
       "      <th>5</th>\n",
       "      <th>6</th>\n",
       "      <th>7</th>\n",
       "      <th>8</th>\n",
       "      <th>9</th>\n",
       "      <th>10</th>\n",
       "      <th>11</th>\n",
       "      <th>12</th>\n",
       "      <th>13</th>\n",
       "      <th>14</th>\n",
       "      <th>15</th>\n",
       "      <th>16</th>\n",
       "    </tr>\n",
       "  </thead>\n",
       "  <tbody>\n",
       "    <tr>\n",
       "      <td>0</td>\n",
       "      <td>true</td>\n",
       "      <td>true</td>\n",
       "      <td>true</td>\n",
       "      <td>true</td>\n",
       "      <td>true</td>\n",
       "      <td>true</td>\n",
       "      <td>true</td>\n",
       "      <td>false</td>\n",
       "      <td>false</td>\n",
       "      <td>false</td>\n",
       "      <td>false</td>\n",
       "      <td>false</td>\n",
       "      <td>false</td>\n",
       "      <td>false</td>\n",
       "      <td>false</td>\n",
       "      <td>false</td>\n",
       "      <td>false</td>\n",
       "    </tr>\n",
       "    <tr>\n",
       "      <td>1</td>\n",
       "      <td>true</td>\n",
       "      <td>true</td>\n",
       "      <td>true</td>\n",
       "      <td>false</td>\n",
       "      <td>false</td>\n",
       "      <td>false</td>\n",
       "      <td>false</td>\n",
       "      <td>false</td>\n",
       "      <td>false</td>\n",
       "      <td>false</td>\n",
       "      <td>false</td>\n",
       "      <td>false</td>\n",
       "      <td>false</td>\n",
       "      <td>false</td>\n",
       "      <td>false</td>\n",
       "      <td>false</td>\n",
       "      <td>false</td>\n",
       "    </tr>\n",
       "    <tr>\n",
       "      <td>2</td>\n",
       "      <td>true</td>\n",
       "      <td>true</td>\n",
       "      <td>true</td>\n",
       "      <td>false</td>\n",
       "      <td>true</td>\n",
       "      <td>false</td>\n",
       "      <td>false</td>\n",
       "      <td>false</td>\n",
       "      <td>false</td>\n",
       "      <td>false</td>\n",
       "      <td>false</td>\n",
       "      <td>false</td>\n",
       "      <td>false</td>\n",
       "      <td>false</td>\n",
       "      <td>false</td>\n",
       "      <td>false</td>\n",
       "      <td>false</td>\n",
       "    </tr>\n",
       "    <tr>\n",
       "      <td>3</td>\n",
       "      <td>true</td>\n",
       "      <td>false</td>\n",
       "      <td>false</td>\n",
       "      <td>true</td>\n",
       "      <td>true</td>\n",
       "      <td>true</td>\n",
       "      <td>true</td>\n",
       "      <td>false</td>\n",
       "      <td>false</td>\n",
       "      <td>false</td>\n",
       "      <td>false</td>\n",
       "      <td>false</td>\n",
       "      <td>false</td>\n",
       "      <td>false</td>\n",
       "      <td>false</td>\n",
       "      <td>false</td>\n",
       "      <td>false</td>\n",
       "    </tr>\n",
       "    <tr>\n",
       "      <td>4</td>\n",
       "      <td>true</td>\n",
       "      <td>false</td>\n",
       "      <td>true</td>\n",
       "      <td>true</td>\n",
       "      <td>true</td>\n",
       "      <td>true</td>\n",
       "      <td>false</td>\n",
       "      <td>false</td>\n",
       "      <td>false</td>\n",
       "      <td>false</td>\n",
       "      <td>false</td>\n",
       "      <td>false</td>\n",
       "      <td>false</td>\n",
       "      <td>false</td>\n",
       "      <td>false</td>\n",
       "      <td>false</td>\n",
       "      <td>false</td>\n",
       "    </tr>\n",
       "    <tr>\n",
       "      <td>5</td>\n",
       "      <td>true</td>\n",
       "      <td>false</td>\n",
       "      <td>false</td>\n",
       "      <td>true</td>\n",
       "      <td>true</td>\n",
       "      <td>true</td>\n",
       "      <td>true</td>\n",
       "      <td>false</td>\n",
       "      <td>false</td>\n",
       "      <td>false</td>\n",
       "      <td>false</td>\n",
       "      <td>false</td>\n",
       "      <td>false</td>\n",
       "      <td>false</td>\n",
       "      <td>false</td>\n",
       "      <td>false</td>\n",
       "      <td>false</td>\n",
       "    </tr>\n",
       "    <tr>\n",
       "      <td>6</td>\n",
       "      <td>true</td>\n",
       "      <td>false</td>\n",
       "      <td>false</td>\n",
       "      <td>true</td>\n",
       "      <td>false</td>\n",
       "      <td>true</td>\n",
       "      <td>true</td>\n",
       "      <td>false</td>\n",
       "      <td>false</td>\n",
       "      <td>false</td>\n",
       "      <td>false</td>\n",
       "      <td>false</td>\n",
       "      <td>false</td>\n",
       "      <td>false</td>\n",
       "      <td>false</td>\n",
       "      <td>false</td>\n",
       "      <td>false</td>\n",
       "    </tr>\n",
       "    <tr>\n",
       "      <td>7</td>\n",
       "      <td>false</td>\n",
       "      <td>false</td>\n",
       "      <td>false</td>\n",
       "      <td>false</td>\n",
       "      <td>false</td>\n",
       "      <td>false</td>\n",
       "      <td>false</td>\n",
       "      <td>true</td>\n",
       "      <td>true</td>\n",
       "      <td>true</td>\n",
       "      <td>true</td>\n",
       "      <td>true</td>\n",
       "      <td>true</td>\n",
       "      <td>false</td>\n",
       "      <td>false</td>\n",
       "      <td>false</td>\n",
       "      <td>false</td>\n",
       "    </tr>\n",
       "    <tr>\n",
       "      <td>8</td>\n",
       "      <td>false</td>\n",
       "      <td>false</td>\n",
       "      <td>false</td>\n",
       "      <td>false</td>\n",
       "      <td>false</td>\n",
       "      <td>false</td>\n",
       "      <td>false</td>\n",
       "      <td>true</td>\n",
       "      <td>true</td>\n",
       "      <td>true</td>\n",
       "      <td>true</td>\n",
       "      <td>true</td>\n",
       "      <td>true</td>\n",
       "      <td>false</td>\n",
       "      <td>true</td>\n",
       "      <td>false</td>\n",
       "      <td>false</td>\n",
       "    </tr>\n",
       "    <tr>\n",
       "      <td>9</td>\n",
       "      <td>false</td>\n",
       "      <td>false</td>\n",
       "      <td>false</td>\n",
       "      <td>false</td>\n",
       "      <td>false</td>\n",
       "      <td>false</td>\n",
       "      <td>false</td>\n",
       "      <td>true</td>\n",
       "      <td>true</td>\n",
       "      <td>true</td>\n",
       "      <td>true</td>\n",
       "      <td>true</td>\n",
       "      <td>true</td>\n",
       "      <td>false</td>\n",
       "      <td>true</td>\n",
       "      <td>false</td>\n",
       "      <td>false</td>\n",
       "    </tr>\n",
       "    <tr>\n",
       "      <td>10</td>\n",
       "      <td>false</td>\n",
       "      <td>false</td>\n",
       "      <td>false</td>\n",
       "      <td>false</td>\n",
       "      <td>false</td>\n",
       "      <td>false</td>\n",
       "      <td>false</td>\n",
       "      <td>true</td>\n",
       "      <td>true</td>\n",
       "      <td>true</td>\n",
       "      <td>true</td>\n",
       "      <td>true</td>\n",
       "      <td>true</td>\n",
       "      <td>true</td>\n",
       "      <td>true</td>\n",
       "      <td>false</td>\n",
       "      <td>false</td>\n",
       "    </tr>\n",
       "    <tr>\n",
       "      <td>11</td>\n",
       "      <td>false</td>\n",
       "      <td>false</td>\n",
       "      <td>false</td>\n",
       "      <td>false</td>\n",
       "      <td>false</td>\n",
       "      <td>false</td>\n",
       "      <td>false</td>\n",
       "      <td>true</td>\n",
       "      <td>true</td>\n",
       "      <td>true</td>\n",
       "      <td>true</td>\n",
       "      <td>true</td>\n",
       "      <td>true</td>\n",
       "      <td>true</td>\n",
       "      <td>true</td>\n",
       "      <td>true</td>\n",
       "      <td>false</td>\n",
       "    </tr>\n",
       "    <tr>\n",
       "      <td>12</td>\n",
       "      <td>false</td>\n",
       "      <td>false</td>\n",
       "      <td>false</td>\n",
       "      <td>false</td>\n",
       "      <td>false</td>\n",
       "      <td>false</td>\n",
       "      <td>false</td>\n",
       "      <td>true</td>\n",
       "      <td>true</td>\n",
       "      <td>true</td>\n",
       "      <td>true</td>\n",
       "      <td>true</td>\n",
       "      <td>true</td>\n",
       "      <td>true</td>\n",
       "      <td>true</td>\n",
       "      <td>true</td>\n",
       "      <td>true</td>\n",
       "    </tr>\n",
       "    <tr>\n",
       "      <td>13</td>\n",
       "      <td>false</td>\n",
       "      <td>false</td>\n",
       "      <td>false</td>\n",
       "      <td>false</td>\n",
       "      <td>false</td>\n",
       "      <td>false</td>\n",
       "      <td>false</td>\n",
       "      <td>false</td>\n",
       "      <td>false</td>\n",
       "      <td>false</td>\n",
       "      <td>true</td>\n",
       "      <td>true</td>\n",
       "      <td>true</td>\n",
       "      <td>true</td>\n",
       "      <td>true</td>\n",
       "      <td>true</td>\n",
       "      <td>true</td>\n",
       "    </tr>\n",
       "    <tr>\n",
       "      <td>14</td>\n",
       "      <td>false</td>\n",
       "      <td>false</td>\n",
       "      <td>false</td>\n",
       "      <td>false</td>\n",
       "      <td>false</td>\n",
       "      <td>false</td>\n",
       "      <td>false</td>\n",
       "      <td>false</td>\n",
       "      <td>true</td>\n",
       "      <td>true</td>\n",
       "      <td>true</td>\n",
       "      <td>true</td>\n",
       "      <td>true</td>\n",
       "      <td>true</td>\n",
       "      <td>true</td>\n",
       "      <td>true</td>\n",
       "      <td>true</td>\n",
       "    </tr>\n",
       "    <tr>\n",
       "      <td>15</td>\n",
       "      <td>false</td>\n",
       "      <td>false</td>\n",
       "      <td>false</td>\n",
       "      <td>false</td>\n",
       "      <td>false</td>\n",
       "      <td>false</td>\n",
       "      <td>false</td>\n",
       "      <td>false</td>\n",
       "      <td>false</td>\n",
       "      <td>false</td>\n",
       "      <td>false</td>\n",
       "      <td>true</td>\n",
       "      <td>true</td>\n",
       "      <td>true</td>\n",
       "      <td>true</td>\n",
       "      <td>true</td>\n",
       "      <td>true</td>\n",
       "    </tr>\n",
       "    <tr>\n",
       "      <td>16</td>\n",
       "      <td>false</td>\n",
       "      <td>false</td>\n",
       "      <td>false</td>\n",
       "      <td>false</td>\n",
       "      <td>false</td>\n",
       "      <td>false</td>\n",
       "      <td>false</td>\n",
       "      <td>false</td>\n",
       "      <td>false</td>\n",
       "      <td>false</td>\n",
       "      <td>false</td>\n",
       "      <td>false</td>\n",
       "      <td>true</td>\n",
       "      <td>true</td>\n",
       "      <td>true</td>\n",
       "      <td>true</td>\n",
       "      <td>true</td>\n",
       "    </tr>\n",
       "  </tbody>\n",
       "</table>\n",
       "</div>"
      ],
      "text/plain": [
       "        0      1      2      3      4      5      6      7      8      9  \\\n",
       "0    true   true   true   true   true   true   true  false  false  false   \n",
       "1    true   true   true  false  false  false  false  false  false  false   \n",
       "2    true   true   true  false   true  false  false  false  false  false   \n",
       "3    true  false  false   true   true   true   true  false  false  false   \n",
       "4    true  false   true   true   true   true  false  false  false  false   \n",
       "5    true  false  false   true   true   true   true  false  false  false   \n",
       "6    true  false  false   true  false   true   true  false  false  false   \n",
       "7   false  false  false  false  false  false  false   true   true   true   \n",
       "8   false  false  false  false  false  false  false   true   true   true   \n",
       "9   false  false  false  false  false  false  false   true   true   true   \n",
       "10  false  false  false  false  false  false  false   true   true   true   \n",
       "11  false  false  false  false  false  false  false   true   true   true   \n",
       "12  false  false  false  false  false  false  false   true   true   true   \n",
       "13  false  false  false  false  false  false  false  false  false  false   \n",
       "14  false  false  false  false  false  false  false  false   true   true   \n",
       "15  false  false  false  false  false  false  false  false  false  false   \n",
       "16  false  false  false  false  false  false  false  false  false  false   \n",
       "\n",
       "       10     11     12     13     14     15     16  \n",
       "0   false  false  false  false  false  false  false  \n",
       "1   false  false  false  false  false  false  false  \n",
       "2   false  false  false  false  false  false  false  \n",
       "3   false  false  false  false  false  false  false  \n",
       "4   false  false  false  false  false  false  false  \n",
       "5   false  false  false  false  false  false  false  \n",
       "6   false  false  false  false  false  false  false  \n",
       "7    true   true   true  false  false  false  false  \n",
       "8    true   true   true  false   true  false  false  \n",
       "9    true   true   true  false   true  false  false  \n",
       "10   true   true   true   true   true  false  false  \n",
       "11   true   true   true   true   true   true  false  \n",
       "12   true   true   true   true   true   true   true  \n",
       "13   true   true   true   true   true   true   true  \n",
       "14   true   true   true   true   true   true   true  \n",
       "15  false   true   true   true   true   true   true  \n",
       "16  false  false   true   true   true   true   true  "
      ]
     },
     "execution_count": 59,
     "metadata": {},
     "output_type": "execute_result"
    }
   ],
   "source": [
    "# DUNN PARA RENDA\n",
    "lst = [data[data['renda_cat']==0]['NOTA_MEDIA'],\n",
    "data[data['renda_cat']==1]['NOTA_MEDIA'],\n",
    "data[data['renda_cat']==2]['NOTA_MEDIA'],\n",
    "data[data['renda_cat']==3]['NOTA_MEDIA'],\n",
    "data[data['renda_cat']==4]['NOTA_MEDIA'],\n",
    "data[data['renda_cat']==5]['NOTA_MEDIA'],\n",
    "data[data['renda_cat']==6]['NOTA_MEDIA'],\n",
    "data[data['renda_cat']==7]['NOTA_MEDIA'],\n",
    "data[data['renda_cat']==8]['NOTA_MEDIA'],\n",
    "data[data['renda_cat']==9]['NOTA_MEDIA'],\n",
    "data[data['renda_cat']==10]['NOTA_MEDIA'],\n",
    "data[data['renda_cat']==11]['NOTA_MEDIA'],\n",
    "data[data['renda_cat']==12]['NOTA_MEDIA'],\n",
    "data[data['renda_cat']==13]['NOTA_MEDIA'],\n",
    "data[data['renda_cat']==14]['NOTA_MEDIA'],\n",
    "data[data['renda_cat']==15]['NOTA_MEDIA'],\n",
    "data[data['renda_cat']==16]['NOTA_MEDIA']]\n",
    "\n",
    "df = sp.posthoc_dunn(lst,p_adjust='holm')\n",
    "\n",
    "df = pd.DataFrame(np.where(abs(df) >= 0.05, 'true', 'false'))\n",
    "df"
   ]
  },
  {
   "cell_type": "code",
   "execution_count": 55,
   "metadata": {},
   "outputs": [
    {
     "data": {
      "text/plain": [
       "2    1526\n",
       "3    1176\n",
       "1     690\n",
       "4     438\n",
       "0      93\n",
       "Name: pai_cat, dtype: int64"
      ]
     },
     "execution_count": 55,
     "metadata": {},
     "output_type": "execute_result"
    }
   ],
   "source": [
    "data['pai_cat'].value_counts()"
   ]
  },
  {
   "cell_type": "code",
   "execution_count": 60,
   "metadata": {},
   "outputs": [
    {
     "data": {
      "text/html": [
       "<div>\n",
       "<style scoped>\n",
       "    .dataframe tbody tr th:only-of-type {\n",
       "        vertical-align: middle;\n",
       "    }\n",
       "\n",
       "    .dataframe tbody tr th {\n",
       "        vertical-align: top;\n",
       "    }\n",
       "\n",
       "    .dataframe thead th {\n",
       "        text-align: right;\n",
       "    }\n",
       "</style>\n",
       "<table border=\"1\" class=\"dataframe\">\n",
       "  <thead>\n",
       "    <tr style=\"text-align: right;\">\n",
       "      <th></th>\n",
       "      <th>0</th>\n",
       "      <th>1</th>\n",
       "      <th>2</th>\n",
       "      <th>3</th>\n",
       "      <th>4</th>\n",
       "    </tr>\n",
       "  </thead>\n",
       "  <tbody>\n",
       "    <tr>\n",
       "      <td>0</td>\n",
       "      <td>true</td>\n",
       "      <td>true</td>\n",
       "      <td>false</td>\n",
       "      <td>false</td>\n",
       "      <td>false</td>\n",
       "    </tr>\n",
       "    <tr>\n",
       "      <td>1</td>\n",
       "      <td>true</td>\n",
       "      <td>true</td>\n",
       "      <td>true</td>\n",
       "      <td>false</td>\n",
       "      <td>false</td>\n",
       "    </tr>\n",
       "    <tr>\n",
       "      <td>2</td>\n",
       "      <td>false</td>\n",
       "      <td>true</td>\n",
       "      <td>true</td>\n",
       "      <td>false</td>\n",
       "      <td>false</td>\n",
       "    </tr>\n",
       "    <tr>\n",
       "      <td>3</td>\n",
       "      <td>false</td>\n",
       "      <td>false</td>\n",
       "      <td>false</td>\n",
       "      <td>true</td>\n",
       "      <td>false</td>\n",
       "    </tr>\n",
       "    <tr>\n",
       "      <td>4</td>\n",
       "      <td>false</td>\n",
       "      <td>false</td>\n",
       "      <td>false</td>\n",
       "      <td>false</td>\n",
       "      <td>true</td>\n",
       "    </tr>\n",
       "  </tbody>\n",
       "</table>\n",
       "</div>"
      ],
      "text/plain": [
       "       0      1      2      3      4\n",
       "0   true   true  false  false  false\n",
       "1   true   true   true  false  false\n",
       "2  false   true   true  false  false\n",
       "3  false  false  false   true  false\n",
       "4  false  false  false  false   true"
      ]
     },
     "execution_count": 60,
     "metadata": {},
     "output_type": "execute_result"
    }
   ],
   "source": [
    "# DUNN PARA PAI\n",
    "lst = [data[data['pai_cat']==0]['NOTA_MEDIA'],\n",
    "data[data['pai_cat']==1]['NOTA_MEDIA'],\n",
    "data[data['pai_cat']==2]['NOTA_MEDIA'],\n",
    "data[data['pai_cat']==3]['NOTA_MEDIA'],\n",
    "data[data['pai_cat']==4]['NOTA_MEDIA']]\n",
    "\n",
    "df = sp.posthoc_dunn(lst,p_adjust='holm')\n",
    "\n",
    "df = pd.DataFrame(np.where(abs(df) >= 0.05, 'true', 'false'))\n",
    "df"
   ]
  },
  {
   "cell_type": "code",
   "execution_count": 61,
   "metadata": {},
   "outputs": [
    {
     "data": {
      "text/html": [
       "<div>\n",
       "<style scoped>\n",
       "    .dataframe tbody tr th:only-of-type {\n",
       "        vertical-align: middle;\n",
       "    }\n",
       "\n",
       "    .dataframe tbody tr th {\n",
       "        vertical-align: top;\n",
       "    }\n",
       "\n",
       "    .dataframe thead th {\n",
       "        text-align: right;\n",
       "    }\n",
       "</style>\n",
       "<table border=\"1\" class=\"dataframe\">\n",
       "  <thead>\n",
       "    <tr style=\"text-align: right;\">\n",
       "      <th></th>\n",
       "      <th>0</th>\n",
       "      <th>1</th>\n",
       "      <th>2</th>\n",
       "      <th>3</th>\n",
       "      <th>4</th>\n",
       "    </tr>\n",
       "  </thead>\n",
       "  <tbody>\n",
       "    <tr>\n",
       "      <td>0</td>\n",
       "      <td>true</td>\n",
       "      <td>false</td>\n",
       "      <td>false</td>\n",
       "      <td>false</td>\n",
       "      <td>false</td>\n",
       "    </tr>\n",
       "    <tr>\n",
       "      <td>1</td>\n",
       "      <td>false</td>\n",
       "      <td>true</td>\n",
       "      <td>true</td>\n",
       "      <td>false</td>\n",
       "      <td>false</td>\n",
       "    </tr>\n",
       "    <tr>\n",
       "      <td>2</td>\n",
       "      <td>false</td>\n",
       "      <td>true</td>\n",
       "      <td>true</td>\n",
       "      <td>false</td>\n",
       "      <td>false</td>\n",
       "    </tr>\n",
       "    <tr>\n",
       "      <td>3</td>\n",
       "      <td>false</td>\n",
       "      <td>false</td>\n",
       "      <td>false</td>\n",
       "      <td>true</td>\n",
       "      <td>false</td>\n",
       "    </tr>\n",
       "    <tr>\n",
       "      <td>4</td>\n",
       "      <td>false</td>\n",
       "      <td>false</td>\n",
       "      <td>false</td>\n",
       "      <td>false</td>\n",
       "      <td>true</td>\n",
       "    </tr>\n",
       "  </tbody>\n",
       "</table>\n",
       "</div>"
      ],
      "text/plain": [
       "       0      1      2      3      4\n",
       "0   true  false  false  false  false\n",
       "1  false   true   true  false  false\n",
       "2  false   true   true  false  false\n",
       "3  false  false  false   true  false\n",
       "4  false  false  false  false   true"
      ]
     },
     "execution_count": 61,
     "metadata": {},
     "output_type": "execute_result"
    }
   ],
   "source": [
    "# DUNN PARA MAE\n",
    "lst = [data[data['mae_cat']==0]['NOTA_MEDIA'],\n",
    "data[data['mae_cat']==1]['NOTA_MEDIA'],\n",
    "data[data['mae_cat']==2]['NOTA_MEDIA'],\n",
    "data[data['mae_cat']==3]['NOTA_MEDIA'],\n",
    "data[data['mae_cat']==4]['NOTA_MEDIA']]\n",
    "\n",
    "df = sp.posthoc_dunn(lst,p_adjust='holm')\n",
    "\n",
    "df = pd.DataFrame(np.where(abs(df) >= 0.05, 'true', 'false'))\n",
    "df"
   ]
  },
  {
   "cell_type": "code",
   "execution_count": 62,
   "metadata": {},
   "outputs": [
    {
     "data": {
      "text/plain": [
       "1    2701\n",
       "3     879\n",
       "4     245\n",
       "0      86\n",
       "2      12\n",
       "Name: raca_cat, dtype: int64"
      ]
     },
     "execution_count": 62,
     "metadata": {},
     "output_type": "execute_result"
    }
   ],
   "source": [
    "data['raca_cat'].value_counts()"
   ]
  },
  {
   "cell_type": "code",
   "execution_count": 63,
   "metadata": {},
   "outputs": [
    {
     "data": {
      "text/html": [
       "<div>\n",
       "<style scoped>\n",
       "    .dataframe tbody tr th:only-of-type {\n",
       "        vertical-align: middle;\n",
       "    }\n",
       "\n",
       "    .dataframe tbody tr th {\n",
       "        vertical-align: top;\n",
       "    }\n",
       "\n",
       "    .dataframe thead th {\n",
       "        text-align: right;\n",
       "    }\n",
       "</style>\n",
       "<table border=\"1\" class=\"dataframe\">\n",
       "  <thead>\n",
       "    <tr style=\"text-align: right;\">\n",
       "      <th></th>\n",
       "      <th>0</th>\n",
       "      <th>1</th>\n",
       "      <th>2</th>\n",
       "      <th>3</th>\n",
       "      <th>4</th>\n",
       "    </tr>\n",
       "  </thead>\n",
       "  <tbody>\n",
       "    <tr>\n",
       "      <td>0</td>\n",
       "      <td>true</td>\n",
       "      <td>false</td>\n",
       "      <td>true</td>\n",
       "      <td>false</td>\n",
       "      <td>false</td>\n",
       "    </tr>\n",
       "    <tr>\n",
       "      <td>1</td>\n",
       "      <td>false</td>\n",
       "      <td>true</td>\n",
       "      <td>true</td>\n",
       "      <td>false</td>\n",
       "      <td>false</td>\n",
       "    </tr>\n",
       "    <tr>\n",
       "      <td>2</td>\n",
       "      <td>true</td>\n",
       "      <td>true</td>\n",
       "      <td>true</td>\n",
       "      <td>true</td>\n",
       "      <td>true</td>\n",
       "    </tr>\n",
       "    <tr>\n",
       "      <td>3</td>\n",
       "      <td>false</td>\n",
       "      <td>false</td>\n",
       "      <td>true</td>\n",
       "      <td>true</td>\n",
       "      <td>true</td>\n",
       "    </tr>\n",
       "    <tr>\n",
       "      <td>4</td>\n",
       "      <td>false</td>\n",
       "      <td>false</td>\n",
       "      <td>true</td>\n",
       "      <td>true</td>\n",
       "      <td>true</td>\n",
       "    </tr>\n",
       "  </tbody>\n",
       "</table>\n",
       "</div>"
      ],
      "text/plain": [
       "       0      1     2      3      4\n",
       "0   true  false  true  false  false\n",
       "1  false   true  true  false  false\n",
       "2   true   true  true   true   true\n",
       "3  false  false  true   true   true\n",
       "4  false  false  true   true   true"
      ]
     },
     "execution_count": 63,
     "metadata": {},
     "output_type": "execute_result"
    }
   ],
   "source": [
    "# DUNN PARA RAÇA\n",
    "lst = [data[data['raca_cat']==0]['NOTA_MEDIA'],\n",
    "data[data['raca_cat']==1]['NOTA_MEDIA'],\n",
    "data[data['raca_cat']==2]['NOTA_MEDIA'],\n",
    "data[data['raca_cat']==3]['NOTA_MEDIA'],\n",
    "data[data['raca_cat']==4]['NOTA_MEDIA']]\n",
    "\n",
    "df = sp.posthoc_dunn(lst,p_adjust='holm')\n",
    "\n",
    "df = pd.DataFrame(np.where(abs(df) >= 0.05, 'true', 'false'))\n",
    "df"
   ]
  },
  {
   "cell_type": "code",
   "execution_count": 64,
   "metadata": {},
   "outputs": [
    {
     "data": {
      "text/plain": [
       "2    2968\n",
       "1     929\n",
       "0      26\n",
       "Name: natureza_cat, dtype: int64"
      ]
     },
     "execution_count": 64,
     "metadata": {},
     "output_type": "execute_result"
    }
   ],
   "source": [
    "data['natureza_cat'].value_counts()"
   ]
  },
  {
   "cell_type": "code",
   "execution_count": 65,
   "metadata": {},
   "outputs": [
    {
     "data": {
      "text/html": [
       "<div>\n",
       "<style scoped>\n",
       "    .dataframe tbody tr th:only-of-type {\n",
       "        vertical-align: middle;\n",
       "    }\n",
       "\n",
       "    .dataframe tbody tr th {\n",
       "        vertical-align: top;\n",
       "    }\n",
       "\n",
       "    .dataframe thead th {\n",
       "        text-align: right;\n",
       "    }\n",
       "</style>\n",
       "<table border=\"1\" class=\"dataframe\">\n",
       "  <thead>\n",
       "    <tr style=\"text-align: right;\">\n",
       "      <th></th>\n",
       "      <th>0</th>\n",
       "      <th>1</th>\n",
       "      <th>2</th>\n",
       "    </tr>\n",
       "  </thead>\n",
       "  <tbody>\n",
       "    <tr>\n",
       "      <td>0</td>\n",
       "      <td>true</td>\n",
       "      <td>true</td>\n",
       "      <td>false</td>\n",
       "    </tr>\n",
       "    <tr>\n",
       "      <td>1</td>\n",
       "      <td>true</td>\n",
       "      <td>true</td>\n",
       "      <td>false</td>\n",
       "    </tr>\n",
       "    <tr>\n",
       "      <td>2</td>\n",
       "      <td>false</td>\n",
       "      <td>false</td>\n",
       "      <td>true</td>\n",
       "    </tr>\n",
       "  </tbody>\n",
       "</table>\n",
       "</div>"
      ],
      "text/plain": [
       "       0      1      2\n",
       "0   true   true  false\n",
       "1   true   true  false\n",
       "2  false  false   true"
      ]
     },
     "execution_count": 65,
     "metadata": {},
     "output_type": "execute_result"
    }
   ],
   "source": [
    "# DUNN PARA NATUREZA\n",
    "lst = [data[data['natureza_cat']==0]['NOTA_MEDIA'],\n",
    "data[data['natureza_cat']==1]['NOTA_MEDIA'],\n",
    "data[data['natureza_cat']==2]['NOTA_MEDIA'],\n",
    "data[data['natureza_cat']==3]['NOTA_MEDIA']]\n",
    "\n",
    "df = sp.posthoc_dunn(lst,p_adjust='holm')\n",
    "\n",
    "df = pd.DataFrame(np.where(abs(df) >= 0.05, 'true', 'false'))\n",
    "df"
   ]
  },
  {
   "cell_type": "markdown",
   "metadata": {},
   "source": [
    "### Run the Linear Regression "
   ]
  },
  {
   "cell_type": "code",
   "execution_count": 18,
   "metadata": {
    "scrolled": false
   },
   "outputs": [
    {
     "name": "stdout",
     "output_type": "stream",
     "text": [
      "===MAE===\n",
      "MAE médio:  47.9333\n",
      "MAE desvio padrão:  0.8523\n",
      "\n",
      "===MSE===\n",
      "MSE médio:  3787.1453\n",
      "MSE desvio padrão:  133.2789\n",
      "\n",
      "===RMSE===\n",
      "RMSE médio:  6.9231\n",
      "RMSE desvio padrão:  0.0616\n",
      "\n",
      "Best Model based on RMSE: LinearRegression(copy_X=True, fit_intercept=True, n_jobs=1, normalize=False)\n",
      "Best Model SCORE: 0.3013\n",
      "Best Model Intercept: 602.6559\n",
      "Best Model Coef: 3.8361\n",
      "Best RMSE: 6.6683\n"
     ]
    }
   ],
   "source": [
    "from sklearn.linear_model import LinearRegression\n",
    "from sklearn.model_selection import train_test_split\n",
    "\n",
    "mae = []\n",
    "mse = []\n",
    "rmse = []\n",
    "best_intercept = float('inf')\n",
    "best_coef = float('inf')\n",
    "best_rmse = float('inf')\n",
    "\n",
    "lst = ['pai_cat','mae_cat','renda_cat','raca_cat','natureza_cat']\n",
    "\n",
    "X = pd.DataFrame(data[lst]) #independent\n",
    "y = data['NOTA_MEDIA'] #dependent\n",
    "\n",
    "for num in range(0,1000):\n",
    "    X_train, X_test, y_train, y_test = train_test_split(X, y, test_size=0.33)\n",
    "\n",
    "    linearRegressor = LinearRegression()\n",
    "    model = linearRegressor.fit(X_train, y_train)\n",
    "    #print('\\nrepetition number {}'.format(num+1))\n",
    "    \n",
    "    intercept = linearRegressor.intercept_ #intercepto ou coef linear\n",
    "    coef = linearRegressor.coef_ #coef angular ou slope\n",
    "\n",
    "    #previsao\n",
    "    y_pred = linearRegressor.predict(X_test)\n",
    "    \n",
    "    #MAE\n",
    "    #print('Mean Absolute Error:',metrics.mean_absolute_error(y_test, y_pred))\n",
    "\n",
    "    #MSE\n",
    "    #print('Mean Squared Error:',metrics.mean_squared_error(y_test, y_pred))\n",
    "\n",
    "    #RMSE\n",
    "    #print('Root Mean Squared Error:',np.sqrt(metrics.mean_absolute_error(y_test, y_pred)))\n",
    "    \n",
    "    #salvando as medias em uma lista\n",
    "    mae.append(metrics.mean_absolute_error(y_test, y_pred))\n",
    "    mse.append(metrics.mean_squared_error(y_test, y_pred))\n",
    "    rmse.append(np.sqrt(metrics.mean_absolute_error(y_test, y_pred)))\n",
    "    \n",
    "    # Saving variables for the best prediction based on RMSE\n",
    "    if np.sqrt(metrics.mean_absolute_error(y_test, y_pred)) < best_rmse:\n",
    "        best_model = model\n",
    "        best_intercept = intercept\n",
    "        best_coef = coef\n",
    "        best_rmse = np.sqrt(metrics.mean_absolute_error(y_test, y_pred))\n",
    "        best_X_train, best_X_test, best_y_train, best_y_test = X_train, X_test, y_train, y_test\n",
    "                            \n",
    "#printar a media dos erros de 1000 repeticoes\n",
    "\n",
    "print(\"===MAE===\")\n",
    "print(\"MAE médio: \", round(np.mean(mae),4))\n",
    "print(\"MAE desvio padrão: \", round(np.std(mae),4))\n",
    "print(\"\\n===MSE===\")\n",
    "print(\"MSE médio: \", round(np.mean(mse),4))\n",
    "print(\"MSE desvio padrão: \", round(np.std(mse),4))\n",
    "print(\"\\n===RMSE===\")\n",
    "print(\"RMSE médio: \", round(np.mean(rmse),4))\n",
    "print(\"RMSE desvio padrão: \", round(np.std(rmse),4))\n",
    "print(\"\")\n",
    "print('Best Model based on RMSE:', best_model)\n",
    "print('Best Model SCORE:',round(best_model.score(best_X_train, best_y_train),4))\n",
    "print('Best Model Intercept:', round(best_intercept,4))\n",
    "print('Best Model Coef:', round(best_coef[0],4))\n",
    "print('Best RMSE:', round(best_rmse,4))"
   ]
  },
  {
   "cell_type": "code",
   "execution_count": 19,
   "metadata": {},
   "outputs": [
    {
     "name": "stderr",
     "output_type": "stream",
     "text": [
      "/Users/leonardofaverobocardi/anaconda3/anaconda3/envs/python3/lib/python3.7/site-packages/numpy/core/fromnumeric.py:2223: FutureWarning: Method .ptp is deprecated and will be removed in a future version. Use numpy.ptp instead.\n",
      "  return ptp(axis=axis, out=out, **kwargs)\n"
     ]
    },
    {
     "data": {
      "text/html": [
       "<table class=\"simpletable\">\n",
       "<caption>OLS Regression Results</caption>\n",
       "<tr>\n",
       "  <th>Dep. Variable:</th>       <td>NOTA_MEDIA</td>    <th>  R-squared:         </th> <td>   0.314</td> \n",
       "</tr>\n",
       "<tr>\n",
       "  <th>Model:</th>                   <td>OLS</td>       <th>  Adj. R-squared:    </th> <td>   0.313</td> \n",
       "</tr>\n",
       "<tr>\n",
       "  <th>Method:</th>             <td>Least Squares</td>  <th>  F-statistic:       </th> <td>   298.6</td> \n",
       "</tr>\n",
       "<tr>\n",
       "  <th>Date:</th>             <td>Sat, 14 Dec 2019</td> <th>  Prob (F-statistic):</th> <td>8.09e-316</td>\n",
       "</tr>\n",
       "<tr>\n",
       "  <th>Time:</th>                 <td>12:05:35</td>     <th>  Log-Likelihood:    </th> <td> -21719.</td> \n",
       "</tr>\n",
       "<tr>\n",
       "  <th>No. Observations:</th>      <td>  3923</td>      <th>  AIC:               </th> <td>4.345e+04</td>\n",
       "</tr>\n",
       "<tr>\n",
       "  <th>Df Residuals:</th>          <td>  3916</td>      <th>  BIC:               </th> <td>4.350e+04</td>\n",
       "</tr>\n",
       "<tr>\n",
       "  <th>Df Model:</th>              <td>     6</td>      <th>                     </th>     <td> </td>    \n",
       "</tr>\n",
       "<tr>\n",
       "  <th>Covariance Type:</th>      <td>nonrobust</td>    <th>                     </th>     <td> </td>    \n",
       "</tr>\n",
       "</table>\n",
       "<table class=\"simpletable\">\n",
       "<tr>\n",
       "        <td></td>          <th>coef</th>     <th>std err</th>      <th>t</th>      <th>P>|t|</th>  <th>[0.025</th>    <th>0.975]</th>  \n",
       "</tr>\n",
       "<tr>\n",
       "  <th>const</th>        <td>  600.8371</td> <td>    7.324</td> <td>   82.035</td> <td> 0.000</td> <td>  586.478</td> <td>  615.197</td>\n",
       "</tr>\n",
       "<tr>\n",
       "  <th>sexo_cat</th>     <td>   -1.7970</td> <td>    1.989</td> <td>   -0.903</td> <td> 0.366</td> <td>   -5.697</td> <td>    2.103</td>\n",
       "</tr>\n",
       "<tr>\n",
       "  <th>pai_cat</th>      <td>    5.1706</td> <td>    1.287</td> <td>    4.018</td> <td> 0.000</td> <td>    2.647</td> <td>    7.694</td>\n",
       "</tr>\n",
       "<tr>\n",
       "  <th>mae_cat</th>      <td>    5.9034</td> <td>    1.131</td> <td>    5.218</td> <td> 0.000</td> <td>    3.685</td> <td>    8.121</td>\n",
       "</tr>\n",
       "<tr>\n",
       "  <th>renda_cat</th>    <td>    3.1980</td> <td>    0.362</td> <td>    8.835</td> <td> 0.000</td> <td>    2.488</td> <td>    3.908</td>\n",
       "</tr>\n",
       "<tr>\n",
       "  <th>raca_cat</th>     <td>   -2.9098</td> <td>    0.961</td> <td>   -3.027</td> <td> 0.002</td> <td>   -4.794</td> <td>   -1.025</td>\n",
       "</tr>\n",
       "<tr>\n",
       "  <th>natureza_cat</th> <td>  -57.8654</td> <td>    2.786</td> <td>  -20.770</td> <td> 0.000</td> <td>  -63.328</td> <td>  -52.403</td>\n",
       "</tr>\n",
       "</table>\n",
       "<table class=\"simpletable\">\n",
       "<tr>\n",
       "  <th>Omnibus:</th>       <td>33.920</td> <th>  Durbin-Watson:     </th> <td>   1.875</td>\n",
       "</tr>\n",
       "<tr>\n",
       "  <th>Prob(Omnibus):</th> <td> 0.000</td> <th>  Jarque-Bera (JB):  </th> <td>  39.430</td>\n",
       "</tr>\n",
       "<tr>\n",
       "  <th>Skew:</th>          <td>-0.166</td> <th>  Prob(JB):          </th> <td>2.74e-09</td>\n",
       "</tr>\n",
       "<tr>\n",
       "  <th>Kurtosis:</th>      <td> 3.361</td> <th>  Cond. No.          </th> <td>    60.7</td>\n",
       "</tr>\n",
       "</table><br/><br/>Warnings:<br/>[1] Standard Errors assume that the covariance matrix of the errors is correctly specified."
      ],
      "text/plain": [
       "<class 'statsmodels.iolib.summary.Summary'>\n",
       "\"\"\"\n",
       "                            OLS Regression Results                            \n",
       "==============================================================================\n",
       "Dep. Variable:             NOTA_MEDIA   R-squared:                       0.314\n",
       "Model:                            OLS   Adj. R-squared:                  0.313\n",
       "Method:                 Least Squares   F-statistic:                     298.6\n",
       "Date:                Sat, 14 Dec 2019   Prob (F-statistic):          8.09e-316\n",
       "Time:                        12:05:35   Log-Likelihood:                -21719.\n",
       "No. Observations:                3923   AIC:                         4.345e+04\n",
       "Df Residuals:                    3916   BIC:                         4.350e+04\n",
       "Df Model:                           6                                         \n",
       "Covariance Type:            nonrobust                                         \n",
       "================================================================================\n",
       "                   coef    std err          t      P>|t|      [0.025      0.975]\n",
       "--------------------------------------------------------------------------------\n",
       "const          600.8371      7.324     82.035      0.000     586.478     615.197\n",
       "sexo_cat        -1.7970      1.989     -0.903      0.366      -5.697       2.103\n",
       "pai_cat          5.1706      1.287      4.018      0.000       2.647       7.694\n",
       "mae_cat          5.9034      1.131      5.218      0.000       3.685       8.121\n",
       "renda_cat        3.1980      0.362      8.835      0.000       2.488       3.908\n",
       "raca_cat        -2.9098      0.961     -3.027      0.002      -4.794      -1.025\n",
       "natureza_cat   -57.8654      2.786    -20.770      0.000     -63.328     -52.403\n",
       "==============================================================================\n",
       "Omnibus:                       33.920   Durbin-Watson:                   1.875\n",
       "Prob(Omnibus):                  0.000   Jarque-Bera (JB):               39.430\n",
       "Skew:                          -0.166   Prob(JB):                     2.74e-09\n",
       "Kurtosis:                       3.361   Cond. No.                         60.7\n",
       "==============================================================================\n",
       "\n",
       "Warnings:\n",
       "[1] Standard Errors assume that the covariance matrix of the errors is correctly specified.\n",
       "\"\"\""
      ]
     },
     "execution_count": 19,
     "metadata": {},
     "output_type": "execute_result"
    }
   ],
   "source": [
    "lst = ['sexo_cat','pai_cat','mae_cat','renda_cat','raca_cat','natureza_cat']\n",
    "\n",
    "#independent\n",
    "X = data[lst] \n",
    "X = sm.add_constant(X)\n",
    "#dependent\n",
    "y = data['NOTA_MEDIA']\n",
    "    \n",
    "model = sm.OLS(y,X).fit()\n",
    "predictions = model.predict(X)\n",
    "model.summary()"
   ]
  },
  {
   "cell_type": "code",
   "execution_count": 20,
   "metadata": {},
   "outputs": [
    {
     "data": {
      "text/html": [
       "<table class=\"simpletable\">\n",
       "<caption>OLS Regression Results</caption>\n",
       "<tr>\n",
       "  <th>Dep. Variable:</th>       <td>NOTA_MEDIA</td>    <th>  R-squared:         </th> <td>   0.314</td> \n",
       "</tr>\n",
       "<tr>\n",
       "  <th>Model:</th>                   <td>OLS</td>       <th>  Adj. R-squared:    </th> <td>   0.313</td> \n",
       "</tr>\n",
       "<tr>\n",
       "  <th>Method:</th>             <td>Least Squares</td>  <th>  F-statistic:       </th> <td>   358.2</td> \n",
       "</tr>\n",
       "<tr>\n",
       "  <th>Date:</th>             <td>Sat, 14 Dec 2019</td> <th>  Prob (F-statistic):</th> <td>6.11e-317</td>\n",
       "</tr>\n",
       "<tr>\n",
       "  <th>Time:</th>                 <td>12:05:35</td>     <th>  Log-Likelihood:    </th> <td> -21719.</td> \n",
       "</tr>\n",
       "<tr>\n",
       "  <th>No. Observations:</th>      <td>  3923</td>      <th>  AIC:               </th> <td>4.345e+04</td>\n",
       "</tr>\n",
       "<tr>\n",
       "  <th>Df Residuals:</th>          <td>  3917</td>      <th>  BIC:               </th> <td>4.349e+04</td>\n",
       "</tr>\n",
       "<tr>\n",
       "  <th>Df Model:</th>              <td>     5</td>      <th>                     </th>     <td> </td>    \n",
       "</tr>\n",
       "<tr>\n",
       "  <th>Covariance Type:</th>      <td>nonrobust</td>    <th>                     </th>     <td> </td>    \n",
       "</tr>\n",
       "</table>\n",
       "<table class=\"simpletable\">\n",
       "<tr>\n",
       "        <td></td>          <th>coef</th>     <th>std err</th>      <th>t</th>      <th>P>|t|</th>  <th>[0.025</th>    <th>0.975]</th>  \n",
       "</tr>\n",
       "<tr>\n",
       "  <th>const</th>        <td>  599.4872</td> <td>    7.170</td> <td>   83.611</td> <td> 0.000</td> <td>  585.430</td> <td>  613.544</td>\n",
       "</tr>\n",
       "<tr>\n",
       "  <th>pai_cat</th>      <td>    5.1640</td> <td>    1.287</td> <td>    4.013</td> <td> 0.000</td> <td>    2.641</td> <td>    7.687</td>\n",
       "</tr>\n",
       "<tr>\n",
       "  <th>mae_cat</th>      <td>    5.9275</td> <td>    1.131</td> <td>    5.241</td> <td> 0.000</td> <td>    3.710</td> <td>    8.145</td>\n",
       "</tr>\n",
       "<tr>\n",
       "  <th>renda_cat</th>    <td>    3.2233</td> <td>    0.361</td> <td>    8.932</td> <td> 0.000</td> <td>    2.516</td> <td>    3.931</td>\n",
       "</tr>\n",
       "<tr>\n",
       "  <th>raca_cat</th>     <td>   -2.9078</td> <td>    0.961</td> <td>   -3.025</td> <td> 0.003</td> <td>   -4.792</td> <td>   -1.023</td>\n",
       "</tr>\n",
       "<tr>\n",
       "  <th>natureza_cat</th> <td>  -57.7770</td> <td>    2.784</td> <td>  -20.751</td> <td> 0.000</td> <td>  -63.236</td> <td>  -52.318</td>\n",
       "</tr>\n",
       "</table>\n",
       "<table class=\"simpletable\">\n",
       "<tr>\n",
       "  <th>Omnibus:</th>       <td>32.596</td> <th>  Durbin-Watson:     </th> <td>   1.877</td>\n",
       "</tr>\n",
       "<tr>\n",
       "  <th>Prob(Omnibus):</th> <td> 0.000</td> <th>  Jarque-Bera (JB):  </th> <td>  37.825</td>\n",
       "</tr>\n",
       "<tr>\n",
       "  <th>Skew:</th>          <td>-0.162</td> <th>  Prob(JB):          </th> <td>6.12e-09</td>\n",
       "</tr>\n",
       "<tr>\n",
       "  <th>Kurtosis:</th>      <td> 3.355</td> <th>  Cond. No.          </th> <td>    59.5</td>\n",
       "</tr>\n",
       "</table><br/><br/>Warnings:<br/>[1] Standard Errors assume that the covariance matrix of the errors is correctly specified."
      ],
      "text/plain": [
       "<class 'statsmodels.iolib.summary.Summary'>\n",
       "\"\"\"\n",
       "                            OLS Regression Results                            \n",
       "==============================================================================\n",
       "Dep. Variable:             NOTA_MEDIA   R-squared:                       0.314\n",
       "Model:                            OLS   Adj. R-squared:                  0.313\n",
       "Method:                 Least Squares   F-statistic:                     358.2\n",
       "Date:                Sat, 14 Dec 2019   Prob (F-statistic):          6.11e-317\n",
       "Time:                        12:05:35   Log-Likelihood:                -21719.\n",
       "No. Observations:                3923   AIC:                         4.345e+04\n",
       "Df Residuals:                    3917   BIC:                         4.349e+04\n",
       "Df Model:                           5                                         \n",
       "Covariance Type:            nonrobust                                         \n",
       "================================================================================\n",
       "                   coef    std err          t      P>|t|      [0.025      0.975]\n",
       "--------------------------------------------------------------------------------\n",
       "const          599.4872      7.170     83.611      0.000     585.430     613.544\n",
       "pai_cat          5.1640      1.287      4.013      0.000       2.641       7.687\n",
       "mae_cat          5.9275      1.131      5.241      0.000       3.710       8.145\n",
       "renda_cat        3.2233      0.361      8.932      0.000       2.516       3.931\n",
       "raca_cat        -2.9078      0.961     -3.025      0.003      -4.792      -1.023\n",
       "natureza_cat   -57.7770      2.784    -20.751      0.000     -63.236     -52.318\n",
       "==============================================================================\n",
       "Omnibus:                       32.596   Durbin-Watson:                   1.877\n",
       "Prob(Omnibus):                  0.000   Jarque-Bera (JB):               37.825\n",
       "Skew:                          -0.162   Prob(JB):                     6.12e-09\n",
       "Kurtosis:                       3.355   Cond. No.                         59.5\n",
       "==============================================================================\n",
       "\n",
       "Warnings:\n",
       "[1] Standard Errors assume that the covariance matrix of the errors is correctly specified.\n",
       "\"\"\""
      ]
     },
     "execution_count": 20,
     "metadata": {},
     "output_type": "execute_result"
    }
   ],
   "source": [
    "lst = ['pai_cat','mae_cat','renda_cat','raca_cat','natureza_cat']\n",
    "\n",
    "#independent\n",
    "X = data[lst] \n",
    "X = sm.add_constant(X)\n",
    "#dependent\n",
    "y = data['NOTA_MEDIA']\n",
    "    \n",
    "model = sm.OLS(y,X).fit()\n",
    "model.summary()"
   ]
  },
  {
   "cell_type": "code",
   "execution_count": 21,
   "metadata": {},
   "outputs": [
    {
     "data": {
      "text/html": [
       "<div>\n",
       "<style scoped>\n",
       "    .dataframe tbody tr th:only-of-type {\n",
       "        vertical-align: middle;\n",
       "    }\n",
       "\n",
       "    .dataframe tbody tr th {\n",
       "        vertical-align: top;\n",
       "    }\n",
       "\n",
       "    .dataframe thead th {\n",
       "        text-align: right;\n",
       "    }\n",
       "</style>\n",
       "<table border=\"1\" class=\"dataframe\">\n",
       "  <thead>\n",
       "    <tr style=\"text-align: right;\">\n",
       "      <th></th>\n",
       "      <th>Actual</th>\n",
       "      <th>Predicted</th>\n",
       "    </tr>\n",
       "  </thead>\n",
       "  <tbody>\n",
       "    <tr>\n",
       "      <td>0</td>\n",
       "      <td>578.18</td>\n",
       "      <td>539.84</td>\n",
       "    </tr>\n",
       "    <tr>\n",
       "      <td>1</td>\n",
       "      <td>567.04</td>\n",
       "      <td>516.87</td>\n",
       "    </tr>\n",
       "    <tr>\n",
       "      <td>2</td>\n",
       "      <td>452.42</td>\n",
       "      <td>501.79</td>\n",
       "    </tr>\n",
       "    <tr>\n",
       "      <td>3</td>\n",
       "      <td>698.00</td>\n",
       "      <td>542.03</td>\n",
       "    </tr>\n",
       "    <tr>\n",
       "      <td>4</td>\n",
       "      <td>481.30</td>\n",
       "      <td>495.97</td>\n",
       "    </tr>\n",
       "    <tr>\n",
       "      <td>...</td>\n",
       "      <td>...</td>\n",
       "      <td>...</td>\n",
       "    </tr>\n",
       "    <tr>\n",
       "      <td>3918</td>\n",
       "      <td>574.26</td>\n",
       "      <td>593.36</td>\n",
       "    </tr>\n",
       "    <tr>\n",
       "      <td>3919</td>\n",
       "      <td>569.28</td>\n",
       "      <td>530.42</td>\n",
       "    </tr>\n",
       "    <tr>\n",
       "      <td>3920</td>\n",
       "      <td>536.86</td>\n",
       "      <td>528.48</td>\n",
       "    </tr>\n",
       "    <tr>\n",
       "      <td>3921</td>\n",
       "      <td>523.06</td>\n",
       "      <td>507.06</td>\n",
       "    </tr>\n",
       "    <tr>\n",
       "      <td>3922</td>\n",
       "      <td>406.72</td>\n",
       "      <td>503.73</td>\n",
       "    </tr>\n",
       "  </tbody>\n",
       "</table>\n",
       "<p>3923 rows × 2 columns</p>\n",
       "</div>"
      ],
      "text/plain": [
       "      Actual  Predicted\n",
       "0     578.18     539.84\n",
       "1     567.04     516.87\n",
       "2     452.42     501.79\n",
       "3     698.00     542.03\n",
       "4     481.30     495.97\n",
       "...      ...        ...\n",
       "3918  574.26     593.36\n",
       "3919  569.28     530.42\n",
       "3920  536.86     528.48\n",
       "3921  523.06     507.06\n",
       "3922  406.72     503.73\n",
       "\n",
       "[3923 rows x 2 columns]"
      ]
     },
     "execution_count": 21,
     "metadata": {},
     "output_type": "execute_result"
    }
   ],
   "source": [
    "#previsao\n",
    "\n",
    "predictions = model.predict(X)\n",
    "df = pd.DataFrame({'Actual': y, 'Predicted': np.round(predictions,2)})\n",
    "df"
   ]
  },
  {
   "cell_type": "code",
   "execution_count": 22,
   "metadata": {},
   "outputs": [
    {
     "data": {
      "image/png": "[encoded data removed]",
      "text/plain": [
       "<Figure size 1152x720 with 1 Axes>"
      ]
     },
     "metadata": {
      "needs_background": "light"
     },
     "output_type": "display_data"
    }
   ],
   "source": [
    "df.plot(kind='line',figsize=(16,10))\n",
    "plt.grid(which='major', linestyle='-', linewidth='0.5', color='gray')\n",
    "plt.grid(which='minor', linestyle=':', linewidth='0.5', color='black')\n",
    "plt.show()"
   ]
  },
  {
   "cell_type": "code",
   "execution_count": 23,
   "metadata": {},
   "outputs": [
    {
     "data": {
      "image/png": "[encoded data removed]",
      "text/plain": [
       "<Figure size 1152x720 with 1 Axes>"
      ]
     },
     "metadata": {
      "needs_background": "light"
     },
     "output_type": "display_data"
    }
   ],
   "source": [
    "df = df.head(50)\n",
    "df.plot(kind='bar',figsize=(16,10))\n",
    "plt.grid(which='major', linestyle='-', linewidth='0.5', color='gray')\n",
    "plt.grid(which='minor', linestyle=':', linewidth='0.5', color='black')\n",
    "plt.show()"
   ]
  },
  {
   "cell_type": "markdown",
   "metadata": {},
   "source": [
    "### Análise do Erro: Homocedasticidade e Normalidade do Erro – 𝑁(0, 𝜎2)"
   ]
  },
  {
   "cell_type": "code",
   "execution_count": 24,
   "metadata": {},
   "outputs": [
    {
     "data": {
      "image/png": "[encoded data removed]",
      "text/plain": [
       "<Figure size 432x288 with 1 Axes>"
      ]
     },
     "metadata": {
      "needs_background": "light"
     },
     "output_type": "display_data"
    }
   ],
   "source": [
    "plt.plot(model.fittedvalues, model.resid, 'o') \n",
    "plt.title('Residuals vs Fitted Values') \n",
    "plt.xlabel('Fitted Values') \n",
    "plt.ylabel('Residuals')\n",
    "plt.show()"
   ]
  },
  {
   "cell_type": "code",
   "execution_count": 25,
   "metadata": {},
   "outputs": [
    {
     "data": {
      "image/png": "[encoded data removed]",
      "text/plain": [
       "<Figure size 432x288 with 1 Axes>"
      ]
     },
     "metadata": {
      "needs_background": "light"
     },
     "output_type": "display_data"
    },
    {
     "name": "stdout",
     "output_type": "stream",
     "text": [
      "W: 0.9969 p-value: 0.0000\n"
     ]
    },
    {
     "name": "stderr",
     "output_type": "stream",
     "text": [
      "/Users/leonardofaverobocardi/anaconda3/anaconda3/envs/python3/lib/python3.7/site-packages/scipy/stats/stats.py:1713: FutureWarning: Using a non-tuple sequence for multidimensional indexing is deprecated; use `arr[tuple(seq)]` instead of `arr[seq]`. In the future this will be interpreted as an array index, `arr[np.array(seq)]`, which will result either in an error or a different result.\n",
      "  return np.add.reduce(sorted[indexer] * weights, axis=axis) / sumval\n"
     ]
    },
    {
     "data": {
      "text/plain": [
       "<matplotlib.axes._subplots.AxesSubplot at 0x1c1a686f10>"
      ]
     },
     "execution_count": 25,
     "metadata": {},
     "output_type": "execute_result"
    },
    {
     "data": {
      "image/png": "[encoded data removed]",
      "text/plain": [
       "<Figure size 432x288 with 1 Axes>"
      ]
     },
     "metadata": {
      "needs_background": "light"
     },
     "output_type": "display_data"
    }
   ],
   "source": [
    "from scipy import stats\n",
    "\n",
    "z = (model.resid - model.resid.mean()) / model.resid.std() \n",
    "\n",
    "stats.probplot(z, dist=\"norm\", plot=plt) \n",
    "plt.title(\"Normal Q-Q plot\")\n",
    "plt.show()\n",
    "\n",
    "#Teste de Normalidade\n",
    "stats, p = stats.shapiro(model.resid) \n",
    "print(\"W: %.4f p-value: %.4f\" % (stats,p))\n",
    "\n",
    "#Gráfico de Densidade \n",
    "sns.distplot(model.resid)"
   ]
  },
  {
   "cell_type": "code",
   "execution_count": 75,
   "metadata": {},
   "outputs": [
    {
     "data": {
      "text/plain": [
       "2    2968\n",
       "1     929\n",
       "0      26\n",
       "Name: natureza_cat, dtype: int64"
      ]
     },
     "execution_count": 75,
     "metadata": {},
     "output_type": "execute_result"
    }
   ],
   "source": [
    "data['natureza_cat'].value_counts()"
   ]
  },
  {
   "cell_type": "code",
   "execution_count": 76,
   "metadata": {},
   "outputs": [
    {
     "data": {
      "text/html": [
       "<div>\n",
       "<style scoped>\n",
       "    .dataframe tbody tr th:only-of-type {\n",
       "        vertical-align: middle;\n",
       "    }\n",
       "\n",
       "    .dataframe tbody tr th {\n",
       "        vertical-align: top;\n",
       "    }\n",
       "\n",
       "    .dataframe thead th {\n",
       "        text-align: right;\n",
       "    }\n",
       "</style>\n",
       "<table border=\"1\" class=\"dataframe\">\n",
       "  <thead>\n",
       "    <tr style=\"text-align: right;\">\n",
       "      <th>renda_cat</th>\n",
       "      <th>0</th>\n",
       "      <th>1</th>\n",
       "      <th>2</th>\n",
       "      <th>3</th>\n",
       "      <th>4</th>\n",
       "      <th>5</th>\n",
       "      <th>6</th>\n",
       "      <th>7</th>\n",
       "      <th>8</th>\n",
       "      <th>9</th>\n",
       "      <th>10</th>\n",
       "      <th>11</th>\n",
       "      <th>12</th>\n",
       "      <th>13</th>\n",
       "      <th>14</th>\n",
       "      <th>15</th>\n",
       "      <th>16</th>\n",
       "    </tr>\n",
       "    <tr>\n",
       "      <th>natureza_cat</th>\n",
       "      <th></th>\n",
       "      <th></th>\n",
       "      <th></th>\n",
       "      <th></th>\n",
       "      <th></th>\n",
       "      <th></th>\n",
       "      <th></th>\n",
       "      <th></th>\n",
       "      <th></th>\n",
       "      <th></th>\n",
       "      <th></th>\n",
       "      <th></th>\n",
       "      <th></th>\n",
       "      <th></th>\n",
       "      <th></th>\n",
       "      <th></th>\n",
       "      <th></th>\n",
       "    </tr>\n",
       "  </thead>\n",
       "  <tbody>\n",
       "    <tr>\n",
       "      <td>0</td>\n",
       "      <td>0</td>\n",
       "      <td>1</td>\n",
       "      <td>0</td>\n",
       "      <td>0</td>\n",
       "      <td>1</td>\n",
       "      <td>1</td>\n",
       "      <td>3</td>\n",
       "      <td>2</td>\n",
       "      <td>2</td>\n",
       "      <td>2</td>\n",
       "      <td>2</td>\n",
       "      <td>1</td>\n",
       "      <td>1</td>\n",
       "      <td>4</td>\n",
       "      <td>0</td>\n",
       "      <td>3</td>\n",
       "      <td>3</td>\n",
       "    </tr>\n",
       "    <tr>\n",
       "      <td>1</td>\n",
       "      <td>5</td>\n",
       "      <td>8</td>\n",
       "      <td>29</td>\n",
       "      <td>31</td>\n",
       "      <td>43</td>\n",
       "      <td>51</td>\n",
       "      <td>84</td>\n",
       "      <td>98</td>\n",
       "      <td>98</td>\n",
       "      <td>77</td>\n",
       "      <td>48</td>\n",
       "      <td>43</td>\n",
       "      <td>37</td>\n",
       "      <td>77</td>\n",
       "      <td>57</td>\n",
       "      <td>54</td>\n",
       "      <td>89</td>\n",
       "    </tr>\n",
       "    <tr>\n",
       "      <td>2</td>\n",
       "      <td>31</td>\n",
       "      <td>197</td>\n",
       "      <td>574</td>\n",
       "      <td>437</td>\n",
       "      <td>451</td>\n",
       "      <td>328</td>\n",
       "      <td>408</td>\n",
       "      <td>237</td>\n",
       "      <td>117</td>\n",
       "      <td>85</td>\n",
       "      <td>35</td>\n",
       "      <td>20</td>\n",
       "      <td>14</td>\n",
       "      <td>11</td>\n",
       "      <td>16</td>\n",
       "      <td>5</td>\n",
       "      <td>2</td>\n",
       "    </tr>\n",
       "  </tbody>\n",
       "</table>\n",
       "</div>"
      ],
      "text/plain": [
       "renda_cat     0    1    2    3    4    5    6    7    8   9   10  11  12  13  \\\n",
       "natureza_cat                                                                   \n",
       "0              0    1    0    0    1    1    3    2    2   2   2   1   1   4   \n",
       "1              5    8   29   31   43   51   84   98   98  77  48  43  37  77   \n",
       "2             31  197  574  437  451  328  408  237  117  85  35  20  14  11   \n",
       "\n",
       "renda_cat     14  15  16  \n",
       "natureza_cat              \n",
       "0              0   3   3  \n",
       "1             57  54  89  \n",
       "2             16   5   2  "
      ]
     },
     "execution_count": 76,
     "metadata": {},
     "output_type": "execute_result"
    }
   ],
   "source": [
    "data.groupby(['renda_cat', 'natureza_cat']).size().unstack(fill_value=0).T"
   ]
  },
  {
   "cell_type": "code",
   "execution_count": null,
   "metadata": {},
   "outputs": [],
   "source": []
  }
 ],
 "metadata": {
  "kernelspec": {
   "display_name": "Python 3",
   "language": "python",
   "name": "python3"
  },
  "language_info": {
   "codemirror_mode": {
    "name": "ipython",
    "version": 3
   },
   "file_extension": ".py",
   "mimetype": "text/x-python",
   "name": "python",
   "nbconvert_exporter": "python",
   "pygments_lexer": "ipython3",
   "version": "3.7.4"
  }
 },
 "nbformat": 4,
 "nbformat_minor": 2
}
