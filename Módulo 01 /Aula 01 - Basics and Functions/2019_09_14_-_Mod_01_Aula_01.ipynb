{
 "cells": [
  {
   "cell_type": "markdown",
   "metadata": {},
   "source": [
    "__1.) Escreva uma função que receba três parâmetros (a, b e c)\n",
    "inteiros e retorne o maior valor entre os argumentos\n",
    "passados__"
   ]
  },
  {
   "cell_type": "code",
   "execution_count": 45,
   "metadata": {},
   "outputs": [],
   "source": [
    "def my_func1(a, b, c):\n",
    "    if a > b and a > c:\n",
    "        return a\n",
    "    elif b > c:\n",
    "        return b\n",
    "    else:\n",
    "        return c"
   ]
  },
  {
   "cell_type": "code",
   "execution_count": 52,
   "metadata": {},
   "outputs": [
    {
     "data": {
      "text/plain": [
       "29"
      ]
     },
     "execution_count": 52,
     "metadata": {},
     "output_type": "execute_result"
    }
   ],
   "source": [
    "my_func1(7, 10, 29)"
   ]
  },
  {
   "cell_type": "markdown",
   "metadata": {},
   "source": [
    "__2.) Escreva uma função que receba uma lista de números e\n",
    "retorne uma tupla com duas listas, a primeira contendo\n",
    "todos os numeros pares e a segunda contendo todos os\n",
    "numeros impares ordenados__"
   ]
  },
  {
   "cell_type": "code",
   "execution_count": 131,
   "metadata": {},
   "outputs": [],
   "source": [
    "def my_func2(*args):\n",
    "    pares = []\n",
    "    impares = []\n",
    "    for i in sorted(args):\n",
    "        if i%2 == 0:\n",
    "            pares.append(i)\n",
    "        else:\n",
    "            impares.append(i)\n",
    "    return(pares,impares)"
   ]
  },
  {
   "cell_type": "code",
   "execution_count": 132,
   "metadata": {},
   "outputs": [
    {
     "data": {
      "text/plain": [
       "([2, 2, 4, 6, 8], [1, 1, 3, 3, 5, 5, 7])"
      ]
     },
     "execution_count": 132,
     "metadata": {},
     "output_type": "execute_result"
    }
   ],
   "source": [
    "my_func2(1,2,3,4,5,6,7,8,5,2,3,1)"
   ]
  },
  {
   "cell_type": "markdown",
   "metadata": {},
   "source": [
    "__3.) Escreva uma função que receba dois valores inteiros\n",
    "positivos, e retorne a soma da sequencia numérica inteira\n",
    "entre o primeiro e o segundo parâmetros, inclusive__"
   ]
  },
  {
   "cell_type": "code",
   "execution_count": 155,
   "metadata": {},
   "outputs": [],
   "source": [
    "def my_func3(a, b):\n",
    "    \n",
    "    soma = 0\n",
    "    \n",
    "    if a > b:\n",
    "        z = a\n",
    "        a = b\n",
    "        b = z\n",
    "        \n",
    "    for i in range(a,b+1):\n",
    "        soma += i\n",
    "        \n",
    "    return soma"
   ]
  },
  {
   "cell_type": "code",
   "execution_count": 157,
   "metadata": {},
   "outputs": [
    {
     "data": {
      "text/plain": [
       "14"
      ]
     },
     "execution_count": 157,
     "metadata": {},
     "output_type": "execute_result"
    }
   ],
   "source": [
    "my_func3(5,2)"
   ]
  },
  {
   "cell_type": "markdown",
   "metadata": {},
   "source": [
    "__4.) Dado um número inteiro não negativo (n), escreva duas\n",
    "funções sendo a primeira usando estruturas de repetição\n",
    "FOR e a segunda usando estruturas de repetição WHILE,\n",
    "que retornem o fatorial de n (n!)__"
   ]
  },
  {
   "cell_type": "code",
   "execution_count": 87,
   "metadata": {},
   "outputs": [],
   "source": [
    "def my_func4_1(n):\n",
    "    fact = 1\n",
    "    for i in range(1,n+1):\n",
    "        fact = fact * i\n",
    "    return fact"
   ]
  },
  {
   "cell_type": "code",
   "execution_count": 126,
   "metadata": {},
   "outputs": [
    {
     "data": {
      "text/plain": [
       "1"
      ]
     },
     "execution_count": 126,
     "metadata": {},
     "output_type": "execute_result"
    }
   ],
   "source": [
    "my_func4_1(0)"
   ]
  },
  {
   "cell_type": "code",
   "execution_count": 115,
   "metadata": {},
   "outputs": [],
   "source": [
    "def my_func4_2(n):\n",
    "    i = 1\n",
    "    fact = 1\n",
    "    \n",
    "    while i <= n:\n",
    "        fact *= i\n",
    "        i += 1\n",
    "        \n",
    "    return fact"
   ]
  },
  {
   "cell_type": "code",
   "execution_count": 127,
   "metadata": {},
   "outputs": [
    {
     "data": {
      "text/plain": [
       "1"
      ]
     },
     "execution_count": 127,
     "metadata": {},
     "output_type": "execute_result"
    }
   ],
   "source": [
    "my_func4_2(0)"
   ]
  }
 ],
 "metadata": {
  "kernelspec": {
   "display_name": "Python 3",
   "language": "python",
   "name": "python3"
  },
  "language_info": {
   "codemirror_mode": {
    "name": "ipython",
    "version": 3
   },
   "file_extension": ".py",
   "mimetype": "text/x-python",
   "name": "python",
   "nbconvert_exporter": "python",
   "pygments_lexer": "ipython3",
   "version": "3.7.3"
  }
 },
 "nbformat": 4,
 "nbformat_minor": 2
}
