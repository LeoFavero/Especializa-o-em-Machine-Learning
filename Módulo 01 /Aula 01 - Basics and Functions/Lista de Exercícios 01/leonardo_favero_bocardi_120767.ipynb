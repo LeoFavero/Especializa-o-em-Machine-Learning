{
 "cells": [
  {
   "cell_type": "markdown",
   "metadata": {},
   "source": [
    "# Lista de Exercícios 1\n",
    "\n",
    "### Esta é a lista de exercícios práticos onde serão trabalhados conceitos apresentados e exercitados em sala de aula\n",
    "\n",
    "### Aspectos como clareza e organização do código, comentários, raciocínio lógico, coerência no nome de variáveis, classes e funções, utilização das estruturas mais adequadas para a solução dos problemas e o funcionamento adequado serão analisados.\n",
    "\n",
    "### Procure entender exatamente o que se pede antes de iniciar a codificação. Quando se sabe o que é necessário fazer a codificação fica mais fácil, mais eficiente e mais divertida ;-)\n",
    "\n",
    "### Faça o upload do notebook Jupyter completo nomeado da seguinte forma: nome_sobrenome_RA.ipynb.\n",
    "\n",
    "### Por fim, boa sorte e enjoy!"
   ]
  },
  {
   "cell_type": "markdown",
   "metadata": {},
   "source": [
    "<hr>"
   ]
  },
  {
   "cell_type": "markdown",
   "metadata": {},
   "source": [
    "## Exercício 1\n",
    "\n",
    "### Crie uma função com o nome *prime_number* que receberá um número como argumento. \n",
    "### Regras:\n",
    "* O argumento recebido pela função deverá ser inteiro e positivo e maior que zero, caso negativo deverá retornar a mensagem \"invalid argument\"\n",
    "* Caso o argumento recebido seja válido, a função deverá verificar se trata-se de um número primo e caso positivo, retornar a mensagem \"prime number\", caso contrário \"not a prime number\"\n",
    "* O valor máximo que a função calculará é de 5,5 * 10^7. Caso o número passado como argumento seja maior, retornar a mensagem \"argument out of range\""
   ]
  },
  {
   "cell_type": "code",
   "execution_count": 2,
   "metadata": {},
   "outputs": [],
   "source": [
    "def prime_number(num):\n",
    "    \n",
    "    # check if negative or zero\n",
    "    if num <= 0:\n",
    "        return \"invalid argument\"\n",
    "    \n",
    "    # check if out of defined range\n",
    "    if num > 5.5e7:\n",
    "        return \"argument out of range\"\n",
    "    \n",
    "    # 2 is prime but is out of for loop check\n",
    "    if num == 2:\n",
    "        return \"prime number\"\n",
    "    \n",
    "    # 1 and all other even higher than 2 are not prime\n",
    "    if num == 1 or num%2 == 0:\n",
    "        return \"not a prime number\"\n",
    "    \n",
    "    # check all even number up to num-1, if divisible by any number in the loop = not prime. \n",
    "    for n in range(3,num,2):\n",
    "        \n",
    "        if num%n == 0:\n",
    "            return \"not a prime number\"\n",
    "            break\n",
    "        \n",
    "    else:\n",
    "        return \"prime number\""
   ]
  },
  {
   "cell_type": "code",
   "execution_count": 9,
   "metadata": {},
   "outputs": [
    {
     "data": {
      "text/plain": [
       "'not a prime number'"
      ]
     },
     "execution_count": 9,
     "metadata": {},
     "output_type": "execute_result"
    }
   ],
   "source": [
    "prime_number(4)"
   ]
  },
  {
   "cell_type": "markdown",
   "metadata": {},
   "source": [
    "<hr>"
   ]
  },
  {
   "cell_type": "markdown",
   "metadata": {},
   "source": [
    "## Exercício 2\n",
    "\n",
    "### Crie uma função com o nome *sum_of_products* que receba duas listas numéricas como argumento.\n",
    "\n",
    "### Regras:\n",
    "* Verificar todo o conteúdo das duas listas e retornar a mensagem de erro \"wrong number\" caso algum elemento não seja um número\n",
    "* A função deverá retornar a soma dos produtos de elementos de mesmo indice de cada lista\n",
    "* Caso uma das listas tenha mais elementos que a outra, considere o valor 1 para o produto com cada elemento da lista com maior número de elementos\n",
    "* Caso as duas listas estejam vazias, retornar -1."
   ]
  },
  {
   "cell_type": "code",
   "execution_count": 11,
   "metadata": {},
   "outputs": [],
   "source": [
    "def num_of_products(list1,list2):\n",
    "    \n",
    "    product = []\n",
    "    sum_product = 0\n",
    "    \n",
    "    # check if list1 has only numbers\n",
    "    for i in list1:\n",
    "        if type(i) != int and type(i) != float:\n",
    "            return \"wrong number\"\n",
    "    \n",
    "    # check if list2 has only numbers\n",
    "    for i in list2:\n",
    "        if type(i) != int and type(i) != float:\n",
    "            return \"wrong number\"\n",
    "    \n",
    "    # check if any list is empty\n",
    "    if len(list1) == 0 or len(list2) == 0:\n",
    "        return -1\n",
    "    \n",
    "    # check lists lenght and assign to aux list\n",
    "    if len(list1) > len(list2):\n",
    "        small_list = list2\n",
    "        large_list = list1\n",
    "    \n",
    "    else:\n",
    "        small_list = list1\n",
    "        large_list = list2\n",
    "    \n",
    "    # iterate through lists and perform the operations\n",
    "    for i in range(0,len(large_list)):\n",
    "        \n",
    "        if i < len(small_list):\n",
    "            product.append(list1[i]*list2[i])\n",
    "            \n",
    "        else:\n",
    "            product.append(1)\n",
    "            \n",
    "        sum_product += product[i]\n",
    "    \n",
    "    print(f\" the sum of the products from both lists is: {sum_product}\")"
   ]
  },
  {
   "cell_type": "code",
   "execution_count": 13,
   "metadata": {},
   "outputs": [
    {
     "name": "stdout",
     "output_type": "stream",
     "text": [
      " the sum of the products from both lists is: 12\n"
     ]
    }
   ],
   "source": [
    "num_of_products([2,2,2],[2,2,2])"
   ]
  },
  {
   "cell_type": "markdown",
   "metadata": {},
   "source": [
    "<hr>"
   ]
  },
  {
   "cell_type": "markdown",
   "metadata": {},
   "source": [
    "## Exercício 3\n",
    "\n",
    "### Supondo que a população de um país A seja da ordem de 90.000.000 habitantes com uma taxa anual de crescimento de 3% ao ano e que a população de um país B seja aproximadamente de 200.000.000 habitantes com uma taxa anual de cresciemento de 1,5% ao ano\n",
    "\n",
    "### Crie uma função de nome *growth_rate* que calcule e retorne o número de anos necessários para que a população do país A ultrapasse ou iguale a população do país B, mantidas essas taxas de crescimento.\n",
    "\n",
    "### Regras:\n",
    "* A função deverá receber 2 argumentos, population_a e population_b e verificar se são numéricos inteiros e maiores que zero\n",
    "* Caso um dos argumentos não obedeça a condição acima, a função deverá retornar a mensagem \"invalid argument\""
   ]
  },
  {
   "cell_type": "code",
   "execution_count": 5,
   "metadata": {},
   "outputs": [],
   "source": [
    "def growth_rate(population_a, population_b):\n",
    "    \n",
    "    year = 0\n",
    "    \n",
    "    # check conditions\n",
    "    if (population_a <= 0 or type(population_a) != int) or (population_b <= 0 or type(population_b) != int):\n",
    "        return \"invalid argument\"\n",
    "    \n",
    "    # loop increasing both populations untill condition is met\n",
    "    while population_a <= population_b:\n",
    "        population_a *= 1.030\n",
    "        population_b *= 1.015\n",
    "        year += 1\n",
    "        \n",
    "    print(f\"it will take {year} years for country A population to be equal or higher than country B population\")"
   ]
  },
  {
   "cell_type": "code",
   "execution_count": 6,
   "metadata": {},
   "outputs": [
    {
     "name": "stdout",
     "output_type": "stream",
     "text": [
      "it will take 212 years for country A population to be equal or higher than country B population\n"
     ]
    }
   ],
   "source": [
    "growth_rate(9,200)"
   ]
  },
  {
   "cell_type": "markdown",
   "metadata": {},
   "source": [
    "<hr>"
   ]
  },
  {
   "cell_type": "markdown",
   "metadata": {},
   "source": [
    "## Exercício 4\n",
    "\n",
    "### Crie uma função chamada *count_list* que receberá uma lista de números como argumento.\n",
    "\n",
    "### A função deverá retornar um *dictionary* com as seguintes informações a respeito dos elementos da lista:\n",
    "* **max** - o maior elemento\n",
    "* **sum** - a soma dos elementos\n",
    "* **occurs** - o número de ocorrências do primeiro elemento da lista\n",
    "* **mean** - a média dos elementos\n",
    "* **near-mean** - o valor mais próximo da média dos elementos\n",
    "* **minus** - a soma dos elementos com valor negativo"
   ]
  },
  {
   "cell_type": "code",
   "execution_count": 7,
   "metadata": {},
   "outputs": [],
   "source": [
    "def count_list(*args):\n",
    "    \n",
    "    my_dict = {\"max\":0,\"sum\":0,\"occurs\":0,\"mean\":0,\"near-mean\":0,\"minus\":0}\n",
    "    \n",
    "    # max\n",
    "    my_dict[\"max\"] = max(args)\n",
    "    \n",
    "    # sum\n",
    "    my_dict[\"sum\"] = sum(args)\n",
    "    \n",
    "    # occurs\n",
    "    my_dict[\"occurs\"] = args.count(args[0])\n",
    "    \n",
    "    # mean\n",
    "    my_dict[\"mean\"] = sum(args)/len(args)\n",
    "    \n",
    "    # near-mean\n",
    "    my_dict[\"near-mean\"] = min(args, key=lambda x:abs(x-my_dict[\"mean\"]))\n",
    "    \n",
    "    # minus\n",
    "    my_dict[\"minus\"] = sum(i for i in args if i < 0)\n",
    "    \n",
    "    return my_dict"
   ]
  },
  {
   "cell_type": "code",
   "execution_count": 8,
   "metadata": {},
   "outputs": [
    {
     "data": {
      "text/plain": [
       "{'max': 8,\n",
       " 'sum': 32,\n",
       " 'occurs': 2,\n",
       " 'mean': 2.909090909090909,\n",
       " 'near-mean': 3,\n",
       " 'minus': -5}"
      ]
     },
     "execution_count": 8,
     "metadata": {},
     "output_type": "execute_result"
    }
   ],
   "source": [
    "count_list(1,2,3,4,5,1,6,7,8,-2,-3)"
   ]
  }
 ],
 "metadata": {
  "kernelspec": {
   "display_name": "Python 3",
   "language": "python",
   "name": "python3"
  },
  "language_info": {
   "codemirror_mode": {
    "name": "ipython",
    "version": 3
   },
   "file_extension": ".py",
   "mimetype": "text/x-python",
   "name": "python",
   "nbconvert_exporter": "python",
   "pygments_lexer": "ipython3",
   "version": "3.7.3"
  }
 },
 "nbformat": 4,
 "nbformat_minor": 2
}
