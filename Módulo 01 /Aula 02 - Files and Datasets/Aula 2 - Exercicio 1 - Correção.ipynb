{
 "cells": [
  {
   "cell_type": "code",
   "execution_count": 8,
   "metadata": {},
   "outputs": [],
   "source": [
    "from datetime import datetime\n",
    "from math import pow\n",
    "\n",
    "def process_file(file):\n",
    "    # limit file-size and file-date\n",
    "    limit_file_size = 2 * pow(2, 20)\n",
    "    limit_file_date = datetime(2000, 2, 28)\n",
    "    \n",
    "    # names\n",
    "    names = []\n",
    "    \n",
    "    # open file in text read-only mode\n",
    "    with open(file, 'r') as f:\n",
    "        # iterate each line\n",
    "        for line in f:\n",
    "            # remove carriage return\n",
    "            line = line.strip()\n",
    "\n",
    "            # slicing line to get data\n",
    "            owner = line[0:6].strip()\n",
    "            size = line[6:12].strip().lower()\n",
    "            date = line[13:24].strip()\n",
    "\n",
    "            # parsing date\n",
    "            file_date = datetime.strptime(date, '%d %b %Y')\n",
    "\n",
    "            # parsing file size\n",
    "            if 'k' in size:\n",
    "                file_size = float(size.replace('k', '').strip()) * 1024\n",
    "            elif 'm' in size:\n",
    "                file_size = float(size.replace('m', '').strip()) * pow(1024, 2)\n",
    "            elif 'g' in size:\n",
    "                file_size = float(size.replace('g', '').strip()) * pow(1024, 3)\n",
    "            else:\n",
    "                file_size = int(size.strip())\n",
    "\n",
    "            if file_size < limit_file_size and file_date < limit_file_date:\n",
    "                names.append(owner)\n",
    "\n",
    "    return len(set(names))"
   ]
  },
  {
   "cell_type": "code",
   "execution_count": 9,
   "metadata": {
    "scrolled": false
   },
   "outputs": [
    {
     "data": {
      "text/plain": [
       "4"
      ]
     },
     "execution_count": 9,
     "metadata": {},
     "output_type": "execute_result"
    }
   ],
   "source": [
    "process_file('files.txt')"
   ]
  },
  {
   "cell_type": "code",
   "execution_count": null,
   "metadata": {},
   "outputs": [],
   "source": []
  }
 ],
 "metadata": {
  "kernelspec": {
   "display_name": "Python 3",
   "language": "python",
   "name": "python3"
  },
  "language_info": {
   "codemirror_mode": {
    "name": "ipython",
    "version": 3
   },
   "file_extension": ".py",
   "mimetype": "text/x-python",
   "name": "python",
   "nbconvert_exporter": "python",
   "pygments_lexer": "ipython3",
   "version": "3.7.4"
  }
 },
 "nbformat": 4,
 "nbformat_minor": 2
}
