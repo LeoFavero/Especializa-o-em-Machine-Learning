{
 "cells": [
  {
   "cell_type": "code",
   "execution_count": 3,
   "metadata": {},
   "outputs": [],
   "source": [
    "import threading, time, random"
   ]
  },
  {
   "cell_type": "code",
   "execution_count": 28,
   "metadata": {},
   "outputs": [],
   "source": [
    "class TimesTable(threading.Thread):\n",
    "    def __init__(self, n):\n",
    "        threading.Thread.__init__(self)\n",
    "        self.n = n\n",
    "\n",
    "    def run(self):\n",
    "        print('Thread: ', threading.current_thread().name, ' running...')\n",
    "        r = []\n",
    "        for i in range(1, 11):\n",
    "            r.append(i * self.n)\n",
    "        time.sleep(random.randrange(4, 10))\n",
    "        print(r)"
   ]
  },
  {
   "cell_type": "code",
   "execution_count": 30,
   "metadata": {},
   "outputs": [
    {
     "name": "stdout",
     "output_type": "stream",
     "text": [
      "Start...\n",
      "Thread:  Thread-164  running...\n",
      "Thread:  Thread-165  running...\n",
      "Thread:  Thread-166  running...\n",
      "Thread:  Thread: Thread-167  running...\n",
      " Thread-168  running...\n",
      "Thread:  Thread-169  running...\n",
      "Thread: Thread:  Thread-170  running...\n",
      " Thread-171  running...\n",
      "Thread: Thread:  Thread-172  running...\n",
      " Thread-173  running...\n",
      "[2, 4, 6, 8, 10, 12, 14, 16, 18, 20]\n",
      "[5, 10, 15, 20, 25, 30, 35, 40, 45, 50][9, 18, 27, 36, 45, 54, 63, 72, 81, 90]\n",
      "\n",
      "[4, 8, 12, 16, 20, 24, 28, 32, 36, 40]\n",
      "[7, 14, 21, 28, 35, 42, 49, 56, 63, 70]\n",
      "[1, 2, 3, 4, 5, 6, 7, 8, 9, 10][3, 6, 9, 12, 15, 18, 21, 24, 27, 30]\n",
      "\n",
      "[6, 12, 18, 24, 30, 36, 42, 48, 54, 60][8, 16, 24, 32, 40, 48, 56, 64, 72, 80]\n",
      "\n",
      "[10, 20, 30, 40, 50, 60, 70, 80, 90, 100]\n",
      "Finish!\n"
     ]
    }
   ],
   "source": [
    "print('Start...')\n",
    "threads = []\n",
    "[threads.append(TimesTable(i)) for i in range(1, 11)]\n",
    "[t.start() for t in threads]\n",
    "[t.join() for t in threads]\n",
    "print('Finish!')"
   ]
  },
  {
   "cell_type": "markdown",
   "metadata": {},
   "source": [
    "## Outra forma"
   ]
  },
  {
   "cell_type": "code",
   "execution_count": 33,
   "metadata": {},
   "outputs": [],
   "source": [
    "def times_table(n):\n",
    "    time.sleep(random.randrange(4, 10))\n",
    "    print([n * i for i in range(1, 11)])"
   ]
  },
  {
   "cell_type": "code",
   "execution_count": 34,
   "metadata": {},
   "outputs": [
    {
     "name": "stdout",
     "output_type": "stream",
     "text": [
      "[2, 4, 6, 8, 10, 12, 14, 16, 18, 20][5, 10, 15, 20, 25, 30, 35, 40, 45, 50]\n",
      "[7, 14, 21, 28, 35, 42, 49, 56, 63, 70]\n",
      "[10, 20, 30, 40, 50, 60, 70, 80, 90, 100]\n",
      "\n",
      "[3, 6, 9, 12, 15, 18, 21, 24, 27, 30]\n",
      "[1, 2, 3, 4, 5, 6, 7, 8, 9, 10]\n",
      "[4, 8, 12, 16, 20, 24, 28, 32, 36, 40]\n",
      "[6, 12, 18, 24, 30, 36, 42, 48, 54, 60][8, 16, 24, 32, 40, 48, 56, 64, 72, 80][9, 18, 27, 36, 45, 54, 63, 72, 81, 90]\n",
      "\n",
      "\n"
     ]
    }
   ],
   "source": [
    "for i in range(1, 11):\n",
    "    threading.Thread(target=times_table, args=(i,)).start()"
   ]
  },
  {
   "cell_type": "code",
   "execution_count": 35,
   "metadata": {},
   "outputs": [
    {
     "name": "stdout",
     "output_type": "stream",
     "text": [
      "[5, 10, 15, 20, 25, 30, 35, 40, 45, 50]\n",
      "[10, 20, 30, 40, 50, 60, 70, 80, 90, 100]\n",
      "[1, 2, 3, 4, 5, 6, 7, 8, 9, 10][4, 8, 12, 16, 20, 24, 28, 32, 36, 40]\n",
      "\n",
      "[8, 16, 24, 32, 40, 48, 56, 64, 72, 80]\n",
      "[9, 18, 27, 36, 45, 54, 63, 72, 81, 90]\n",
      "[3, 6, 9, 12, 15, 18, 21, 24, 27, 30][7, 14, 21, 28, 35, 42, 49, 56, 63, 70]\n",
      "[6, 12, 18, 24, 30, 36, 42, 48, 54, 60]\n",
      "[2, 4, 6, 8, 10, 12, 14, 16, 18, 20]\n",
      "\n"
     ]
    }
   ],
   "source": [
    "t = [threading.Thread(target=times_table, args=(i,)).start() for i in range(1, 11)]"
   ]
  },
  {
   "cell_type": "code",
   "execution_count": null,
   "metadata": {},
   "outputs": [],
   "source": []
  }
 ],
 "metadata": {
  "kernelspec": {
   "display_name": "Python 3",
   "language": "python",
   "name": "python3"
  },
  "language_info": {
   "codemirror_mode": {
    "name": "ipython",
    "version": 3
   },
   "file_extension": ".py",
   "mimetype": "text/x-python",
   "name": "python",
   "nbconvert_exporter": "python",
   "pygments_lexer": "ipython3",
   "version": "3.7.3"
  }
 },
 "nbformat": 4,
 "nbformat_minor": 2
}
