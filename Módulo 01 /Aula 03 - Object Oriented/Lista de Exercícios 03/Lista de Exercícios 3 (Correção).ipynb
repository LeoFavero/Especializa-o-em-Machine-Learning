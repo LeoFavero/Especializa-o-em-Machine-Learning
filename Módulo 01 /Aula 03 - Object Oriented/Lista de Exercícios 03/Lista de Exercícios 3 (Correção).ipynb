{
 "cells": [
  {
   "cell_type": "code",
   "execution_count": 2,
   "metadata": {},
   "outputs": [],
   "source": [
    "import csv\n",
    "import json\n",
    "import threading\n",
    "import statistics\n",
    "from operator import attrgetter\n",
    "from itertools import groupby"
   ]
  },
  {
   "cell_type": "code",
   "execution_count": 3,
   "metadata": {},
   "outputs": [],
   "source": [
    "class Election2016(object):\n",
    "    def __init__(self, dict):\n",
    "        self.cod_municipio_tse = int(dict['cod_municipio_tse'])\n",
    "        self.uf = dict['uf']\n",
    "        self.nome_municipio = dict['nome_municipio']\n",
    "        self.total_eleitores = int(dict['total_eleitores'])\n",
    "        self.f_16 = int(dict['f_16'])\n",
    "        self.f_17 = int(dict['f_17'])\n",
    "        self.f_18_20 = int(dict['f_18_20'])\n",
    "        self.f_21_24 = int(dict['f_21_24'])\n",
    "        self.f_25_34 = int(dict['f_25_34'])\n",
    "        self.f_35_44 = int(dict['f_35_44'])\n",
    "        self.f_45_59 = int(dict['f_45_59'])\n",
    "        self.f_60_69 = int(dict['f_60_69'])\n",
    "        self.f_70_79 = int(dict['f_70_79'])\n",
    "        self.f_sup_79 = int(dict['f_sup_79'])\n",
    "        self.gen_feminino = int(dict['gen_feminino'])\n",
    "        self.gen_masculino = int(dict['gen_masculino'])\n",
    "        self.gen_nao_informado = int(dict['gen_nao_informado'])\n",
    "\n",
    "    def __str__(self):\n",
    "        return self.nome_municipio"
   ]
  },
  {
   "cell_type": "code",
   "execution_count": 4,
   "metadata": {},
   "outputs": [],
   "source": [
    "def read_file():\n",
    "    with open('/tmp/BR_eleitorado_2016_municipio.csv', 'r', encoding='utf-8') as f:\n",
    "        reader = csv.DictReader(f, delimiter=';')\n",
    "        return [Election2016(p) for p in reader]"
   ]
  },
  {
   "cell_type": "code",
   "execution_count": 5,
   "metadata": {},
   "outputs": [],
   "source": [
    "def write_file(electionList, filename):\n",
    "    with open(filename, 'w', newline='', encoding='utf-8') as w:\n",
    "        writer = csv.DictWriter(w, delimiter=';', fieldnames=['cod_municipio_tse', 'uf', 'nome_municipio', 'total_eleitores',\n",
    "                                    'f_16', 'f_17', 'f_18_20', 'f_21_24', 'f_25_34', 'f_35_44','f_45_59',\n",
    "                                    'f_60_69', 'f_70_79', 'f_sup_79', 'gen_feminino', 'gen_masculino',\n",
    "                                    'gen_nao_informado'])\n",
    "        writer.writeheader()\n",
    "        writer.writerows(list(map(vars, electionList)))"
   ]
  },
  {
   "cell_type": "code",
   "execution_count": 6,
   "metadata": {},
   "outputs": [],
   "source": [
    "def group_female_by_uf(ufs, grouped_by_uf):\n",
    "    # summarize females by UF\n",
    "    sum_by_uf = [sum(x.gen_feminino for x in y) for y in grouped_by_uf]\n",
    "\n",
    "    # group UF and sum of females\n",
    "    return list(zip(ufs, sum_by_uf))"
   ]
  },
  {
   "cell_type": "code",
   "execution_count": 7,
   "metadata": {},
   "outputs": [],
   "source": [
    "def save_statistics(group_female_uf):\n",
    "    sum_by_uf = [s[1] for s in group_female_uf]\n",
    "    \n",
    "    jsonContent = {\n",
    "        \"Media aritmetica\": statistics.mean(sum_by_uf),\n",
    "        \"Mediana\" : statistics.median(sum_by_uf),\n",
    "        \"Variancia\" : statistics.variance(sum_by_uf),\n",
    "        \"Desvio Padrao\" : statistics.stdev(sum_by_uf)\n",
    "    }\n",
    "    \n",
    "    with open('pleito_2016_stat.json', 'w') as f:\n",
    "        json.dump(jsonContent, f, indent=4)\n"
   ]
  },
  {
   "cell_type": "code",
   "execution_count": 8,
   "metadata": {},
   "outputs": [],
   "source": [
    "def save_election_by_uf(grouped_by_uf):\n",
    "    for election_uf in grouped_by_uf:\n",
    "        threading.Thread(target=write_file, args=(election_uf, '/tmp/' + election_uf[0].uf + '.csv')).start()"
   ]
  },
  {
   "cell_type": "code",
   "execution_count": 9,
   "metadata": {},
   "outputs": [],
   "source": [
    "# read the file\n",
    "election = read_file()\n",
    "\n",
    "# sort and write into sorted file\n",
    "sorted_election = sorted(election, key=attrgetter('uf', 'cod_municipio_tse'))\n",
    "write_file(sorted_election, '/tmp/pleito_2016_classificado.csv')\n",
    "\n",
    "# get UFs and group by them\n",
    "ufs = [k for k, g in groupby(sorted_election, key=attrgetter('uf'))]\n",
    "grouped_by_uf = [list(g) for k, g in groupby(sorted_election, key=attrgetter('uf'))]\n",
    "\n",
    "# female statistics\n",
    "group_female = group_female_by_uf(ufs, grouped_by_uf)\n",
    "save_statistics(group_female)\n",
    "\n",
    "# save grouped by UF\n",
    "save_election_by_uf(grouped_by_uf)"
   ]
  },
  {
   "cell_type": "code",
   "execution_count": null,
   "metadata": {},
   "outputs": [],
   "source": []
  }
 ],
 "metadata": {
  "kernelspec": {
   "display_name": "Python 3",
   "language": "python",
   "name": "python3"
  },
  "language_info": {
   "codemirror_mode": {
    "name": "ipython",
    "version": 3
   },
   "file_extension": ".py",
   "mimetype": "text/x-python",
   "name": "python",
   "nbconvert_exporter": "python",
   "pygments_lexer": "ipython3",
   "version": "3.7.3"
  }
 },
 "nbformat": 4,
 "nbformat_minor": 2
}
