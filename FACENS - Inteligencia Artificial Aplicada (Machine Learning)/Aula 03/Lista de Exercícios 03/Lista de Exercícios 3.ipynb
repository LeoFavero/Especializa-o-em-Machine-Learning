{
 "cells": [
  {
   "cell_type": "markdown",
   "metadata": {},
   "source": [
    "# Lista de Exercícios 3\n",
    "\n",
    "### Esta é a lista de exercícios práticos onde serão trabalhados conceitos apresentados e exercitados em sala de aula\n",
    "\n",
    "### Aspectos como clareza e organização do código, comentários, raciocínio lógico, coerência no nome de variáveis, classes e funções, utilização das estruturas mais adequadas para a solução dos problemas e o funcionamento adequado serão analisados e irão compor o valor da nota final\n",
    "\n",
    "### Procure entender exatamente o que se pede antes de iniciar a codificação. Quando se sabe o que é necessário fazer a codificação fica mais fácil, mais eficiente e mais divertida ;-)\n",
    "\n",
    "### Faça o upload do notebook Jupyter completo nomeado da seguinte forma: nome_sobrenome_RA.ipynb. Arquivos com nomes incorretos serão desconsiderados\n",
    "\n",
    "### Por fim, boa sorte e enjoy!"
   ]
  },
  {
   "cell_type": "markdown",
   "metadata": {},
   "source": [
    "<hr>"
   ]
  },
  {
   "attachments": {},
   "cell_type": "markdown",
   "metadata": {},
   "source": [
    "## Exercício \n",
    "\n",
    "### Considere um dataset em formato CSV com informações estatísticas sobre as eleições brasileiras do ano de 2016. (fonte http://www.tse.jus.br)\n",
    "\n",
    "### O arquivo (BR_eleitorado_2016_municipio.csv) contém dados segmentados por município, estado da federação, faixas etárias e gêneros. O arquivo foi gerado com encoding utf-8.\n",
    "\n",
    "### O arquivo está sem um critério de ordenação\n",
    "\n",
    "### Pede-se:\n",
    "1. Construa uma função que efetue a leitura do arquivo, criando uma lista de objetos que representem sua estrutura de dados do arquivo (classe __Election2016__)\n",
    "2. Gere um arquivo tipo CSV codificado em utf-8 com o nome __pleito_2016_classificado.csv__ com todas as informações lidas do arquivo anterior, classificadas pelas colunas uf e cod_municipio_tse consecutivamente\n",
    "3. Construa uma função de nome __group_female_by_uf()__ que deverá agrupar, sumarizar e retornar uma lista de tuplas com a quantidade de eleitoras por estado (uf, qtd), utilizando o recurso list comprehension (dica: utilize a função groupby() para agrupar e sum() para sumarizar)\n",
    "4. A partir da lista gerada pela função group_female_by_uf() gere um arquivo JSON com nome __pleito_2016_stat.json__ com as seguintes informações estatísticas:\n",
    "    * Média aritmética\n",
    "    * Mediana\n",
    "    * Variância\n",
    "    * Desvio Padrão\n",
    "5. Crie uma função chamada __save_election_by_uf()__. Esta função deverá gravar em arquivos CSV, as mesmas informações do arquivo principal (BR_eleitorado_2016_municipio.csv) com a mesma estrutura, porém separando um arquivo por unidade federativa (UF). Cada arquivo deverá ter o nome da uf. Os arquivos deverão ser gravados por threads separadas favorecendo dessa forma o desempenho do programa no momento da gravação."
   ]
  },
  {
   "cell_type": "code",
   "execution_count": null,
   "metadata": {},
   "outputs": [],
   "source": []
  },
  {
   "cell_type": "code",
   "execution_count": null,
   "metadata": {},
   "outputs": [],
   "source": []
  },
  {
   "cell_type": "code",
   "execution_count": null,
   "metadata": {},
   "outputs": [],
   "source": []
  },
  {
   "cell_type": "code",
   "execution_count": null,
   "metadata": {},
   "outputs": [],
   "source": []
  },
  {
   "cell_type": "code",
   "execution_count": null,
   "metadata": {},
   "outputs": [],
   "source": []
  },
  {
   "cell_type": "code",
   "execution_count": null,
   "metadata": {},
   "outputs": [],
   "source": []
  }
 ],
 "metadata": {
  "kernelspec": {
   "display_name": "Python 3",
   "language": "python",
   "name": "python3"
  },
  "language_info": {
   "codemirror_mode": {
    "name": "ipython",
    "version": 3
   },
   "file_extension": ".py",
   "mimetype": "text/x-python",
   "name": "python",
   "nbconvert_exporter": "python",
   "pygments_lexer": "ipython3",
   "version": "3.7.3"
  }
 },
 "nbformat": 4,
 "nbformat_minor": 2
}
