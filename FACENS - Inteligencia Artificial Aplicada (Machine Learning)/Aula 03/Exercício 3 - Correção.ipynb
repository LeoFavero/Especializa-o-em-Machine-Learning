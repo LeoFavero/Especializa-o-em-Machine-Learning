{
 "cells": [
  {
   "cell_type": "code",
   "execution_count": 5,
   "metadata": {},
   "outputs": [],
   "source": [
    "import math"
   ]
  },
  {
   "cell_type": "code",
   "execution_count": 13,
   "metadata": {},
   "outputs": [],
   "source": [
    "def tr(l1, l2, l3):\n",
    "    l = [l1, l2, l3]\n",
    "\n",
    "    hip = max(l)\n",
    "    l.remove(hip)\n",
    "\n",
    "    cat1 = l[0]\n",
    "    cat2 = l[1]\n",
    "\n",
    "    if math.pow(hip, 2) == math.pow(cat1, 2) + math.pow(cat2, 2):\n",
    "        return True\n",
    "    else:\n",
    "        return False"
   ]
  },
  {
   "cell_type": "code",
   "execution_count": 14,
   "metadata": {},
   "outputs": [],
   "source": [
    "assert tr(3, 4, 5)\n",
    "assert not tr(3, 3, 3)\n",
    "assert not tr(3, 4, 6)"
   ]
  },
  {
   "cell_type": "code",
   "execution_count": 16,
   "metadata": {},
   "outputs": [],
   "source": [
    "def tr2(l1, l2, l3):\n",
    "    l = [l1, l2, l3]\n",
    "\n",
    "    hip = max(l)\n",
    "    l.remove(hip)\n",
    "\n",
    "    cat1 = l[0]\n",
    "    cat2 = l[1]\n",
    "\n",
    "    if hip == math.sqrt(math.pow(cat1, 2) + math.pow(cat2, 2)):\n",
    "        return True\n",
    "    else:\n",
    "        return False\n"
   ]
  },
  {
   "cell_type": "code",
   "execution_count": 17,
   "metadata": {},
   "outputs": [],
   "source": [
    "assert tr2(3, 4, 5)\n",
    "assert not tr2(3, 3, 3)\n",
    "assert not tr2(3, 4, 6)"
   ]
  },
  {
   "cell_type": "code",
   "execution_count": null,
   "metadata": {},
   "outputs": [],
   "source": []
  }
 ],
 "metadata": {
  "kernelspec": {
   "display_name": "Python 3",
   "language": "python",
   "name": "python3"
  },
  "language_info": {
   "codemirror_mode": {
    "name": "ipython",
    "version": 3
   },
   "file_extension": ".py",
   "mimetype": "text/x-python",
   "name": "python",
   "nbconvert_exporter": "python",
   "pygments_lexer": "ipython3",
   "version": "3.7.3"
  }
 },
 "nbformat": 4,
 "nbformat_minor": 2
}
