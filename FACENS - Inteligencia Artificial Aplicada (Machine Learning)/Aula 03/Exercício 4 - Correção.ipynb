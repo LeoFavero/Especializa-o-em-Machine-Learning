{
 "cells": [
  {
   "cell_type": "code",
   "execution_count": 6,
   "metadata": {},
   "outputs": [],
   "source": [
    "import csv\n",
    "from datetime import datetime\n",
    "from operator import attrgetter"
   ]
  },
  {
   "cell_type": "code",
   "execution_count": 15,
   "metadata": {},
   "outputs": [],
   "source": [
    "class Customer(object):\n",
    "    def __init__(self, table):\n",
    "        self.id = table['id']\n",
    "        self.name = table['name']\n",
    "        self.gender = table['gender']\n",
    "        self.birthday = datetime.strptime(table['birthday'], '%d/%m/%Y')\n",
    "        self.email = table['email']\n",
    "        self.active = True if table['active'] == 'True' else False\n",
    "\n",
    "    def __str__(self):\n",
    "        return str(vars(self))"
   ]
  },
  {
   "cell_type": "code",
   "execution_count": 16,
   "metadata": {},
   "outputs": [],
   "source": [
    "def save_csv(file, header, content):\n",
    "    with open(file, 'w', newline='') as f:\n",
    "        writer = csv.DictWriter(f, delimiter=';', fieldnames=header)\n",
    "        writer.writeheader()\n",
    "        writer.writerows(list(map(vars, content)))"
   ]
  },
  {
   "cell_type": "code",
   "execution_count": 17,
   "metadata": {},
   "outputs": [],
   "source": [
    "def save_txt(file, content):\n",
    "    with open(file, 'w') as f:\n",
    "        for line in content:\n",
    "            f.write(str(line) + '\\n')"
   ]
  },
  {
   "cell_type": "code",
   "execution_count": 18,
   "metadata": {},
   "outputs": [],
   "source": [
    "with open('/tmp/customers.csv', 'r', encoding='utf-8') as f:\n",
    "    # read customers into list if Customers\n",
    "    reader = csv.DictReader(f, delimiter=';')\n",
    "    customers = [Customer(c) for c in reader]\n",
    "\n",
    "    # filter active customers sorted by id\n",
    "    sorted_active_customers = sorted(list(filter(lambda c: c.active, customers)), key=attrgetter('id'))\n",
    "\n",
    "    # filter inactive male customers sorted by name\n",
    "    inactive_male_customers = list(filter(lambda c: c.active == False and c.gender == 'Male', customers))\n",
    "    sorted_inactive_male_customers = sorted(inactive_male_customers, key=attrgetter('name'))\n",
    "\n",
    "    # save CVS file\n",
    "    header = ['id', 'name', 'gender', 'birthday', 'email', 'active']\n",
    "    save_csv('/tmp/actives.csv', header, sorted_active_customers)\n",
    "\n",
    "    # save TXT file\n",
    "    save_txt('/tmp/male_inactives.txt', sorted_inactive_male_customers)\n"
   ]
  },
  {
   "cell_type": "code",
   "execution_count": null,
   "metadata": {},
   "outputs": [],
   "source": []
  }
 ],
 "metadata": {
  "kernelspec": {
   "display_name": "Python 3",
   "language": "python",
   "name": "python3"
  },
  "language_info": {
   "codemirror_mode": {
    "name": "ipython",
    "version": 3
   },
   "file_extension": ".py",
   "mimetype": "text/x-python",
   "name": "python",
   "nbconvert_exporter": "python",
   "pygments_lexer": "ipython3",
   "version": "3.7.3"
  }
 },
 "nbformat": 4,
 "nbformat_minor": 2
}
