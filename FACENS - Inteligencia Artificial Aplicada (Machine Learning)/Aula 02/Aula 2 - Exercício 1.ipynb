{
 "cells": [
  {
   "cell_type": "markdown",
   "metadata": {},
   "source": [
    "## Exercício 1\n",
    "\n",
    "### Considere um arquivo texto que contem uma lista de arquivos (files.txt). Cada linha desse arquivo, possui as seguintes informações:\n",
    "- Nome do criador do arquivo, 6 posições, alinhado à esquerda\n",
    "- Tamanho do arquivo no formato human-readable size (ex. 2K – 2 kilobytes, 3M – 3 megabytes, 5G – 5 gigabytes, ou o número total de bytes caso menor que 1K), com 7 posições, alinhado à direita sendo o caracter mais à direita um espaço em branco\n",
    "- Data de criação com 11 posições, no formato dd MMM YYYY (ex: 05 Jun 2005), acompanhado de um espaço em branco à direita\n",
    "- Nome do arquivo, até o final da linha\n",
    "\n",
    "### Pede-se\n",
    "- Crie uma função que receba como parâmetro o nome do arquivo\n",
    "- A função deverá abrir o arquivo em modo somente leitura e retornar a quantidade de nomes dos criadores de arquivo únicos considerando que:\n",
    "- O tamanho máximo do arquivo em bytes, seja menor que 2 * (2^20) (2 vezes 2 elevado à vigésima potencia)\n",
    "- A data de criação do arquivo seja anterior à 28 de Fevereiro de 2000.\n"
   ]
  },
  {
   "cell_type": "code",
   "execution_count": 5,
   "metadata": {},
   "outputs": [],
   "source": [
    "from datetime import datetime\n",
    "from math import pow\n",
    "\n",
    "def openFile(file):\n",
    "    \n",
    "    # create filters\n",
    "    limit_file_size = 2 * pow(2, 20)\n",
    "    limit_file_date = datetime(2000, 2, 28)\n",
    "    \n",
    "    names = []\n",
    "    \n",
    "    # open file in text read-only mode\n",
    "    with open(file) as f:\n",
    "        for line in f:\n",
    "            # remove carriage return\n",
    "            line = line.strip()\n",
    "\n",
    "            # slicing line to get data\n",
    "            owner = line[0:6].strip()\n",
    "            size = line[6:12].strip().lower()\n",
    "            date = line[13:24].strip()\n",
    "\n",
    "            # parsing date\n",
    "            file_date = datetime.strptime(date, '%d %b %Y')\n",
    "\n",
    "            # parsing file size\n",
    "            if 'k' in size:\n",
    "                file_size = float(size.replace('k', '').strip()) * 1024\n",
    "            elif 'm' in size:\n",
    "                file_size = float(size.replace('m', '').strip()) * pow(1024, 2)\n",
    "            elif 'g' in size:\n",
    "                file_size = float(size.replace('g', '').strip()) * pow(1024, 3)\n",
    "            else:\n",
    "                file_size = int(size.strip())\n",
    "\n",
    "            if file_size < limit_file_size and file_date < limit_file_date:\n",
    "                names.append(owner)\n",
    "\n",
    "    return len(set(names))"
   ]
  },
  {
   "cell_type": "code",
   "execution_count": 6,
   "metadata": {},
   "outputs": [
    {
     "data": {
      "text/plain": [
       "4"
      ]
     },
     "execution_count": 6,
     "metadata": {},
     "output_type": "execute_result"
    }
   ],
   "source": [
    "openFile(\"files.txt\")"
   ]
  }
 ],
 "metadata": {
  "kernelspec": {
   "display_name": "Python 3",
   "language": "python",
   "name": "python3"
  },
  "language_info": {
   "codemirror_mode": {
    "name": "ipython",
    "version": 3
   },
   "file_extension": ".py",
   "mimetype": "text/x-python",
   "name": "python",
   "nbconvert_exporter": "python",
   "pygments_lexer": "ipython3",
   "version": "3.7.4"
  }
 },
 "nbformat": 4,
 "nbformat_minor": 2
}
