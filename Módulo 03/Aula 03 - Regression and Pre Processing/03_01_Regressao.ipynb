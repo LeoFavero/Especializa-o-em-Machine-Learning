{
 "cells": [
  {
   "cell_type": "markdown",
   "metadata": {},
   "source": [
    "## A combinação NumPy, Pandas e Scikit-Learn é muito poderosa\n",
    "\n",
    "Embora O Scikit-Learn seja responsável por facilitar grande parte do pipeline de Machine Learning, dois componentes são essenciais para ler arquivos e manipular as informações: NumPy e Pandas. O NumPy auxilia a manipulação matricial dos dados, que é fundamental para aprendizado de máquina; enquanto o Pandas atua como um facilitador para a manipulação de dados de forma menos estruturada.\n",
    "\n",
    "*Esse conteúdo é baseado no capítulo 'Machine Learning' de Numerical Python, segunda edição, de Robert Johannson.*\n",
    "\n",
    "A seguir é utilizado o comando read_csv do Pandas para ter acesso aos dados do arquivo 'energy_data.csv', e o comando *describe* gera um sumário dos dados quando possível. A nomenclatura df para a variável vem de DataFrame do Pandas, mas poderia ser o nome que o programador quisesse dar."
   ]
  },
  {
   "cell_type": "code",
   "execution_count": 1,
   "metadata": {},
   "outputs": [
    {
     "data": {
      "text/html": [
       "<div>\n",
       "<style scoped>\n",
       "    .dataframe tbody tr th:only-of-type {\n",
       "        vertical-align: middle;\n",
       "    }\n",
       "\n",
       "    .dataframe tbody tr th {\n",
       "        vertical-align: top;\n",
       "    }\n",
       "\n",
       "    .dataframe thead th {\n",
       "        text-align: right;\n",
       "    }\n",
       "</style>\n",
       "<table border=\"1\" class=\"dataframe\">\n",
       "  <thead>\n",
       "    <tr style=\"text-align: right;\">\n",
       "      <th></th>\n",
       "      <th>Appliances</th>\n",
       "      <th>lights</th>\n",
       "      <th>T1</th>\n",
       "      <th>RH_1</th>\n",
       "      <th>T2</th>\n",
       "      <th>RH_2</th>\n",
       "      <th>T3</th>\n",
       "      <th>RH_3</th>\n",
       "      <th>T4</th>\n",
       "      <th>RH_4</th>\n",
       "      <th>...</th>\n",
       "      <th>T9</th>\n",
       "      <th>RH_9</th>\n",
       "      <th>T_out</th>\n",
       "      <th>Press_mm_hg</th>\n",
       "      <th>RH_out</th>\n",
       "      <th>Windspeed</th>\n",
       "      <th>Visibility</th>\n",
       "      <th>Tdewpoint</th>\n",
       "      <th>rv1</th>\n",
       "      <th>rv2</th>\n",
       "    </tr>\n",
       "  </thead>\n",
       "  <tbody>\n",
       "    <tr>\n",
       "      <td>count</td>\n",
       "      <td>19735.000000</td>\n",
       "      <td>19735.000000</td>\n",
       "      <td>19735.000000</td>\n",
       "      <td>19735.000000</td>\n",
       "      <td>19735.000000</td>\n",
       "      <td>19735.000000</td>\n",
       "      <td>19735.000000</td>\n",
       "      <td>19735.000000</td>\n",
       "      <td>19735.000000</td>\n",
       "      <td>19735.000000</td>\n",
       "      <td>...</td>\n",
       "      <td>19735.000000</td>\n",
       "      <td>19735.000000</td>\n",
       "      <td>19735.000000</td>\n",
       "      <td>19735.000000</td>\n",
       "      <td>19735.000000</td>\n",
       "      <td>19735.000000</td>\n",
       "      <td>19735.000000</td>\n",
       "      <td>19735.000000</td>\n",
       "      <td>19735.000000</td>\n",
       "      <td>19735.000000</td>\n",
       "    </tr>\n",
       "    <tr>\n",
       "      <td>mean</td>\n",
       "      <td>97.694958</td>\n",
       "      <td>3.801875</td>\n",
       "      <td>21.686571</td>\n",
       "      <td>40.259739</td>\n",
       "      <td>20.341219</td>\n",
       "      <td>40.420420</td>\n",
       "      <td>22.267611</td>\n",
       "      <td>39.242500</td>\n",
       "      <td>20.855335</td>\n",
       "      <td>39.026904</td>\n",
       "      <td>...</td>\n",
       "      <td>19.485828</td>\n",
       "      <td>41.552401</td>\n",
       "      <td>7.411665</td>\n",
       "      <td>755.522602</td>\n",
       "      <td>79.750418</td>\n",
       "      <td>4.039752</td>\n",
       "      <td>38.330834</td>\n",
       "      <td>3.760707</td>\n",
       "      <td>24.988033</td>\n",
       "      <td>24.988033</td>\n",
       "    </tr>\n",
       "    <tr>\n",
       "      <td>std</td>\n",
       "      <td>102.524891</td>\n",
       "      <td>7.935988</td>\n",
       "      <td>1.606066</td>\n",
       "      <td>3.979299</td>\n",
       "      <td>2.192974</td>\n",
       "      <td>4.069813</td>\n",
       "      <td>2.006111</td>\n",
       "      <td>3.254576</td>\n",
       "      <td>2.042884</td>\n",
       "      <td>4.341321</td>\n",
       "      <td>...</td>\n",
       "      <td>2.014712</td>\n",
       "      <td>4.151497</td>\n",
       "      <td>5.317409</td>\n",
       "      <td>7.399441</td>\n",
       "      <td>14.901088</td>\n",
       "      <td>2.451221</td>\n",
       "      <td>11.794719</td>\n",
       "      <td>4.194648</td>\n",
       "      <td>14.496634</td>\n",
       "      <td>14.496634</td>\n",
       "    </tr>\n",
       "    <tr>\n",
       "      <td>min</td>\n",
       "      <td>10.000000</td>\n",
       "      <td>0.000000</td>\n",
       "      <td>16.790000</td>\n",
       "      <td>27.023333</td>\n",
       "      <td>16.100000</td>\n",
       "      <td>20.463333</td>\n",
       "      <td>17.200000</td>\n",
       "      <td>28.766667</td>\n",
       "      <td>15.100000</td>\n",
       "      <td>27.660000</td>\n",
       "      <td>...</td>\n",
       "      <td>14.890000</td>\n",
       "      <td>29.166667</td>\n",
       "      <td>-5.000000</td>\n",
       "      <td>729.300000</td>\n",
       "      <td>24.000000</td>\n",
       "      <td>0.000000</td>\n",
       "      <td>1.000000</td>\n",
       "      <td>-6.600000</td>\n",
       "      <td>0.005322</td>\n",
       "      <td>0.005322</td>\n",
       "    </tr>\n",
       "    <tr>\n",
       "      <td>25%</td>\n",
       "      <td>50.000000</td>\n",
       "      <td>0.000000</td>\n",
       "      <td>20.760000</td>\n",
       "      <td>37.333333</td>\n",
       "      <td>18.790000</td>\n",
       "      <td>37.900000</td>\n",
       "      <td>20.790000</td>\n",
       "      <td>36.900000</td>\n",
       "      <td>19.530000</td>\n",
       "      <td>35.530000</td>\n",
       "      <td>...</td>\n",
       "      <td>18.000000</td>\n",
       "      <td>38.500000</td>\n",
       "      <td>3.666667</td>\n",
       "      <td>750.933333</td>\n",
       "      <td>70.333333</td>\n",
       "      <td>2.000000</td>\n",
       "      <td>29.000000</td>\n",
       "      <td>0.900000</td>\n",
       "      <td>12.497889</td>\n",
       "      <td>12.497889</td>\n",
       "    </tr>\n",
       "    <tr>\n",
       "      <td>50%</td>\n",
       "      <td>60.000000</td>\n",
       "      <td>0.000000</td>\n",
       "      <td>21.600000</td>\n",
       "      <td>39.656667</td>\n",
       "      <td>20.000000</td>\n",
       "      <td>40.500000</td>\n",
       "      <td>22.100000</td>\n",
       "      <td>38.530000</td>\n",
       "      <td>20.666667</td>\n",
       "      <td>38.400000</td>\n",
       "      <td>...</td>\n",
       "      <td>19.390000</td>\n",
       "      <td>40.900000</td>\n",
       "      <td>6.916667</td>\n",
       "      <td>756.100000</td>\n",
       "      <td>83.666667</td>\n",
       "      <td>3.666667</td>\n",
       "      <td>40.000000</td>\n",
       "      <td>3.433333</td>\n",
       "      <td>24.897653</td>\n",
       "      <td>24.897653</td>\n",
       "    </tr>\n",
       "    <tr>\n",
       "      <td>75%</td>\n",
       "      <td>100.000000</td>\n",
       "      <td>0.000000</td>\n",
       "      <td>22.600000</td>\n",
       "      <td>43.066667</td>\n",
       "      <td>21.500000</td>\n",
       "      <td>43.260000</td>\n",
       "      <td>23.290000</td>\n",
       "      <td>41.760000</td>\n",
       "      <td>22.100000</td>\n",
       "      <td>42.156667</td>\n",
       "      <td>...</td>\n",
       "      <td>20.600000</td>\n",
       "      <td>44.338095</td>\n",
       "      <td>10.408333</td>\n",
       "      <td>760.933333</td>\n",
       "      <td>91.666667</td>\n",
       "      <td>5.500000</td>\n",
       "      <td>40.000000</td>\n",
       "      <td>6.566667</td>\n",
       "      <td>37.583769</td>\n",
       "      <td>37.583769</td>\n",
       "    </tr>\n",
       "    <tr>\n",
       "      <td>max</td>\n",
       "      <td>1080.000000</td>\n",
       "      <td>70.000000</td>\n",
       "      <td>26.260000</td>\n",
       "      <td>63.360000</td>\n",
       "      <td>29.856667</td>\n",
       "      <td>56.026667</td>\n",
       "      <td>29.236000</td>\n",
       "      <td>50.163333</td>\n",
       "      <td>26.200000</td>\n",
       "      <td>51.090000</td>\n",
       "      <td>...</td>\n",
       "      <td>24.500000</td>\n",
       "      <td>53.326667</td>\n",
       "      <td>26.100000</td>\n",
       "      <td>772.300000</td>\n",
       "      <td>100.000000</td>\n",
       "      <td>14.000000</td>\n",
       "      <td>66.000000</td>\n",
       "      <td>15.500000</td>\n",
       "      <td>49.996530</td>\n",
       "      <td>49.996530</td>\n",
       "    </tr>\n",
       "  </tbody>\n",
       "</table>\n",
       "<p>8 rows × 28 columns</p>\n",
       "</div>"
      ],
      "text/plain": [
       "         Appliances        lights            T1          RH_1            T2  \\\n",
       "count  19735.000000  19735.000000  19735.000000  19735.000000  19735.000000   \n",
       "mean      97.694958      3.801875     21.686571     40.259739     20.341219   \n",
       "std      102.524891      7.935988      1.606066      3.979299      2.192974   \n",
       "min       10.000000      0.000000     16.790000     27.023333     16.100000   \n",
       "25%       50.000000      0.000000     20.760000     37.333333     18.790000   \n",
       "50%       60.000000      0.000000     21.600000     39.656667     20.000000   \n",
       "75%      100.000000      0.000000     22.600000     43.066667     21.500000   \n",
       "max     1080.000000     70.000000     26.260000     63.360000     29.856667   \n",
       "\n",
       "               RH_2            T3          RH_3            T4          RH_4  \\\n",
       "count  19735.000000  19735.000000  19735.000000  19735.000000  19735.000000   \n",
       "mean      40.420420     22.267611     39.242500     20.855335     39.026904   \n",
       "std        4.069813      2.006111      3.254576      2.042884      4.341321   \n",
       "min       20.463333     17.200000     28.766667     15.100000     27.660000   \n",
       "25%       37.900000     20.790000     36.900000     19.530000     35.530000   \n",
       "50%       40.500000     22.100000     38.530000     20.666667     38.400000   \n",
       "75%       43.260000     23.290000     41.760000     22.100000     42.156667   \n",
       "max       56.026667     29.236000     50.163333     26.200000     51.090000   \n",
       "\n",
       "       ...            T9          RH_9         T_out   Press_mm_hg  \\\n",
       "count  ...  19735.000000  19735.000000  19735.000000  19735.000000   \n",
       "mean   ...     19.485828     41.552401      7.411665    755.522602   \n",
       "std    ...      2.014712      4.151497      5.317409      7.399441   \n",
       "min    ...     14.890000     29.166667     -5.000000    729.300000   \n",
       "25%    ...     18.000000     38.500000      3.666667    750.933333   \n",
       "50%    ...     19.390000     40.900000      6.916667    756.100000   \n",
       "75%    ...     20.600000     44.338095     10.408333    760.933333   \n",
       "max    ...     24.500000     53.326667     26.100000    772.300000   \n",
       "\n",
       "             RH_out     Windspeed    Visibility     Tdewpoint           rv1  \\\n",
       "count  19735.000000  19735.000000  19735.000000  19735.000000  19735.000000   \n",
       "mean      79.750418      4.039752     38.330834      3.760707     24.988033   \n",
       "std       14.901088      2.451221     11.794719      4.194648     14.496634   \n",
       "min       24.000000      0.000000      1.000000     -6.600000      0.005322   \n",
       "25%       70.333333      2.000000     29.000000      0.900000     12.497889   \n",
       "50%       83.666667      3.666667     40.000000      3.433333     24.897653   \n",
       "75%       91.666667      5.500000     40.000000      6.566667     37.583769   \n",
       "max      100.000000     14.000000     66.000000     15.500000     49.996530   \n",
       "\n",
       "                rv2  \n",
       "count  19735.000000  \n",
       "mean      24.988033  \n",
       "std       14.496634  \n",
       "min        0.005322  \n",
       "25%       12.497889  \n",
       "50%       24.897653  \n",
       "75%       37.583769  \n",
       "max       49.996530  \n",
       "\n",
       "[8 rows x 28 columns]"
      ]
     },
     "execution_count": 1,
     "metadata": {},
     "output_type": "execute_result"
    }
   ],
   "source": [
    "import pandas as pd\n",
    "\n",
    "df = pd.read_csv('energy_data.csv')\n",
    "df.describe()"
   ]
  },
  {
   "cell_type": "markdown",
   "metadata": {},
   "source": [
    "Esse conjunto de dados está disponível em https://archive.ics.uci.edu/ml/datasets/Appliances+energy+prediction# e um Github do artigo que originou essa contribuição está disponível em https://github.com/LuisM78/Appliances-energy-prediction-data.\n",
    "\n",
    "O objetivo é utilizar as informações de clima fora e dentro de uma casa para estimar o consumo de energia elétrico que aquela casa, naquelas condições meteorológicas, demandaria. Portanto, serão considerados atributos todas as colunas exceto Appliace, e essa coluna será utilizada como *target*."
   ]
  },
  {
   "cell_type": "code",
   "execution_count": 2,
   "metadata": {},
   "outputs": [],
   "source": [
    "X = df.drop(['Appliances','date'],axis=1)\n",
    "y = df.Appliances"
   ]
  },
  {
   "cell_type": "code",
   "execution_count": 3,
   "metadata": {},
   "outputs": [
    {
     "name": "stdout",
     "output_type": "stream",
     "text": [
      "(19735, 27)\n",
      "(19735,)\n"
     ]
    }
   ],
   "source": [
    "print(X.shape)\n",
    "print(y.shape)"
   ]
  },
  {
   "cell_type": "markdown",
   "metadata": {},
   "source": [
    "São 27 atributos que farão a composição de X, e o total de amostras são 19735. Por se tratar de um problema de regressão, serão importados os módulos do Scikit-Learn para a separação dos dados e a geração dos regressores (modelos de regressão). Em seguida, os dados são separados com o comando *train_test_split* e um modelo de Regressão Linear é treinado com a função *fit*.\n",
    "\n",
    "**Vamos supor um cenário com 20 amostras do conjunto inicial para propósitos didáticos:**"
   ]
  },
  {
   "cell_type": "code",
   "execution_count": 4,
   "metadata": {},
   "outputs": [
    {
     "name": "stderr",
     "output_type": "stream",
     "text": [
      "/Users/leonardofaverobocardi/anaconda3/anaconda3/envs/python3/lib/python3.7/site-packages/sklearn/utils/__init__.py:4: DeprecationWarning: Using or importing the ABCs from 'collections' instead of from 'collections.abc' is deprecated, and in 3.8 it will stop working\n",
      "  from collections import Sequence\n",
      "/Users/leonardofaverobocardi/anaconda3/anaconda3/envs/python3/lib/python3.7/site-packages/sklearn/model_selection/_split.py:18: DeprecationWarning: Using or importing the ABCs from 'collections' instead of from 'collections.abc' is deprecated, and in 3.8 it will stop working\n",
      "  from collections import Iterable\n",
      "/Users/leonardofaverobocardi/anaconda3/anaconda3/envs/python3/lib/python3.7/site-packages/sklearn/model_selection/_search.py:16: DeprecationWarning: Using or importing the ABCs from 'collections' instead of from 'collections.abc' is deprecated, and in 3.8 it will stop working\n",
      "  from collections import Mapping, namedtuple, defaultdict, Sequence\n"
     ]
    },
    {
     "data": {
      "text/plain": [
       "LinearRegression(copy_X=True, fit_intercept=True, n_jobs=1, normalize=False)"
      ]
     },
     "execution_count": 4,
     "metadata": {},
     "output_type": "execute_result"
    }
   ],
   "source": [
    "from sklearn import model_selection\n",
    "from sklearn import linear_model\n",
    "\n",
    "X_train, X_test, y_train, y_test = model_selection.train_test_split(X[:20], y[:20], test_size=0.5, random_state=42)\n",
    "model = linear_model.LinearRegression()\n",
    "\n",
    "model.fit(X_train, y_train)"
   ]
  },
  {
   "cell_type": "markdown",
   "metadata": {},
   "source": [
    "Em seguida, é importante calcular o resíduo entre o que o modelo diz e o que de fato é. Esse resíduo também pode ser acumulado como erro utilizando alguma função. Vamos verificar então qual é o erro para o próprio conjunto de treino utilizando o erro quadrático médio, e depois o erro no teste."
   ]
  },
  {
   "cell_type": "code",
   "execution_count": 5,
   "metadata": {},
   "outputs": [
    {
     "name": "stdout",
     "output_type": "stream",
     "text": [
      "MSE no treino: 9.26442286059391e-24\n",
      "MSE no teste: 10813.901431720627\n",
      "Diferença entre os erros: 10813.901431720627\n"
     ]
    }
   ],
   "source": [
    "from sklearn import metrics\n",
    "\n",
    "erro_treino = metrics.mean_squared_error(y_train,model.predict(X_train))\n",
    "print('MSE no treino:', erro_treino)\n",
    "\n",
    "erro_teste = metrics.mean_squared_error(y_test,model.predict(X_test))\n",
    "print('MSE no teste:', erro_teste)\n",
    "\n",
    "print('Diferença entre os erros:',erro_teste-erro_treino)"
   ]
  },
  {
   "cell_type": "markdown",
   "metadata": {},
   "source": [
    "É possível perceber que o erro no treino é muito baixo, praticamente zero, enquanto que o erro no teste é bastante alto (> 10k). Isso se deve a um fenômeno chamado **overfitting**. É muito comum que, quando o número de atributos seja maior que o número de amostras, a regressão fique sobreajustada (overfit) para os dados de treino, e não generaliza suficiente para o conjunto de teste."
   ]
  },
  {
   "cell_type": "markdown",
   "metadata": {},
   "source": [
    "Outra forma de analisar o resultado de uma regressão é calculando o **r²-score** pela função score do modelo de regressão:"
   ]
  },
  {
   "cell_type": "code",
   "execution_count": 6,
   "metadata": {},
   "outputs": [
    {
     "name": "stdout",
     "output_type": "stream",
     "text": [
      "r² no treino: 1.0\n",
      "r² no teste: 0.5448694683619265\n"
     ]
    }
   ],
   "source": [
    "r2 = model.score(X_train, y_train)\n",
    "print('r² no treino:', r2)\n",
    "\n",
    "r2 = model.score(X_test, y_test)\n",
    "print('r² no teste:', r2)"
   ]
  },
  {
   "cell_type": "markdown",
   "metadata": {},
   "source": [
    "Os resultados novamente indicam sobreajustamento, dado que o r² no treino é 1.0 (máximo) e o r² no teste é baixo (metade)."
   ]
  },
  {
   "cell_type": "markdown",
   "metadata": {},
   "source": [
    "Por último, também é possível visualizar essa diferença de forma gráfica. Compara-se o resíduo por amostra tanto no treino quanto no teste, e observa-se os coeficientes encontrados:"
   ]
  },
  {
   "cell_type": "code",
   "execution_count": 7,
   "metadata": {},
   "outputs": [
    {
     "data": {
      "image/png": "[encoded data removed]",
      "text/plain": [
       "<Figure size 864x216 with 3 Axes>"
      ]
     },
     "metadata": {
      "needs_background": "light"
     },
     "output_type": "display_data"
    }
   ],
   "source": [
    "%matplotlib inline\n",
    "import matplotlib.pyplot as plt\n",
    "\n",
    "import numpy as np\n",
    "import seaborn as sns\n",
    "\n",
    "def plot_residuals_and_coeff(resid_train, resid_test, coeff):\n",
    "    fig, axes = plt.subplots(1, 3, figsize=(12, 3))\n",
    "    axes[0].bar(np.arange(len(resid_train)), resid_train)\n",
    "    axes[0].set_xlabel(\"núm. amostras\")\n",
    "    axes[0].set_ylabel(\"resíduo\")\n",
    "    axes[0].set_title(\"treino\")\n",
    "    axes[1].bar(np.arange(len(resid_test)), resid_test)\n",
    "    axes[1].set_xlabel(\"núm. amostras\")\n",
    "    axes[1].set_ylabel(\"resíduo\")\n",
    "    axes[1].set_title(\"teste\")\n",
    "    axes[2].bar(np.arange(len(coeff)), coeff)\n",
    "    axes[2].set_xlabel(\"núm. coeficientes\")\n",
    "    axes[2].set_ylabel(\"coeficiente\")\n",
    "    fig.tight_layout()\n",
    "    return fig, axes\n",
    "\n",
    "residuo_treino = y_train - model.predict(X_train)\n",
    "residuo_teste  = y_test - model.predict(X_test)\n",
    "\n",
    "fig, ax = plot_residuals_and_coeff(residuo_treino, residuo_teste, model.coef_)"
   ]
  },
  {
   "cell_type": "markdown",
   "metadata": {},
   "source": [
    "É possível perceber nas escalas dos resíduos que os erros são muito maiores no conjunto de teste do que no conjunto de treino. *Uma das formas de corrigir esse problema é aplicando regularização*, forçando os coeficientes a residirem num espaço próximo. As duas normais mais comuns de regularização são L1 e L2, respectivamente LASSO e Ridge. Enquanto que L2 favorece com coeficientes menores, L1 favorece modelos que têm poucos coeficientes próximos de zero.\n",
    "\n",
    "\n",
    "**Quando usar L1 ou L2?**\n",
    "\n",
    "* L1: Deseja-se eliminar o maior número de atributos que não contribuem com o problema;\n",
    "* L2: Limitar a magnitude dos coeficientes do modelo."
   ]
  },
  {
   "cell_type": "markdown",
   "metadata": {},
   "source": [
    "**Utilizando Ridge — L2**"
   ]
  },
  {
   "cell_type": "code",
   "execution_count": 8,
   "metadata": {
    "scrolled": true
   },
   "outputs": [
    {
     "name": "stdout",
     "output_type": "stream",
     "text": [
      "MSE no treino: 276.5692078668277\n",
      "MSE no teste: 9370.116554603133\n",
      "Diferença entre os erros: 9093.547346736306\n"
     ]
    }
   ],
   "source": [
    "model = linear_model.Ridge()\n",
    "model.fit(X_train, y_train)\n",
    "\n",
    "erro_treino = metrics.mean_squared_error(y_train,model.predict(X_train))\n",
    "print('MSE no treino:', erro_treino)\n",
    "\n",
    "erro_teste = metrics.mean_squared_error(y_test,model.predict(X_test))\n",
    "print('MSE no teste:', erro_teste)\n",
    "\n",
    "print('Diferença entre os erros:',erro_teste-erro_treino)"
   ]
  },
  {
   "cell_type": "code",
   "execution_count": 9,
   "metadata": {},
   "outputs": [
    {
     "name": "stdout",
     "output_type": "stream",
     "text": [
      "r² no treino: 0.9799369453850687\n",
      "r² no teste: 0.6056348251429657\n"
     ]
    }
   ],
   "source": [
    "r2 = model.score(X_train, y_train)\n",
    "print('r² no treino:', r2)\n",
    "\n",
    "r2 = model.score(X_test, y_test)\n",
    "print('r² no teste:', r2)"
   ]
  },
  {
   "cell_type": "markdown",
   "metadata": {},
   "source": [
    "O erro no treino não é mais próximo a zero, mas é possível perceber que *o erro no teste diminuiu*. Vale lembrar que os dados do teste são mais parecidos com os dados do mundo real, ou seja, são informações que o modelo não teve acesso, portanto mais difíceis de serem previstas corretamente.\n",
    "\n",
    "Graficamente, é possível perceber uma mudança nos pesos também:"
   ]
  },
  {
   "cell_type": "code",
   "execution_count": 10,
   "metadata": {},
   "outputs": [
    {
     "data": {
      "image/png": "[encoded data removed]",
      "text/plain": [
       "<Figure size 864x216 with 3 Axes>"
      ]
     },
     "metadata": {
      "needs_background": "light"
     },
     "output_type": "display_data"
    }
   ],
   "source": [
    "residuo_treino = y_train - model.predict(X_train)\n",
    "residuo_teste  = y_test - model.predict(X_test)\n",
    "\n",
    "fig, ax = plot_residuals_and_coeff(residuo_treino, residuo_teste, model.coef_)"
   ]
  },
  {
   "cell_type": "markdown",
   "metadata": {},
   "source": [
    "**Utilizando LASSO — L1**"
   ]
  },
  {
   "cell_type": "code",
   "execution_count": 11,
   "metadata": {},
   "outputs": [
    {
     "name": "stdout",
     "output_type": "stream",
     "text": [
      "MSE no treino: 247.0044650105424\n",
      "MSE no teste: 6215.4448712824205\n",
      "Diferença entre os erros: 5968.440406271879\n"
     ]
    }
   ],
   "source": [
    "model = linear_model.Lasso(alpha=2.5)\n",
    "model.fit(X_train, y_train)\n",
    "\n",
    "erro_treino = metrics.mean_squared_error(y_train,model.predict(X_train))\n",
    "print('MSE no treino:', erro_treino)\n",
    "\n",
    "erro_teste = metrics.mean_squared_error(y_test,model.predict(X_test))\n",
    "print('MSE no teste:', erro_teste)\n",
    "\n",
    "print('Diferença entre os erros:',erro_teste-erro_treino)"
   ]
  },
  {
   "cell_type": "code",
   "execution_count": 12,
   "metadata": {},
   "outputs": [
    {
     "name": "stdout",
     "output_type": "stream",
     "text": [
      "r² no treino: 0.9820816492556735\n",
      "r² no teste: 0.7384072023871036\n"
     ]
    }
   ],
   "source": [
    "r2 = model.score(X_train, y_train)\n",
    "print('r² no treino:', r2)\n",
    "\n",
    "r2 = model.score(X_test, y_test)\n",
    "print('r² no teste:', r2)"
   ]
  },
  {
   "cell_type": "code",
   "execution_count": 13,
   "metadata": {},
   "outputs": [
    {
     "data": {
      "image/png": "[encoded data removed]",
      "text/plain": [
       "<Figure size 864x216 with 3 Axes>"
      ]
     },
     "metadata": {
      "needs_background": "light"
     },
     "output_type": "display_data"
    }
   ],
   "source": [
    "residuo_treino = y_train - model.predict(X_train)\n",
    "residuo_teste  = y_test - model.predict(X_test)\n",
    "\n",
    "fig, ax = plot_residuals_and_coeff(residuo_treino, residuo_teste, model.coef_)"
   ]
  },
  {
   "cell_type": "markdown",
   "metadata": {},
   "source": [
    "Os resultados de erro no treino são mais baixos que do Ridge, porém mais altos que a regressão linear sem regularização, porém o erro no teste caiu aproximadamente para a metade. Também é possível perceber que L1 reduziu significativamente o número de atributos que, de fato, contribuem para a solução do problema.\n",
    "\n",
    "Também é possível perceber que o **parâmetro alpha é configurável**, portanto é importante fazer uma varredura para identificar qual seria o melhor valor."
   ]
  },
  {
   "cell_type": "code",
   "execution_count": 14,
   "metadata": {},
   "outputs": [
    {
     "name": "stdout",
     "output_type": "stream",
     "text": [
      "MSE no treino: 1196.4293452842498\n",
      "MSE no teste: 9967.537507793808\n",
      "Diferença entre os erros: 8771.108162509558\n"
     ]
    }
   ],
   "source": [
    "model = linear_model.ElasticNet(alpha=1)\n",
    "model.fit(X_train, y_train)\n",
    "\n",
    "erro_treino = metrics.mean_squared_error(y_train,model.predict(X_train))\n",
    "print('MSE no treino:', erro_treino)\n",
    "\n",
    "erro_teste = metrics.mean_squared_error(y_test,model.predict(X_test))\n",
    "print('MSE no teste:', erro_teste)\n",
    "\n",
    "print('Diferença entre os erros:',erro_teste-erro_treino)"
   ]
  },
  {
   "cell_type": "code",
   "execution_count": 15,
   "metadata": {},
   "outputs": [
    {
     "name": "stdout",
     "output_type": "stream",
     "text": [
      "r² no treino: 0.9132078820976243\n",
      "r² no teste: 0.5804908456315737\n"
     ]
    }
   ],
   "source": [
    "r2 = model.score(X_train, y_train)\n",
    "print('r² no treino:', r2)\n",
    "\n",
    "r2 = model.score(X_test, y_test)\n",
    "print('r² no teste:', r2)"
   ]
  },
  {
   "cell_type": "code",
   "execution_count": 16,
   "metadata": {},
   "outputs": [
    {
     "data": {
      "image/png": "[encoded data removed]",
      "text/plain": [
       "<Figure size 864x216 with 3 Axes>"
      ]
     },
     "metadata": {
      "needs_background": "light"
     },
     "output_type": "display_data"
    }
   ],
   "source": [
    "residuo_treino = y_train - model.predict(X_train)\n",
    "residuo_teste  = y_test - model.predict(X_test)\n",
    "\n",
    "fig, ax = plot_residuals_and_coeff(residuo_treino, residuo_teste, model.coef_)"
   ]
  },
  {
   "cell_type": "markdown",
   "metadata": {},
   "source": [
    "## Exercícios\n",
    "---"
   ]
  },
  {
   "cell_type": "markdown",
   "metadata": {},
   "source": [
    "1. **Faça a busca de melhor parâmetro de alpha para reduzir o erro quadrático médio nessa base de apenas 20 amostras, considerando L1 e L2. Considere utilizar as funções LassoCV e RidgeCV, e busque informações sobre elas na documentação do Scikit-Learn.**"
   ]
  },
  {
   "cell_type": "code",
   "execution_count": 17,
   "metadata": {},
   "outputs": [],
   "source": [
    "df = pd.read_csv('energy_data.csv')\n",
    "\n",
    "X = df.drop(['Appliances','date'],axis=1)\n",
    "y = df.Appliances\n",
    "\n",
    "X_train, X_test, y_train, y_test = model_selection.train_test_split(X[:20], y[:20], test_size=0.5, random_state=42)"
   ]
  },
  {
   "cell_type": "markdown",
   "metadata": {},
   "source": [
    "#### L2-RidgeCV c/ 20 linhas de amostra"
   ]
  },
  {
   "cell_type": "code",
   "execution_count": 18,
   "metadata": {},
   "outputs": [
    {
     "name": "stdout",
     "output_type": "stream",
     "text": [
      "MSE no treino: 276.5692078668138\n",
      "MSE no teste: 9370.116554603075\n",
      "Diferença entre os erros: 9093.54734673626\n"
     ]
    }
   ],
   "source": [
    "model = linear_model.RidgeCV(alphas=(0.01,0.1,1,10,100,1000))\n",
    "model.fit(X_train, y_train)\n",
    "\n",
    "erro_treino = metrics.mean_squared_error(y_train,model.predict(X_train))\n",
    "print('MSE no treino:', erro_treino)\n",
    "\n",
    "erro_teste = metrics.mean_squared_error(y_test,model.predict(X_test))\n",
    "print('MSE no teste:', erro_teste)\n",
    "\n",
    "print('Diferença entre os erros:',erro_teste-erro_treino)"
   ]
  },
  {
   "cell_type": "code",
   "execution_count": 19,
   "metadata": {},
   "outputs": [
    {
     "name": "stdout",
     "output_type": "stream",
     "text": [
      "r² no treino: 0.9799369453850698\n",
      "r² no teste: 0.6056348251429682\n"
     ]
    }
   ],
   "source": [
    "r2 = model.score(X_train, y_train)\n",
    "print('r² no treino:', r2)\n",
    "\n",
    "r2 = model.score(X_test, y_test)\n",
    "print('r² no teste:', r2)"
   ]
  },
  {
   "cell_type": "markdown",
   "metadata": {},
   "source": [
    "#### L1-LassoCV c/ 20 linhas de amostra"
   ]
  },
  {
   "cell_type": "code",
   "execution_count": 20,
   "metadata": {},
   "outputs": [
    {
     "name": "stdout",
     "output_type": "stream",
     "text": [
      "MSE no treino: 2358.09347115067\n",
      "MSE no teste: 9508.431297283088\n",
      "Diferença entre os erros: 7150.337826132418\n"
     ]
    }
   ],
   "source": [
    "model = linear_model.LassoCV(n_alphas=100)\n",
    "model.fit(X_train, y_train)\n",
    "\n",
    "erro_treino = metrics.mean_squared_error(y_train,model.predict(X_train))\n",
    "print('MSE no treino:', erro_treino)\n",
    "\n",
    "erro_teste = metrics.mean_squared_error(y_test,model.predict(X_test))\n",
    "print('MSE no teste:', erro_teste)\n",
    "\n",
    "print('Diferença entre os erros:',erro_teste-erro_treino)"
   ]
  },
  {
   "cell_type": "code",
   "execution_count": 21,
   "metadata": {},
   "outputs": [
    {
     "name": "stdout",
     "output_type": "stream",
     "text": [
      "r² no treino: 0.8289377242545759\n",
      "r² no teste: 0.5998134975890956\n"
     ]
    }
   ],
   "source": [
    "r2 = model.score(X_train, y_train)\n",
    "print('r² no treino:', r2)\n",
    "\n",
    "r2 = model.score(X_test, y_test)\n",
    "print('r² no teste:', r2)"
   ]
  },
  {
   "cell_type": "markdown",
   "metadata": {},
   "source": [
    "---"
   ]
  },
  {
   "cell_type": "markdown",
   "metadata": {},
   "source": [
    "2. **Recarregue a base e não filtre apenas 20 amostras e aplique os modelos de regressão vistos. Tenha um olhar crítico para os seguintes questionamentos após codificar e ver os resultados:**\n",
    "    * Qual regressão teve o melhor resultado?<br> -> L1 obteve um resultado relativamente melhor\n",
    "    * Há algum sinal de overfitting?<br> -> Não há sinal de overfitting<br>\n",
    "    * Todos atributos são relevantes para o problema?<br> -> Percebe-se a remoção de 1 ou 2 atributos<br>\n",
    "    * Todos coeficientes estão em uma mesma magnitude?<br> -> Sim"
   ]
  },
  {
   "cell_type": "code",
   "execution_count": 33,
   "metadata": {},
   "outputs": [],
   "source": [
    "df = pd.read_csv('energy_data.csv')\n",
    "\n",
    "X = df.drop(['Appliances','date'],axis=1)\n",
    "y = df.Appliances\n",
    "\n",
    "X_train, X_test, y_train, y_test = model_selection.train_test_split(X, y, test_size=0.5, random_state=42)"
   ]
  },
  {
   "cell_type": "markdown",
   "metadata": {},
   "source": [
    "#### Linear Regression"
   ]
  },
  {
   "cell_type": "code",
   "execution_count": 34,
   "metadata": {},
   "outputs": [
    {
     "name": "stdout",
     "output_type": "stream",
     "text": [
      "MSE no treino: 8453.068997973538\n",
      "MSE no teste: 9135.578496437907\n",
      "Diferença entre os erros: 682.5094984643692\n"
     ]
    }
   ],
   "source": [
    "model = linear_model.LinearRegression()\n",
    "model.fit(X_train, y_train)\n",
    "\n",
    "erro_treino = metrics.mean_squared_error(y_train,model.predict(X_train))\n",
    "print('MSE no treino:', erro_treino)\n",
    "\n",
    "erro_teste = metrics.mean_squared_error(y_test,model.predict(X_test))\n",
    "print('MSE no teste:', erro_teste)\n",
    "\n",
    "print('Diferença entre os erros:',erro_teste-erro_treino)"
   ]
  },
  {
   "cell_type": "code",
   "execution_count": 35,
   "metadata": {},
   "outputs": [
    {
     "name": "stdout",
     "output_type": "stream",
     "text": [
      "r² no treino: 0.17594231144477865\n",
      "r² no teste: 0.15120352693599337\n"
     ]
    }
   ],
   "source": [
    "r2 = model.score(X_train, y_train)\n",
    "print('r² no treino:', r2)\n",
    "\n",
    "r2 = model.score(X_test, y_test)\n",
    "print('r² no teste:', r2)"
   ]
  },
  {
   "cell_type": "markdown",
   "metadata": {},
   "source": [
    "#### L2-RidgeCV"
   ]
  },
  {
   "cell_type": "code",
   "execution_count": 39,
   "metadata": {},
   "outputs": [
    {
     "name": "stdout",
     "output_type": "stream",
     "text": [
      "MSE no treino: 8453.829774717782\n",
      "MSE no teste: 9136.655442884643\n",
      "Diferença entre os erros: 682.8256681668609\n"
     ]
    }
   ],
   "source": [
    "model = linear_model.RidgeCV(alphas=(0.001,0.01,0.1,1,10,100,1000))\n",
    "model.fit(X_train, y_train)\n",
    "\n",
    "erro_treino = metrics.mean_squared_error(y_train,model.predict(X_train))\n",
    "print('MSE no treino:', erro_treino)\n",
    "\n",
    "erro_teste = metrics.mean_squared_error(y_test,model.predict(X_test))\n",
    "print('MSE no teste:', erro_teste)\n",
    "\n",
    "print('Diferença entre os erros:',erro_teste-erro_treino)"
   ]
  },
  {
   "cell_type": "code",
   "execution_count": 32,
   "metadata": {},
   "outputs": [
    {
     "name": "stdout",
     "output_type": "stream",
     "text": [
      "r² no treino: 0.17586814620070923\n",
      "r² no teste: 0.15110346667751873\n"
     ]
    }
   ],
   "source": [
    "r2 = model.score(X_train, y_train)\n",
    "print('r² no treino:', r2)\n",
    "\n",
    "r2 = model.score(X_test, y_test)\n",
    "print('r² no teste:', r2)"
   ]
  },
  {
   "cell_type": "code",
   "execution_count": 27,
   "metadata": {},
   "outputs": [
    {
     "data": {
      "image/png": "[encoded data removed]",
      "text/plain": [
       "<Figure size 864x216 with 3 Axes>"
      ]
     },
     "metadata": {
      "needs_background": "light"
     },
     "output_type": "display_data"
    }
   ],
   "source": [
    "residuo_treino = y_train - model.predict(X_train)\n",
    "residuo_teste  = y_test - model.predict(X_test)\n",
    "\n",
    "fig, ax = plot_residuals_and_coeff(residuo_treino, residuo_teste, model.coef_)"
   ]
  },
  {
   "cell_type": "markdown",
   "metadata": {},
   "source": [
    "#### L1-LassoCV"
   ]
  },
  {
   "cell_type": "code",
   "execution_count": 40,
   "metadata": {},
   "outputs": [
    {
     "name": "stdout",
     "output_type": "stream",
     "text": [
      "MSE no treino: 8456.701867572785\n",
      "MSE no teste: 9137.61493223709\n",
      "Diferença entre os erros: 680.9130646643043\n"
     ]
    }
   ],
   "source": [
    "model = linear_model.LassoCV(n_alphas=100)\n",
    "model.fit(X_train, y_train)\n",
    "\n",
    "erro_treino = metrics.mean_squared_error(y_train,model.predict(X_train))\n",
    "print('MSE no treino:', erro_treino)\n",
    "\n",
    "erro_teste = metrics.mean_squared_error(y_test,model.predict(X_test))\n",
    "print('MSE no teste:', erro_teste)\n",
    "\n",
    "print('Diferença entre os erros:',erro_teste-erro_treino)"
   ]
  },
  {
   "cell_type": "code",
   "execution_count": 29,
   "metadata": {},
   "outputs": [
    {
     "name": "stdout",
     "output_type": "stream",
     "text": [
      "r² no treino: 0.1755881567436286\n",
      "r² no teste: 0.15101431948463795\n"
     ]
    }
   ],
   "source": [
    "r2 = model.score(X_train, y_train)\n",
    "print('r² no treino:', r2)\n",
    "\n",
    "r2 = model.score(X_test, y_test)\n",
    "print('r² no teste:', r2)"
   ]
  },
  {
   "cell_type": "code",
   "execution_count": 30,
   "metadata": {
    "scrolled": false
   },
   "outputs": [
    {
     "data": {
      "image/png": "[encoded data removed]",
      "text/plain": [
       "<Figure size 864x216 with 3 Axes>"
      ]
     },
     "metadata": {
      "needs_background": "light"
     },
     "output_type": "display_data"
    }
   ],
   "source": [
    "residuo_treino = y_train - model.predict(X_train)\n",
    "residuo_teste  = y_test - model.predict(X_test)\n",
    "\n",
    "fig, ax = plot_residuals_and_coeff(residuo_treino, residuo_teste, model.coef_)"
   ]
  },
  {
   "cell_type": "markdown",
   "metadata": {},
   "source": [
    "#### Elastic Net"
   ]
  },
  {
   "cell_type": "code",
   "execution_count": 41,
   "metadata": {},
   "outputs": [
    {
     "name": "stdout",
     "output_type": "stream",
     "text": [
      "MSE no treino: 8564.79091395044\n",
      "MSE no teste: 9230.553868016415\n",
      "Diferença entre os erros: 665.7629540659746\n"
     ]
    }
   ],
   "source": [
    "model = linear_model.ElasticNetCV(n_alphas=100)\n",
    "model.fit(X_train, y_train)\n",
    "\n",
    "erro_treino = metrics.mean_squared_error(y_train,model.predict(X_train))\n",
    "print('MSE no treino:', erro_treino)\n",
    "\n",
    "erro_teste = metrics.mean_squared_error(y_test,model.predict(X_test))\n",
    "print('MSE no teste:', erro_teste)\n",
    "\n",
    "print('Diferença entre os erros:',erro_teste-erro_treino)"
   ]
  },
  {
   "cell_type": "code",
   "execution_count": 42,
   "metadata": {},
   "outputs": [
    {
     "name": "stdout",
     "output_type": "stream",
     "text": [
      "r² no treino: 0.16505096489798488\n",
      "r² no teste: 0.14237926250049926\n"
     ]
    }
   ],
   "source": [
    "r2 = model.score(X_train, y_train)\n",
    "print('r² no treino:', r2)\n",
    "\n",
    "r2 = model.score(X_test, y_test)\n",
    "print('r² no teste:', r2)"
   ]
  },
  {
   "cell_type": "code",
   "execution_count": 43,
   "metadata": {},
   "outputs": [
    {
     "data": {
      "image/png": "[encoded data removed]",
      "text/plain": [
       "<Figure size 864x216 with 3 Axes>"
      ]
     },
     "metadata": {
      "needs_background": "light"
     },
     "output_type": "display_data"
    }
   ],
   "source": [
    "residuo_treino = y_train - model.predict(X_train)\n",
    "residuo_teste  = y_test - model.predict(X_test)\n",
    "\n",
    "fig, ax = plot_residuals_and_coeff(residuo_treino, residuo_teste, model.coef_)"
   ]
  }
 ],
 "metadata": {
  "kernelspec": {
   "display_name": "Python 3",
   "language": "python",
   "name": "python3"
  },
  "language_info": {
   "codemirror_mode": {
    "name": "ipython",
    "version": 3
   },
   "file_extension": ".py",
   "mimetype": "text/x-python",
   "name": "python",
   "nbconvert_exporter": "python",
   "pygments_lexer": "ipython3",
   "version": "3.7.4"
  }
 },
 "nbformat": 4,
 "nbformat_minor": 2
}
