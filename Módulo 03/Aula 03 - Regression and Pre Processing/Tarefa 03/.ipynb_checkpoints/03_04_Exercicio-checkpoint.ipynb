{
 "cells": [
  {
   "cell_type": "markdown",
   "metadata": {},
   "source": [
    "### Desafio ENEM\n",
    "\n",
    "Você deverá montar uma regressão considerando as habilidades que adquiriu no curso, as análises e os métodos, além de partir e pesquisar por novas soluções. Nesse conjunto de dados, o objetivo é prever a nota de matemática de um candidato do ENEM considerando as outras variáveis disponíveis. Siga as etapas descritas no notebook e garanta que ao entregar todo o notebook seja executável sem estourar erros, utilizando o menu Kernel -> Restart & Run All. **Certifique-se de que o notebook roda de ponta a ponta.**\n",
    "\n",
    "Observação: Os resultados serão avaliados em uma base de teste privada, que contém uma quantidade muito maior de registros, portanto modelos sobreajustados serão penalizados.\n",
    "\n",
    "Observação 2: O treino tem quantidade de atributos diferente do conjunto de teste, esteja atento."
   ]
  },
  {
   "cell_type": "markdown",
   "metadata": {},
   "source": [
    "## **Nome da equipe:** (preencha aqui)\n",
    "\n",
    "    Integrantes (até 4):\n",
    "    \n",
    "        - Fulano de tal\n",
    "        - Beltrano\n",
    "        - Ciclano"
   ]
  },
  {
   "cell_type": "markdown",
   "metadata": {},
   "source": [
    "### Parte 1 - Carregue os dados de treino e gere um modelo após aplicar as técnicas que achar necessário."
   ]
  },
  {
   "cell_type": "code",
   "execution_count": null,
   "metadata": {},
   "outputs": [],
   "source": []
  },
  {
   "cell_type": "markdown",
   "metadata": {},
   "source": [
    "### Parte 2 - Carregue os dados de teste e aplique o modelo gerado na etapa anterior, calculando RMSE nos dados de teste."
   ]
  },
  {
   "cell_type": "code",
   "execution_count": null,
   "metadata": {},
   "outputs": [],
   "source": []
  }
 ],
 "metadata": {
  "kernelspec": {
   "display_name": "Python 3",
   "language": "python",
   "name": "python3"
  },
  "language_info": {
   "codemirror_mode": {
    "name": "ipython",
    "version": 3
   },
   "file_extension": ".py",
   "mimetype": "text/x-python",
   "name": "python",
   "nbconvert_exporter": "python",
   "pygments_lexer": "ipython3",
   "version": "3.7.4"
  }
 },
 "nbformat": 4,
 "nbformat_minor": 2
}
