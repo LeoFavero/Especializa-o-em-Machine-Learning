{
 "cells": [
  {
   "cell_type": "markdown",
   "metadata": {},
   "source": [
    "# Leonardo Favero Bocardi - RA: 120767"
   ]
  },
  {
   "cell_type": "markdown",
   "metadata": {},
   "source": [
    "## Exercício\n",
    "\n",
    "(1) Avaliar a combinação das técnicas de seleção de atributos e redução de dimensionalidade com as métricas de desempenho apropriadas e verificar se os comitês de máquina (ensemble) auxiliam na melhora do resultado."
   ]
  },
  {
   "cell_type": "code",
   "execution_count": 8,
   "metadata": {},
   "outputs": [],
   "source": [
    "from sklearn.model_selection import train_test_split\n",
    "from sklearn.linear_model import LogisticRegression\n",
    "\n",
    "from sklearn.model_selection import cross_val_score\n",
    "from sklearn.ensemble import BaggingClassifier\n",
    "\n",
    "from sklearn.ensemble import RandomForestClassifier\n",
    "from sklearn.decomposition import PCA\n",
    "\n",
    "from sklearn.metrics import accuracy_score\n",
    "\n",
    "import time"
   ]
  },
  {
   "cell_type": "code",
   "execution_count": 2,
   "metadata": {},
   "outputs": [],
   "source": [
    "from sklearn import datasets\n",
    "\n",
    "digits = datasets.load_digits()\n",
    "X = digits.data\n",
    "y = digits.target"
   ]
  },
  {
   "cell_type": "markdown",
   "metadata": {},
   "source": [
    "---"
   ]
  },
  {
   "cell_type": "markdown",
   "metadata": {},
   "source": [
    "## Hipótese 01 - Proposta em aula:\n",
    "#### *Regressão Logística com validação cruzada é mais precisa em termos de acurácia quando comparada à Regressão Logística passando por Bagging Classifier de 20 estimators em HoldOut? E com Validação Cruzada?*"
   ]
  },
  {
   "cell_type": "markdown",
   "metadata": {},
   "source": [
    "### Método 01: Regressão Logística c/ Validação Cruzada"
   ]
  },
  {
   "cell_type": "code",
   "execution_count": 3,
   "metadata": {},
   "outputs": [
    {
     "name": "stdout",
     "output_type": "stream",
     "text": [
      "Acurácia: 91.6000 +- 2.4363\n",
      "run time: 3.3855438232421875e-05\n"
     ]
    }
   ],
   "source": [
    "start = time.time()\n",
    "end = time.time()\n",
    "\n",
    "model = LogisticRegression(solver='lbfgs', multi_class='multinomial', max_iter=2000)\n",
    "\n",
    "scores = cross_val_score(model, X, y, cv=5)\n",
    "print('Acurácia: %.4f +- %.4f' % (scores.mean() * 100, scores.std() * 100))\n",
    "print('run time:',end - start)"
   ]
  },
  {
   "cell_type": "markdown",
   "metadata": {},
   "source": [
    "### Método 02: Regressão Logística em Bagging Classifier de 20 estimators c/ HoldOut"
   ]
  },
  {
   "cell_type": "code",
   "execution_count": 4,
   "metadata": {},
   "outputs": [
    {
     "name": "stdout",
     "output_type": "stream",
     "text": [
      "Acurácia: 96.6667\n",
      "run time: 4.291534423828125e-05\n"
     ]
    }
   ],
   "source": [
    "start = time.time()\n",
    "end = time.time()\n",
    "\n",
    "X_train, X_test, y_train, y_test = train_test_split(X, y, test_size=0.3)\n",
    "\n",
    "model = BaggingClassifier(LogisticRegression(), max_samples=0.5, max_features=0.5, n_estimators=20)\n",
    "model.fit(X_train,y_train)\n",
    "\n",
    "pred = model.predict(X_test)\n",
    "print('Acurácia: %.4f' % (accuracy_score(y_test, pred)*100))\n",
    "print('run time:',end - start)"
   ]
  },
  {
   "cell_type": "markdown",
   "metadata": {},
   "source": [
    "### Método 03: Regressão logística em Bagging Classifier de 20 Estimators c/ Validação Cruzada"
   ]
  },
  {
   "cell_type": "code",
   "execution_count": 5,
   "metadata": {},
   "outputs": [
    {
     "name": "stdout",
     "output_type": "stream",
     "text": [
      "Acurácia: 92.2098 +- 2.9133\n",
      "run time: 3.409385681152344e-05\n"
     ]
    }
   ],
   "source": [
    "start = time.time()\n",
    "end = time.time()\n",
    "\n",
    "model = BaggingClassifier(LogisticRegression(), max_samples=0.5, max_features=0.5, n_estimators=20)\n",
    "model.fit(X_train,y_train)\n",
    "\n",
    "\n",
    "scores = cross_val_score(model, X, y, cv=5)\n",
    "print('Acurácia: %.4f +- %.4f' % (scores.mean() * 100, scores.std() * 100))\n",
    "print('run time:',end - start)"
   ]
  },
  {
   "cell_type": "markdown",
   "metadata": {},
   "source": [
    "**Conclusão:** O método de Bagging Classifier com 20 estimators obteve um desempenho melhor das 2 maneiras quando comparados com o método simples somente com validação cruzada.<br>\n",
    "Entre os métodos de Bagging Classifier, o método 02 obteve um resultado melhor em termos de acurácia, com um tempo de execução mais longo.<br>\n",
    "O método 03 não obteve a mesma acurácia, porém foi executado mais rapidamente."
   ]
  },
  {
   "cell_type": "markdown",
   "metadata": {},
   "source": [
    "---"
   ]
  },
  {
   "cell_type": "markdown",
   "metadata": {},
   "source": [
    "## Hipótese 02 - Random Forests:\n",
    "#### *O Ensemble de Random Forest com Cross Validation é menos preciso e mais demorado do que o mesmo método após aplicar o PCA para seleção de atributos com 95% de variância*"
   ]
  },
  {
   "cell_type": "markdown",
   "metadata": {},
   "source": [
    "### Método 01: Ensemble Random Forest com Cross Validation"
   ]
  },
  {
   "cell_type": "code",
   "execution_count": 18,
   "metadata": {},
   "outputs": [
    {
     "name": "stdout",
     "output_type": "stream",
     "text": [
      "Acurácia de Random Forest: 93.2713\n",
      "run time: 6.508827209472656e-05\n"
     ]
    }
   ],
   "source": [
    "start = time.time()\n",
    "end = time.time()\n",
    "\n",
    "model = RandomForestClassifier(n_estimators=50, max_depth=None, min_samples_split=2, random_state=0)\n",
    "\n",
    "scores = cross_val_score(model, X, y, cv=5)\n",
    "print('Acurácia de Random Forest: %.4f' % (scores.mean()*100))\n",
    "print('run time:',end - start)"
   ]
  },
  {
   "cell_type": "markdown",
   "metadata": {},
   "source": [
    "### Método 02: Ensemble Random Forest com Cross Validation pós PCA de variância de 95%"
   ]
  },
  {
   "cell_type": "code",
   "execution_count": 19,
   "metadata": {},
   "outputs": [
    {
     "name": "stdout",
     "output_type": "stream",
     "text": [
      "Número original de atributos: 64\n",
      "Número reduzido de atributos: 29\n",
      "\n",
      "Acurácia de Random Forest: 93.7755\n",
      "run time: 3.5762786865234375e-05\n"
     ]
    }
   ],
   "source": [
    "start = time.time()\n",
    "end = time.time()\n",
    "\n",
    "pca = PCA(n_components=0.95, whiten=True)\n",
    "\n",
    "X_pca = pca.fit_transform(X)\n",
    "\n",
    "print('Número original de atributos:', X.shape[1])\n",
    "print('Número reduzido de atributos:', X_pca.shape[1])\n",
    "print('')\n",
    "\n",
    "model = RandomForestClassifier(n_estimators=50, max_depth=None, min_samples_split=2, random_state=0)\n",
    "\n",
    "scores = cross_val_score(model, X_pca, y, cv=5)\n",
    "print('Acurácia de Random Forest: %.4f' % (scores.mean()*100))\n",
    "print('run time:',end - start)"
   ]
  },
  {
   "cell_type": "markdown",
   "metadata": {},
   "source": [
    "**Conclusão:** \n",
    "Em termos de acurácia, ambos os métodos obtiveram o mesmo desempenho. Uma vez que a variância proposta para o método com PCA foi relativamente alta.<br>\n",
    "Porém o método 02 obteve um desempenho superior em termos de tempo de execução, uma vez que foi analisada uma quantidade menor de atributos, mantendo os 95% de variância."
   ]
  }
 ],
 "metadata": {
  "kernelspec": {
   "display_name": "Python 3",
   "language": "python",
   "name": "python3"
  },
  "language_info": {
   "codemirror_mode": {
    "name": "ipython",
    "version": 3
   },
   "file_extension": ".py",
   "mimetype": "text/x-python",
   "name": "python",
   "nbconvert_exporter": "python",
   "pygments_lexer": "ipython3",
   "version": "3.7.4"
  }
 },
 "nbformat": 4,
 "nbformat_minor": 2
}
